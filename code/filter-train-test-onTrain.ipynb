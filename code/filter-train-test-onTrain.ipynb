{
 "cells": [
  {
   "cell_type": "code",
   "execution_count": 1,
   "id": "2f4486ff-0c02-4aee-8f3a-80ca709cb51b",
   "metadata": {},
   "outputs": [],
   "source": [
    "import torch\n",
    "import torch.nn.functional as F\n",
    "import pandas as pd\n",
    "import numpy as np"
   ]
  },
  {
   "cell_type": "markdown",
   "id": "ae6d8d3c-f4ed-4f49-81d4-a4f67c9b6a26",
   "metadata": {},
   "source": [
    "获取训练集中的物料名称向量"
   ]
  },
  {
   "cell_type": "code",
   "execution_count": 2,
   "id": "5b33e0ab-6a55-4e35-8232-a5a85298571e",
   "metadata": {},
   "outputs": [
    {
     "data": {
      "text/html": [
       "<div>\n",
       "<style scoped>\n",
       "    .dataframe tbody tr th:only-of-type {\n",
       "        vertical-align: middle;\n",
       "    }\n",
       "\n",
       "    .dataframe tbody tr th {\n",
       "        vertical-align: top;\n",
       "    }\n",
       "\n",
       "    .dataframe thead th {\n",
       "        text-align: right;\n",
       "    }\n",
       "</style>\n",
       "<table border=\"1\" class=\"dataframe\">\n",
       "  <thead>\n",
       "    <tr style=\"text-align: right;\">\n",
       "      <th></th>\n",
       "      <th>id（供应商代码）</th>\n",
       "      <th>MAT_NAME（物料名称）</th>\n",
       "    </tr>\n",
       "    <tr>\n",
       "      <th>QUOTE_MAT_LINE_ID（报价单行号）</th>\n",
       "      <th></th>\n",
       "      <th></th>\n",
       "    </tr>\n",
       "  </thead>\n",
       "  <tbody>\n",
       "    <tr>\n",
       "      <th>8e24b75ce1c811ebaf97005056b12bb8</th>\n",
       "      <td>6603</td>\n",
       "      <td>液压缸吊座</td>\n",
       "    </tr>\n",
       "    <tr>\n",
       "      <th>f3afd8f4e1dc11ebaf97005056b12bb8</th>\n",
       "      <td>20958</td>\n",
       "      <td>六角头螺栓-C级GB/T5780-2000</td>\n",
       "    </tr>\n",
       "    <tr>\n",
       "      <th>1b99daf8e1de11ebaf97005056b12bb8</th>\n",
       "      <td>41982</td>\n",
       "      <td>高压水银荧光灯泡</td>\n",
       "    </tr>\n",
       "    <tr>\n",
       "      <th>1b9aac07e1de11ebaf97005056b12bb8</th>\n",
       "      <td>41982</td>\n",
       "      <td>手电筒螺口小灯泡（圆头）</td>\n",
       "    </tr>\n",
       "    <tr>\n",
       "      <th>bff9cf95e1e511ebaf97005056b12bb8</th>\n",
       "      <td>20238</td>\n",
       "      <td>外接头</td>\n",
       "    </tr>\n",
       "  </tbody>\n",
       "</table>\n",
       "</div>"
      ],
      "text/plain": [
       "                                  id（供应商代码）         MAT_NAME（物料名称）\n",
       "QUOTE_MAT_LINE_ID（报价单行号）                                          \n",
       "8e24b75ce1c811ebaf97005056b12bb8       6603                  液压缸吊座\n",
       "f3afd8f4e1dc11ebaf97005056b12bb8      20958  六角头螺栓-C级GB/T5780-2000\n",
       "1b99daf8e1de11ebaf97005056b12bb8      41982               高压水银荧光灯泡\n",
       "1b9aac07e1de11ebaf97005056b12bb8      41982           手电筒螺口小灯泡（圆头）\n",
       "bff9cf95e1e511ebaf97005056b12bb8      20238                    外接头"
      ]
     },
     "execution_count": 2,
     "metadata": {},
     "output_type": "execute_result"
    }
   ],
   "source": [
    "trainData = pd.read_csv(\"./Data_train.csv\", index_col=0)\n",
    "train_mat_names = list(trainData[\"MAT_NAME（物料名称）\"].drop_duplicates())\n",
    "trainData[:5]"
   ]
  },
  {
   "cell_type": "code",
   "execution_count": 3,
   "id": "4f3ace3b-e741-490d-9a38-ae485ff2a357",
   "metadata": {},
   "outputs": [],
   "source": [
    "trainMatVec = torch.load(\"trainMatVec\"+\".pt\")"
   ]
  },
  {
   "cell_type": "markdown",
   "id": "8ddbf82b-9124-431b-a780-e39bcf45e116",
   "metadata": {},
   "source": [
    "获取测试集中的物料名称向量"
   ]
  },
  {
   "cell_type": "code",
   "execution_count": 4,
   "id": "0f9401d3-1c3f-43de-a406-c8ca695c2555",
   "metadata": {},
   "outputs": [],
   "source": [
    "testData = pd.read_csv(\"./Data_train.csv\", index_col = 0)\n",
    "test_mat_names = list(testData[\"MAT_NAME（物料名称）\"].drop_duplicates())"
   ]
  },
  {
   "cell_type": "code",
   "execution_count": 5,
   "id": "e2279035-6a96-40f1-b5ce-29d11400f817",
   "metadata": {},
   "outputs": [
    {
     "data": {
      "text/html": [
       "<div>\n",
       "<style scoped>\n",
       "    .dataframe tbody tr th:only-of-type {\n",
       "        vertical-align: middle;\n",
       "    }\n",
       "\n",
       "    .dataframe tbody tr th {\n",
       "        vertical-align: top;\n",
       "    }\n",
       "\n",
       "    .dataframe thead th {\n",
       "        text-align: right;\n",
       "    }\n",
       "</style>\n",
       "<table border=\"1\" class=\"dataframe\">\n",
       "  <thead>\n",
       "    <tr style=\"text-align: right;\">\n",
       "      <th></th>\n",
       "      <th>id（供应商代码）</th>\n",
       "      <th>MAT_NAME（物料名称）</th>\n",
       "    </tr>\n",
       "    <tr>\n",
       "      <th>QUOTE_MAT_LINE_ID（报价单行号）</th>\n",
       "      <th></th>\n",
       "      <th></th>\n",
       "    </tr>\n",
       "  </thead>\n",
       "  <tbody>\n",
       "    <tr>\n",
       "      <th>8e24b75ce1c811ebaf97005056b12bb8</th>\n",
       "      <td>6603</td>\n",
       "      <td>液压缸吊座</td>\n",
       "    </tr>\n",
       "    <tr>\n",
       "      <th>f3afd8f4e1dc11ebaf97005056b12bb8</th>\n",
       "      <td>20958</td>\n",
       "      <td>六角头螺栓-C级GB/T5780-2000</td>\n",
       "    </tr>\n",
       "    <tr>\n",
       "      <th>1b99daf8e1de11ebaf97005056b12bb8</th>\n",
       "      <td>41982</td>\n",
       "      <td>高压水银荧光灯泡</td>\n",
       "    </tr>\n",
       "  </tbody>\n",
       "</table>\n",
       "</div>"
      ],
      "text/plain": [
       "                                  id（供应商代码）         MAT_NAME（物料名称）\n",
       "QUOTE_MAT_LINE_ID（报价单行号）                                          \n",
       "8e24b75ce1c811ebaf97005056b12bb8       6603                  液压缸吊座\n",
       "f3afd8f4e1dc11ebaf97005056b12bb8      20958  六角头螺栓-C级GB/T5780-2000\n",
       "1b99daf8e1de11ebaf97005056b12bb8      41982               高压水银荧光灯泡"
      ]
     },
     "execution_count": 5,
     "metadata": {},
     "output_type": "execute_result"
    }
   ],
   "source": [
    "testData[:3]"
   ]
  },
  {
   "cell_type": "markdown",
   "id": "7e5762c5-0451-4ada-8abb-af9d62c897a2",
   "metadata": {},
   "source": [
    "计算测试集中物料名称与训练集中的物料名称的相似度"
   ]
  },
  {
   "cell_type": "code",
   "execution_count": 8,
   "id": "f7f3ad1b-55ce-4eb8-bb7b-e18e05348459",
   "metadata": {},
   "outputs": [
    {
     "name": "stdout",
     "output_type": "stream",
     "text": [
      "torch.Size([31337, 10])\n",
      "torch.Size([31337, 10])\n"
     ]
    }
   ],
   "source": [
    "def cos_similar(p, q):\n",
    "    sim_matrix = p.matmul(q.transpose(-2, -1))\n",
    "    a = torch.norm(p, p=2, dim=-1)\n",
    "    b = torch.norm(q, p=2, dim=-1)\n",
    "    sim_matrix /= a.unsqueeze(-1)\n",
    "    sim_matrix /= b.unsqueeze(-2)\n",
    "    return sim_matrix\n",
    "with torch.no_grad(): \n",
    "    # sim_mat_score = torch.cdist(trainMatVec,trainMatVec,p=2)\n",
    "    sim_mat_score = cos_similar(trainMatVec,trainMatVec)\n",
    "    sim_mat_score = sim_mat_score.sort(axis=1, descending=True)\n",
    "    sim_mat_index = sim_mat_score.indices[:,:10]\n",
    "    sim_mat_score = sim_mat_score.values[:,:10] \n",
    "torch.cuda.empty_cache()\n",
    "print(sim_mat_score.shape)\n",
    "print(sim_mat_index.shape)"
   ]
  },
  {
   "cell_type": "code",
   "execution_count": 9,
   "id": "88c9d627-50d9-42c2-95fd-9943704d95e7",
   "metadata": {},
   "outputs": [
    {
     "data": {
      "text/plain": [
       "tensor([[    0,   532, 16106, 17646,  9977,  9976,  3484, 17888,  4874, 16260],\n",
       "        [    1,  6863, 20824,   847,   845, 30385,  2381,  2307,  6920,  9702],\n",
       "        [    2, 22823, 15387, 23665, 23897, 15365,  5237, 15282, 27887, 28793]])"
      ]
     },
     "execution_count": 9,
     "metadata": {},
     "output_type": "execute_result"
    }
   ],
   "source": [
    "sim_mat_index[:3]"
   ]
  },
  {
   "cell_type": "code",
   "execution_count": 10,
   "id": "37aa51a3-1a99-4c5b-aaa3-3a1030cfd12d",
   "metadata": {},
   "outputs": [
    {
     "data": {
      "text/plain": [
       "tensor([[1.0000, 0.9884, 0.9862, 0.9859, 0.9858, 0.9855, 0.9850, 0.9849, 0.9848,\n",
       "         0.9847],\n",
       "        [1.0000, 0.9986, 0.9806, 0.9800, 0.9798, 0.9795, 0.9795, 0.9793, 0.9789,\n",
       "         0.9787],\n",
       "        [1.0000, 0.9791, 0.9779, 0.9776, 0.9765, 0.9755, 0.9751, 0.9746, 0.9743,\n",
       "         0.9735]])"
      ]
     },
     "execution_count": 10,
     "metadata": {},
     "output_type": "execute_result"
    }
   ],
   "source": [
    "sim_mat_score[:3]"
   ]
  },
  {
   "cell_type": "code",
   "execution_count": 11,
   "id": "faa9677e-dea9-4d65-8465-41b69d2a2fa3",
   "metadata": {},
   "outputs": [],
   "source": [
    "train_mat_index = pd.DataFrame(np.arange(len(train_mat_names)), index = train_mat_names)\n",
    "test_mat_index = pd.DataFrame(np.arange(len(test_mat_names)), index = test_mat_names)"
   ]
  },
  {
   "cell_type": "code",
   "execution_count": 12,
   "id": "69ad35da-5256-4add-85c2-91df89f650ca",
   "metadata": {},
   "outputs": [
    {
     "data": {
      "text/html": [
       "<div>\n",
       "<style scoped>\n",
       "    .dataframe tbody tr th:only-of-type {\n",
       "        vertical-align: middle;\n",
       "    }\n",
       "\n",
       "    .dataframe tbody tr th {\n",
       "        vertical-align: top;\n",
       "    }\n",
       "\n",
       "    .dataframe thead th {\n",
       "        text-align: right;\n",
       "    }\n",
       "</style>\n",
       "<table border=\"1\" class=\"dataframe\">\n",
       "  <thead>\n",
       "    <tr style=\"text-align: right;\">\n",
       "      <th></th>\n",
       "      <th>0</th>\n",
       "    </tr>\n",
       "  </thead>\n",
       "  <tbody>\n",
       "    <tr>\n",
       "      <th>液压缸吊座</th>\n",
       "      <td>0</td>\n",
       "    </tr>\n",
       "    <tr>\n",
       "      <th>六角头螺栓-C级GB/T5780-2000</th>\n",
       "      <td>1</td>\n",
       "    </tr>\n",
       "    <tr>\n",
       "      <th>高压水银荧光灯泡</th>\n",
       "      <td>2</td>\n",
       "    </tr>\n",
       "  </tbody>\n",
       "</table>\n",
       "</div>"
      ],
      "text/plain": [
       "                       0\n",
       "液压缸吊座                  0\n",
       "六角头螺栓-C级GB/T5780-2000  1\n",
       "高压水银荧光灯泡               2"
      ]
     },
     "execution_count": 12,
     "metadata": {},
     "output_type": "execute_result"
    }
   ],
   "source": [
    "train_mat_index.loc[test_mat_names[:3]]"
   ]
  },
  {
   "cell_type": "code",
   "execution_count": 13,
   "id": "7058e364-fa58-4bdf-b78d-92b4666e79cc",
   "metadata": {},
   "outputs": [
    {
     "data": {
      "text/html": [
       "<div>\n",
       "<style scoped>\n",
       "    .dataframe tbody tr th:only-of-type {\n",
       "        vertical-align: middle;\n",
       "    }\n",
       "\n",
       "    .dataframe tbody tr th {\n",
       "        vertical-align: top;\n",
       "    }\n",
       "\n",
       "    .dataframe thead th {\n",
       "        text-align: right;\n",
       "    }\n",
       "</style>\n",
       "<table border=\"1\" class=\"dataframe\">\n",
       "  <thead>\n",
       "    <tr style=\"text-align: right;\">\n",
       "      <th></th>\n",
       "      <th>0</th>\n",
       "    </tr>\n",
       "  </thead>\n",
       "  <tbody>\n",
       "    <tr>\n",
       "      <th>液压缸吊座</th>\n",
       "      <td>0</td>\n",
       "    </tr>\n",
       "    <tr>\n",
       "      <th>六角头螺栓-C级GB/T5780-2000</th>\n",
       "      <td>1</td>\n",
       "    </tr>\n",
       "    <tr>\n",
       "      <th>高压水银荧光灯泡</th>\n",
       "      <td>2</td>\n",
       "    </tr>\n",
       "  </tbody>\n",
       "</table>\n",
       "</div>"
      ],
      "text/plain": [
       "                       0\n",
       "液压缸吊座                  0\n",
       "六角头螺栓-C级GB/T5780-2000  1\n",
       "高压水银荧光灯泡               2"
      ]
     },
     "execution_count": 13,
     "metadata": {},
     "output_type": "execute_result"
    }
   ],
   "source": [
    "test_mat_index[:3]"
   ]
  },
  {
   "cell_type": "code",
   "execution_count": 14,
   "id": "65759805-e78a-4373-9435-083d639f3070",
   "metadata": {},
   "outputs": [
    {
     "ename": "OSError",
     "evalue": "[Errno 122] Disk quota exceeded",
     "output_type": "error",
     "traceback": [
      "\u001b[0;31m---------------------------------------------------------------------------\u001b[0m",
      "\u001b[0;31mOSError\u001b[0m                                   Traceback (most recent call last)",
      "\u001b[0;32m/tmp/ipykernel_1501/1964448368.py\u001b[0m in \u001b[0;36m<module>\u001b[0;34m\u001b[0m\n\u001b[0;32m----> 1\u001b[0;31m \u001b[0mtorch\u001b[0m\u001b[0;34m.\u001b[0m\u001b[0msave\u001b[0m\u001b[0;34m(\u001b[0m\u001b[0msim_mat_index\u001b[0m\u001b[0;34m,\u001b[0m \u001b[0;34m\"test-train-sim_mat_index-cosine\"\u001b[0m\u001b[0;34m+\u001b[0m\u001b[0;34m\".pt\"\u001b[0m\u001b[0;34m)\u001b[0m\u001b[0;34m\u001b[0m\u001b[0;34m\u001b[0m\u001b[0m\n\u001b[0m\u001b[1;32m      2\u001b[0m \u001b[0mtorch\u001b[0m\u001b[0;34m.\u001b[0m\u001b[0msave\u001b[0m\u001b[0;34m(\u001b[0m\u001b[0msim_mat_score\u001b[0m\u001b[0;34m,\u001b[0m \u001b[0;34m\"test-train-sim_mat_score-cosine\"\u001b[0m\u001b[0;34m+\u001b[0m\u001b[0;34m\".pt\"\u001b[0m\u001b[0;34m)\u001b[0m\u001b[0;34m\u001b[0m\u001b[0;34m\u001b[0m\u001b[0m\n",
      "\u001b[0;32m~/anaconda3/envs/PyTorch-1.8/lib/python3.7/site-packages/torch/serialization.py\u001b[0m in \u001b[0;36msave\u001b[0;34m(obj, f, pickle_module, pickle_protocol, _use_new_zipfile_serialization)\u001b[0m\n\u001b[1;32m    372\u001b[0m                 \u001b[0m_save\u001b[0m\u001b[0;34m(\u001b[0m\u001b[0mobj\u001b[0m\u001b[0;34m,\u001b[0m \u001b[0mopened_zipfile\u001b[0m\u001b[0;34m,\u001b[0m \u001b[0mpickle_module\u001b[0m\u001b[0;34m,\u001b[0m \u001b[0mpickle_protocol\u001b[0m\u001b[0;34m)\u001b[0m\u001b[0;34m\u001b[0m\u001b[0;34m\u001b[0m\u001b[0m\n\u001b[1;32m    373\u001b[0m                 \u001b[0;32mreturn\u001b[0m\u001b[0;34m\u001b[0m\u001b[0;34m\u001b[0m\u001b[0m\n\u001b[0;32m--> 374\u001b[0;31m         \u001b[0m_legacy_save\u001b[0m\u001b[0;34m(\u001b[0m\u001b[0mobj\u001b[0m\u001b[0;34m,\u001b[0m \u001b[0mopened_file\u001b[0m\u001b[0;34m,\u001b[0m \u001b[0mpickle_module\u001b[0m\u001b[0;34m,\u001b[0m \u001b[0mpickle_protocol\u001b[0m\u001b[0;34m)\u001b[0m\u001b[0;34m\u001b[0m\u001b[0;34m\u001b[0m\u001b[0m\n\u001b[0m\u001b[1;32m    375\u001b[0m \u001b[0;34m\u001b[0m\u001b[0m\n\u001b[1;32m    376\u001b[0m \u001b[0;34m\u001b[0m\u001b[0m\n",
      "\u001b[0;32m~/anaconda3/envs/PyTorch-1.8/lib/python3.7/site-packages/torch/serialization.py\u001b[0m in \u001b[0;36m__exit__\u001b[0;34m(self, *args)\u001b[0m\n\u001b[1;32m    212\u001b[0m \u001b[0;34m\u001b[0m\u001b[0m\n\u001b[1;32m    213\u001b[0m     \u001b[0;32mdef\u001b[0m \u001b[0m__exit__\u001b[0m\u001b[0;34m(\u001b[0m\u001b[0mself\u001b[0m\u001b[0;34m,\u001b[0m \u001b[0;34m*\u001b[0m\u001b[0margs\u001b[0m\u001b[0;34m)\u001b[0m\u001b[0;34m:\u001b[0m\u001b[0;34m\u001b[0m\u001b[0;34m\u001b[0m\u001b[0m\n\u001b[0;32m--> 214\u001b[0;31m         \u001b[0mself\u001b[0m\u001b[0;34m.\u001b[0m\u001b[0mfile_like\u001b[0m\u001b[0;34m.\u001b[0m\u001b[0mclose\u001b[0m\u001b[0;34m(\u001b[0m\u001b[0;34m)\u001b[0m\u001b[0;34m\u001b[0m\u001b[0;34m\u001b[0m\u001b[0m\n\u001b[0m\u001b[1;32m    215\u001b[0m \u001b[0;34m\u001b[0m\u001b[0m\n\u001b[1;32m    216\u001b[0m \u001b[0;34m\u001b[0m\u001b[0m\n",
      "\u001b[0;31mOSError\u001b[0m: [Errno 122] Disk quota exceeded"
     ]
    }
   ],
   "source": [
    "torch.save(sim_mat_index, \"test-train-sim_mat_index-cosine\"+\".pt\")\n",
    "torch.save(sim_mat_score, \"test-train-sim_mat_score-cosine\"+\".pt\")"
   ]
  },
  {
   "cell_type": "code",
   "execution_count": 6,
   "id": "3a795ba4-bfdb-4a3f-9655-3bd63a503d94",
   "metadata": {},
   "outputs": [],
   "source": [
    "sim_mat_index = torch.load(\"test-train-sim_mat_index\"+\".pt\")\n",
    "sim_mat_score = torch.load(\"test-train-sim_mat_score\"+\".pt\")"
   ]
  },
  {
   "cell_type": "markdown",
   "id": "62bec9b6-c519-47a4-a363-450e947f94a9",
   "metadata": {},
   "source": [
    "获取历史每个物料对应的可提供供应商"
   ]
  },
  {
   "cell_type": "code",
   "execution_count": 15,
   "id": "0862e10c-cfff-44c7-8ffc-49ff5cc80b75",
   "metadata": {},
   "outputs": [
    {
     "data": {
      "text/html": [
       "<div>\n",
       "<style scoped>\n",
       "    .dataframe tbody tr th:only-of-type {\n",
       "        vertical-align: middle;\n",
       "    }\n",
       "\n",
       "    .dataframe tbody tr th {\n",
       "        vertical-align: top;\n",
       "    }\n",
       "\n",
       "    .dataframe thead th {\n",
       "        text-align: right;\n",
       "    }\n",
       "</style>\n",
       "<table border=\"1\" class=\"dataframe\">\n",
       "  <thead>\n",
       "    <tr style=\"text-align: right;\">\n",
       "      <th></th>\n",
       "      <th>id（供应商代码）</th>\n",
       "      <th>MAT_NAME（物料名称）</th>\n",
       "      <th>mat_id</th>\n",
       "    </tr>\n",
       "    <tr>\n",
       "      <th>QUOTE_MAT_LINE_ID（报价单行号）</th>\n",
       "      <th></th>\n",
       "      <th></th>\n",
       "      <th></th>\n",
       "    </tr>\n",
       "  </thead>\n",
       "  <tbody>\n",
       "    <tr>\n",
       "      <th>8e24b75ce1c811ebaf97005056b12bb8</th>\n",
       "      <td>6603</td>\n",
       "      <td>液压缸吊座</td>\n",
       "      <td>0</td>\n",
       "    </tr>\n",
       "    <tr>\n",
       "      <th>f3afd8f4e1dc11ebaf97005056b12bb8</th>\n",
       "      <td>20958</td>\n",
       "      <td>六角头螺栓-C级GB/T5780-2000</td>\n",
       "      <td>1</td>\n",
       "    </tr>\n",
       "  </tbody>\n",
       "</table>\n",
       "</div>"
      ],
      "text/plain": [
       "                                  id（供应商代码）         MAT_NAME（物料名称）  mat_id\n",
       "QUOTE_MAT_LINE_ID（报价单行号）                                                  \n",
       "8e24b75ce1c811ebaf97005056b12bb8       6603                  液压缸吊座       0\n",
       "f3afd8f4e1dc11ebaf97005056b12bb8      20958  六角头螺栓-C级GB/T5780-2000       1"
      ]
     },
     "execution_count": 15,
     "metadata": {},
     "output_type": "execute_result"
    }
   ],
   "source": [
    "train_id_mat = trainData.copy()\n",
    "train_id_mat[\"mat_id\"] = train_id_mat[\"MAT_NAME（物料名称）\"].apply(lambda x:train_mat_index.loc[x])\n",
    "train_id_mat[:2]"
   ]
  },
  {
   "cell_type": "code",
   "execution_count": 16,
   "id": "bedf88b0-1624-4027-98f1-5ed5254ae0e2",
   "metadata": {},
   "outputs": [
    {
     "data": {
      "text/plain": [
       "mat_id\n",
       "0                                                 {6603}\n",
       "1                                                {20958}\n",
       "2                                                {41982}\n",
       "3                                                {41982}\n",
       "4                                  {27177, 21484, 20238}\n",
       "                             ...                        \n",
       "195                         {43944, 10298, 22123, 33944}\n",
       "196                         {43944, 10298, 22123, 33944}\n",
       "197                  {13094, 43944, 22123, 33944, 10298}\n",
       "198                         {43944, 10298, 22123, 33944}\n",
       "199    {43944, 22123, 24431, 32919, 33944, 13945, 10298}\n",
       "Name: id（供应商代码）, Length: 200, dtype: object"
      ]
     },
     "execution_count": 16,
     "metadata": {},
     "output_type": "execute_result"
    }
   ],
   "source": [
    "mat_supply_ids = train_id_mat.groupby(by=\"mat_id\")[\"id（供应商代码）\"].apply(set)\n",
    "# 提供物料的历史供应商\n",
    "mat_supply_ids[:200]"
   ]
  },
  {
   "cell_type": "code",
   "execution_count": 17,
   "id": "f3043654-0f74-4059-add0-2932afb6235e",
   "metadata": {},
   "outputs": [
    {
     "data": {
      "text/plain": [
       "[0, 1, 2, 3, 4]"
      ]
     },
     "execution_count": 17,
     "metadata": {},
     "output_type": "execute_result"
    }
   ],
   "source": [
    "query_mat_index = test_mat_index.loc[testData[\"MAT_NAME（物料名称）\"].to_list()]\n",
    "query_mat_index = query_mat_index[0].to_list()\n",
    "# 物料在相似度矩阵中的下标\n",
    "query_mat_index[:5]"
   ]
  },
  {
   "cell_type": "code",
   "execution_count": 18,
   "id": "3522f0dc-c55b-4bde-8991-da71c50f1a42",
   "metadata": {},
   "outputs": [
    {
     "data": {
      "text/html": [
       "<div>\n",
       "<style scoped>\n",
       "    .dataframe tbody tr th:only-of-type {\n",
       "        vertical-align: middle;\n",
       "    }\n",
       "\n",
       "    .dataframe tbody tr th {\n",
       "        vertical-align: top;\n",
       "    }\n",
       "\n",
       "    .dataframe thead th {\n",
       "        text-align: right;\n",
       "    }\n",
       "</style>\n",
       "<table border=\"1\" class=\"dataframe\">\n",
       "  <thead>\n",
       "    <tr style=\"text-align: right;\">\n",
       "      <th></th>\n",
       "      <th>0</th>\n",
       "      <th>1</th>\n",
       "      <th>2</th>\n",
       "      <th>3</th>\n",
       "      <th>4</th>\n",
       "      <th>5</th>\n",
       "      <th>6</th>\n",
       "      <th>7</th>\n",
       "      <th>8</th>\n",
       "      <th>9</th>\n",
       "    </tr>\n",
       "  </thead>\n",
       "  <tbody>\n",
       "    <tr>\n",
       "      <th>0</th>\n",
       "      <td>0</td>\n",
       "      <td>532</td>\n",
       "      <td>16106</td>\n",
       "      <td>17646</td>\n",
       "      <td>9977</td>\n",
       "      <td>9976</td>\n",
       "      <td>3484</td>\n",
       "      <td>17888</td>\n",
       "      <td>4874</td>\n",
       "      <td>16260</td>\n",
       "    </tr>\n",
       "    <tr>\n",
       "      <th>1</th>\n",
       "      <td>1</td>\n",
       "      <td>6863</td>\n",
       "      <td>20824</td>\n",
       "      <td>847</td>\n",
       "      <td>845</td>\n",
       "      <td>30385</td>\n",
       "      <td>2381</td>\n",
       "      <td>2307</td>\n",
       "      <td>6920</td>\n",
       "      <td>9702</td>\n",
       "    </tr>\n",
       "    <tr>\n",
       "      <th>2</th>\n",
       "      <td>2</td>\n",
       "      <td>22823</td>\n",
       "      <td>15387</td>\n",
       "      <td>23665</td>\n",
       "      <td>23897</td>\n",
       "      <td>15365</td>\n",
       "      <td>5237</td>\n",
       "      <td>15282</td>\n",
       "      <td>27887</td>\n",
       "      <td>28793</td>\n",
       "    </tr>\n",
       "    <tr>\n",
       "      <th>3</th>\n",
       "      <td>3</td>\n",
       "      <td>1359</td>\n",
       "      <td>22734</td>\n",
       "      <td>15496</td>\n",
       "      <td>6350</td>\n",
       "      <td>7145</td>\n",
       "      <td>24149</td>\n",
       "      <td>23233</td>\n",
       "      <td>7144</td>\n",
       "      <td>15387</td>\n",
       "    </tr>\n",
       "  </tbody>\n",
       "</table>\n",
       "</div>"
      ],
      "text/plain": [
       "   0      1      2      3      4      5      6      7      8      9\n",
       "0  0    532  16106  17646   9977   9976   3484  17888   4874  16260\n",
       "1  1   6863  20824    847    845  30385   2381   2307   6920   9702\n",
       "2  2  22823  15387  23665  23897  15365   5237  15282  27887  28793\n",
       "3  3   1359  22734  15496   6350   7145  24149  23233   7144  15387"
      ]
     },
     "execution_count": 18,
     "metadata": {},
     "output_type": "execute_result"
    }
   ],
   "source": [
    "item_sim_mat = pd.DataFrame(sim_mat_index[query_mat_index].tolist())\n",
    "item_sim_mat[:4]"
   ]
  },
  {
   "cell_type": "code",
   "execution_count": 19,
   "id": "3400b9e0-055a-4a90-9191-3a1140d27d6c",
   "metadata": {},
   "outputs": [
    {
     "data": {
      "text/html": [
       "<div>\n",
       "<style scoped>\n",
       "    .dataframe tbody tr th:only-of-type {\n",
       "        vertical-align: middle;\n",
       "    }\n",
       "\n",
       "    .dataframe tbody tr th {\n",
       "        vertical-align: top;\n",
       "    }\n",
       "\n",
       "    .dataframe thead th {\n",
       "        text-align: right;\n",
       "    }\n",
       "</style>\n",
       "<table border=\"1\" class=\"dataframe\">\n",
       "  <thead>\n",
       "    <tr style=\"text-align: right;\">\n",
       "      <th></th>\n",
       "      <th>0</th>\n",
       "      <th>1</th>\n",
       "      <th>2</th>\n",
       "      <th>3</th>\n",
       "      <th>4</th>\n",
       "      <th>5</th>\n",
       "      <th>6</th>\n",
       "      <th>7</th>\n",
       "      <th>8</th>\n",
       "      <th>9</th>\n",
       "    </tr>\n",
       "  </thead>\n",
       "  <tbody>\n",
       "    <tr>\n",
       "      <th>0</th>\n",
       "      <td>1.0</td>\n",
       "      <td>0.988395</td>\n",
       "      <td>0.986161</td>\n",
       "      <td>0.985858</td>\n",
       "      <td>0.985771</td>\n",
       "      <td>0.985544</td>\n",
       "      <td>0.985040</td>\n",
       "      <td>0.984938</td>\n",
       "      <td>0.984750</td>\n",
       "      <td>0.984743</td>\n",
       "    </tr>\n",
       "    <tr>\n",
       "      <th>1</th>\n",
       "      <td>1.0</td>\n",
       "      <td>0.998574</td>\n",
       "      <td>0.980628</td>\n",
       "      <td>0.979959</td>\n",
       "      <td>0.979800</td>\n",
       "      <td>0.979490</td>\n",
       "      <td>0.979490</td>\n",
       "      <td>0.979322</td>\n",
       "      <td>0.978859</td>\n",
       "      <td>0.978709</td>\n",
       "    </tr>\n",
       "    <tr>\n",
       "      <th>2</th>\n",
       "      <td>1.0</td>\n",
       "      <td>0.979115</td>\n",
       "      <td>0.977861</td>\n",
       "      <td>0.977573</td>\n",
       "      <td>0.976481</td>\n",
       "      <td>0.975545</td>\n",
       "      <td>0.975066</td>\n",
       "      <td>0.974640</td>\n",
       "      <td>0.974282</td>\n",
       "      <td>0.973462</td>\n",
       "    </tr>\n",
       "    <tr>\n",
       "      <th>3</th>\n",
       "      <td>1.0</td>\n",
       "      <td>0.977554</td>\n",
       "      <td>0.971322</td>\n",
       "      <td>0.970611</td>\n",
       "      <td>0.970597</td>\n",
       "      <td>0.970107</td>\n",
       "      <td>0.969902</td>\n",
       "      <td>0.969877</td>\n",
       "      <td>0.969649</td>\n",
       "      <td>0.969549</td>\n",
       "    </tr>\n",
       "  </tbody>\n",
       "</table>\n",
       "</div>"
      ],
      "text/plain": [
       "     0         1         2         3         4         5         6         7  \\\n",
       "0  1.0  0.988395  0.986161  0.985858  0.985771  0.985544  0.985040  0.984938   \n",
       "1  1.0  0.998574  0.980628  0.979959  0.979800  0.979490  0.979490  0.979322   \n",
       "2  1.0  0.979115  0.977861  0.977573  0.976481  0.975545  0.975066  0.974640   \n",
       "3  1.0  0.977554  0.971322  0.970611  0.970597  0.970107  0.969902  0.969877   \n",
       "\n",
       "          8         9  \n",
       "0  0.984750  0.984743  \n",
       "1  0.978859  0.978709  \n",
       "2  0.974282  0.973462  \n",
       "3  0.969649  0.969549  "
      ]
     },
     "execution_count": 19,
     "metadata": {},
     "output_type": "execute_result"
    }
   ],
   "source": [
    "item_sim_score = pd.DataFrame(sim_mat_score[query_mat_index].tolist())\n",
    "item_sim_score[:4]"
   ]
  },
  {
   "cell_type": "code",
   "execution_count": 20,
   "id": "e33c6c2d-e598-4686-9d1d-51d942151491",
   "metadata": {},
   "outputs": [
    {
     "data": {
      "text/plain": [
       "(220001, 10)"
      ]
     },
     "execution_count": 20,
     "metadata": {},
     "output_type": "execute_result"
    }
   ],
   "source": [
    "item_sim_mat.shape\n",
    "# 行数是测试集数量，列数对应在训练集中相关的前10个物料向量"
   ]
  },
  {
   "cell_type": "code",
   "execution_count": 21,
   "id": "da080ec3-b346-49be-809e-225f635bc6ba",
   "metadata": {},
   "outputs": [
    {
     "data": {
      "text/plain": [
       "0    [6603, 32877, 12702, 44683, 43181, 5262, 893, ...\n",
       "1    [20958, 27208, 32114, 4591, 13237, 30944, 4297...\n",
       "2    [41982, 525, 42240, 19906, 8840, 6478, 2415, 2...\n",
       "3    [41982, 1125, 31877, 25865, 269, 5038, 32114, ...\n",
       "4    [27177, 21484, 20238, 38648, 33250, 25356, 289...\n",
       "5    [27177, 21484, 20238, 38648, 33250, 25356, 289...\n",
       "6    [13585, 4381, 20238, 15234, 24710, 19272, 1684...\n",
       "7    [8513, 12675, 7206, 29703, 43497, 20202, 41599...\n",
       "8    [13585, 25972, 20238, 21484, 8513, 24067, 1267...\n",
       "9    [9954, 3491, 35237, 13094, 40133, 21484, 20238...\n",
       "dtype: object"
      ]
     },
     "execution_count": 21,
     "metadata": {},
     "output_type": "execute_result"
    }
   ],
   "source": [
    "from operator import add\n",
    "from functools import reduce\n",
    "def simMat2supp(x, suppNum = 50):\n",
    "    return reduce(add, mat_supply_ids.loc[x].apply(list))[:suppNum]\n",
    "    # mat_supply_ids.loc[x]\n",
    "    # return x\n",
    "    # return mat_supply_ids.loc[x]\n",
    "item_sim_mat[:10].apply(simMat2supp, axis=1)"
   ]
  },
  {
   "cell_type": "code",
   "execution_count": 22,
   "id": "59138da3-6ba6-464c-8d0c-03ba45e04ac8",
   "metadata": {},
   "outputs": [
    {
     "data": {
      "text/plain": [
       "(220001, 1)"
      ]
     },
     "execution_count": 22,
     "metadata": {},
     "output_type": "execute_result"
    }
   ],
   "source": [
    "result1 = item_sim_mat.apply(simMat2supp, axis=1)\n",
    "result1 = pd.DataFrame(result1)\n",
    "result1 = result1.set_index(testData.index)\n",
    "result1.shape"
   ]
  },
  {
   "cell_type": "code",
   "execution_count": 23,
   "id": "14b09d6a-f71e-4dcc-9f76-1d66989a88f6",
   "metadata": {},
   "outputs": [
    {
     "data": {
      "text/html": [
       "<div>\n",
       "<style scoped>\n",
       "    .dataframe tbody tr th:only-of-type {\n",
       "        vertical-align: middle;\n",
       "    }\n",
       "\n",
       "    .dataframe tbody tr th {\n",
       "        vertical-align: top;\n",
       "    }\n",
       "\n",
       "    .dataframe thead th {\n",
       "        text-align: right;\n",
       "    }\n",
       "</style>\n",
       "<table border=\"1\" class=\"dataframe\">\n",
       "  <thead>\n",
       "    <tr style=\"text-align: right;\">\n",
       "      <th></th>\n",
       "      <th>id（供应商代码）</th>\n",
       "      <th>MAT_NAME（物料名称）</th>\n",
       "      <th>recommend</th>\n",
       "    </tr>\n",
       "    <tr>\n",
       "      <th>QUOTE_MAT_LINE_ID（报价单行号）</th>\n",
       "      <th></th>\n",
       "      <th></th>\n",
       "      <th></th>\n",
       "    </tr>\n",
       "  </thead>\n",
       "  <tbody>\n",
       "    <tr>\n",
       "      <th>8e24b75ce1c811ebaf97005056b12bb8</th>\n",
       "      <td>6603</td>\n",
       "      <td>液压缸吊座</td>\n",
       "      <td>[6603, 32877, 12702, 44683, 43181, 5262, 893, ...</td>\n",
       "    </tr>\n",
       "    <tr>\n",
       "      <th>f3afd8f4e1dc11ebaf97005056b12bb8</th>\n",
       "      <td>20958</td>\n",
       "      <td>六角头螺栓-C级GB/T5780-2000</td>\n",
       "      <td>[20958, 27208, 32114, 4591, 13237, 30944, 4297...</td>\n",
       "    </tr>\n",
       "    <tr>\n",
       "      <th>1b99daf8e1de11ebaf97005056b12bb8</th>\n",
       "      <td>41982</td>\n",
       "      <td>高压水银荧光灯泡</td>\n",
       "      <td>[41982, 525, 42240, 19906, 8840, 6478, 2415, 2...</td>\n",
       "    </tr>\n",
       "  </tbody>\n",
       "</table>\n",
       "</div>"
      ],
      "text/plain": [
       "                                  id（供应商代码）         MAT_NAME（物料名称）  \\\n",
       "QUOTE_MAT_LINE_ID（报价单行号）                                             \n",
       "8e24b75ce1c811ebaf97005056b12bb8       6603                  液压缸吊座   \n",
       "f3afd8f4e1dc11ebaf97005056b12bb8      20958  六角头螺栓-C级GB/T5780-2000   \n",
       "1b99daf8e1de11ebaf97005056b12bb8      41982               高压水银荧光灯泡   \n",
       "\n",
       "                                                                          recommend  \n",
       "QUOTE_MAT_LINE_ID（报价单行号）                                                             \n",
       "8e24b75ce1c811ebaf97005056b12bb8  [6603, 32877, 12702, 44683, 43181, 5262, 893, ...  \n",
       "f3afd8f4e1dc11ebaf97005056b12bb8  [20958, 27208, 32114, 4591, 13237, 30944, 4297...  \n",
       "1b99daf8e1de11ebaf97005056b12bb8  [41982, 525, 42240, 19906, 8840, 6478, 2415, 2...  "
      ]
     },
     "execution_count": 23,
     "metadata": {},
     "output_type": "execute_result"
    }
   ],
   "source": [
    "testData[\"recommend\"] = result1\n",
    "testData[:3]"
   ]
  },
  {
   "cell_type": "code",
   "execution_count": 24,
   "id": "d03c7053-ed9e-4744-a274-80b5083930e2",
   "metadata": {},
   "outputs": [
    {
     "name": "stdout",
     "output_type": "stream",
     "text": [
      "0.9564729251230676\n"
     ]
    }
   ],
   "source": [
    "sumRecall = testData.apply(lambda x:x[\"id（供应商代码）\"] in x[\"recommend\"], axis=1).sum()\n",
    "recall = sumRecall / len(testData)\n",
    "print(recall)"
   ]
  },
  {
   "cell_type": "code",
   "execution_count": 23,
   "id": "b3d3355e-bb24-4b3f-9850-bfe78c8f3cc9",
   "metadata": {},
   "outputs": [],
   "source": [
    "testData.to_csv(\"trainDataRecommend\"+\".csv\")"
   ]
  },
  {
   "cell_type": "code",
   "execution_count": 25,
   "id": "f230a135-ba41-43b6-9793-49299fb3ef25",
   "metadata": {},
   "outputs": [
    {
     "data": {
      "text/html": [
       "<div>\n",
       "<style scoped>\n",
       "    .dataframe tbody tr th:only-of-type {\n",
       "        vertical-align: middle;\n",
       "    }\n",
       "\n",
       "    .dataframe tbody tr th {\n",
       "        vertical-align: top;\n",
       "    }\n",
       "\n",
       "    .dataframe thead th {\n",
       "        text-align: right;\n",
       "    }\n",
       "</style>\n",
       "<table border=\"1\" class=\"dataframe\">\n",
       "  <thead>\n",
       "    <tr style=\"text-align: right;\">\n",
       "      <th></th>\n",
       "      <th>0</th>\n",
       "      <th>1</th>\n",
       "    </tr>\n",
       "  </thead>\n",
       "  <tbody>\n",
       "    <tr>\n",
       "      <th>0</th>\n",
       "      <td>[[6603], [32877, 12702], [44683, 43181, 5262],...</td>\n",
       "      <td>[0.9999998211860657, 0.9883953332901001, 0.986...</td>\n",
       "    </tr>\n",
       "    <tr>\n",
       "      <th>1</th>\n",
       "      <td>[[20958], [27208, 32114, 4591], [13237], [3094...</td>\n",
       "      <td>[0.9999998807907104, 0.9985741972923279, 0.980...</td>\n",
       "    </tr>\n",
       "    <tr>\n",
       "      <th>2</th>\n",
       "      <td>[[41982], [525], [42240, 19906, 8840, 6478, 24...</td>\n",
       "      <td>[0.9999996423721313, 0.9791146516799927, 0.977...</td>\n",
       "    </tr>\n",
       "    <tr>\n",
       "      <th>3</th>\n",
       "      <td>[[41982], [1125, 31877, 25865, 269, 5038, 3211...</td>\n",
       "      <td>[1.0000004768371582, 0.9775543212890625, 0.971...</td>\n",
       "    </tr>\n",
       "    <tr>\n",
       "      <th>4</th>\n",
       "      <td>[[27177, 21484, 20238], [38648], [33250, 25356...</td>\n",
       "      <td>[1.000000238418579, 0.9894927740097046, 0.9879...</td>\n",
       "    </tr>\n",
       "    <tr>\n",
       "      <th>5</th>\n",
       "      <td>[[27177, 21484, 20238], [38648], [33250, 25356...</td>\n",
       "      <td>[1.000000238418579, 0.9894927740097046, 0.9879...</td>\n",
       "    </tr>\n",
       "    <tr>\n",
       "      <th>6</th>\n",
       "      <td>[[13585, 4381, 20238], [15234, 24710], [19272,...</td>\n",
       "      <td>[1.0000004768371582, 0.9849438667297363, 0.983...</td>\n",
       "    </tr>\n",
       "    <tr>\n",
       "      <th>7</th>\n",
       "      <td>[[8513, 12675, 7206, 29703, 43497, 20202, 4159...</td>\n",
       "      <td>[1.0, 1.0, 0.9882160425186157, 0.9873009920120...</td>\n",
       "    </tr>\n",
       "    <tr>\n",
       "      <th>8</th>\n",
       "      <td>[[13585, 25972, 20238, 21484], [8513, 24067, 1...</td>\n",
       "      <td>[1.000000238418579, 0.9962109923362732, 0.9906...</td>\n",
       "    </tr>\n",
       "    <tr>\n",
       "      <th>9</th>\n",
       "      <td>[[9954, 3491, 35237, 13094, 40133, 21484, 2023...</td>\n",
       "      <td>[1.0, 0.9923900961875916, 0.9910115599632263, ...</td>\n",
       "    </tr>\n",
       "  </tbody>\n",
       "</table>\n",
       "</div>"
      ],
      "text/plain": [
       "                                                   0  \\\n",
       "0  [[6603], [32877, 12702], [44683, 43181, 5262],...   \n",
       "1  [[20958], [27208, 32114, 4591], [13237], [3094...   \n",
       "2  [[41982], [525], [42240, 19906, 8840, 6478, 24...   \n",
       "3  [[41982], [1125, 31877, 25865, 269, 5038, 3211...   \n",
       "4  [[27177, 21484, 20238], [38648], [33250, 25356...   \n",
       "5  [[27177, 21484, 20238], [38648], [33250, 25356...   \n",
       "6  [[13585, 4381, 20238], [15234, 24710], [19272,...   \n",
       "7  [[8513, 12675, 7206, 29703, 43497, 20202, 4159...   \n",
       "8  [[13585, 25972, 20238, 21484], [8513, 24067, 1...   \n",
       "9  [[9954, 3491, 35237, 13094, 40133, 21484, 2023...   \n",
       "\n",
       "                                                   1  \n",
       "0  [0.9999998211860657, 0.9883953332901001, 0.986...  \n",
       "1  [0.9999998807907104, 0.9985741972923279, 0.980...  \n",
       "2  [0.9999996423721313, 0.9791146516799927, 0.977...  \n",
       "3  [1.0000004768371582, 0.9775543212890625, 0.971...  \n",
       "4  [1.000000238418579, 0.9894927740097046, 0.9879...  \n",
       "5  [1.000000238418579, 0.9894927740097046, 0.9879...  \n",
       "6  [1.0000004768371582, 0.9849438667297363, 0.983...  \n",
       "7  [1.0, 1.0, 0.9882160425186157, 0.9873009920120...  \n",
       "8  [1.000000238418579, 0.9962109923362732, 0.9906...  \n",
       "9  [1.0, 0.9923900961875916, 0.9910115599632263, ...  "
      ]
     },
     "execution_count": 25,
     "metadata": {},
     "output_type": "execute_result"
    }
   ],
   "source": [
    "from operator import add\n",
    "from functools import reduce\n",
    "def simMat2supp(x, suppNum = 50):\n",
    "    suplists = list(mat_supply_ids.loc[x].apply(list))\n",
    "    scores = list(item_sim_score.loc[x.name])\n",
    "    return pd.Series([suplists,scores])\n",
    "item_sim_mat[:10].apply(simMat2supp, axis=1)"
   ]
  },
  {
   "cell_type": "code",
   "execution_count": 26,
   "id": "b4ee8567-456b-4a21-84a5-a1bb1234346e",
   "metadata": {},
   "outputs": [],
   "source": [
    "result = item_sim_mat.apply(simMat2supp, axis=1)"
   ]
  },
  {
   "cell_type": "code",
   "execution_count": 27,
   "id": "b417e1e5-3ced-48a3-b76d-a61b4cb711b0",
   "metadata": {},
   "outputs": [],
   "source": [
    "result = result.rename(columns={0:'supps',1:'scores'})"
   ]
  },
  {
   "cell_type": "code",
   "execution_count": 28,
   "id": "de84f6b8-2306-4502-a819-07d8c0800855",
   "metadata": {},
   "outputs": [],
   "source": [
    "result = result.set_index(testData.index)"
   ]
  },
  {
   "cell_type": "code",
   "execution_count": 29,
   "id": "bf014407-205f-45b0-b520-44f082140b4c",
   "metadata": {},
   "outputs": [
    {
     "data": {
      "text/html": [
       "<div>\n",
       "<style scoped>\n",
       "    .dataframe tbody tr th:only-of-type {\n",
       "        vertical-align: middle;\n",
       "    }\n",
       "\n",
       "    .dataframe tbody tr th {\n",
       "        vertical-align: top;\n",
       "    }\n",
       "\n",
       "    .dataframe thead th {\n",
       "        text-align: right;\n",
       "    }\n",
       "</style>\n",
       "<table border=\"1\" class=\"dataframe\">\n",
       "  <thead>\n",
       "    <tr style=\"text-align: right;\">\n",
       "      <th></th>\n",
       "      <th>supps</th>\n",
       "      <th>scores</th>\n",
       "    </tr>\n",
       "    <tr>\n",
       "      <th>QUOTE_MAT_LINE_ID（报价单行号）</th>\n",
       "      <th></th>\n",
       "      <th></th>\n",
       "    </tr>\n",
       "  </thead>\n",
       "  <tbody>\n",
       "    <tr>\n",
       "      <th>8e24b75ce1c811ebaf97005056b12bb8</th>\n",
       "      <td>[[6603], [32877, 12702], [44683, 43181, 5262],...</td>\n",
       "      <td>[0.9999998211860657, 0.9883953332901001, 0.986...</td>\n",
       "    </tr>\n",
       "    <tr>\n",
       "      <th>f3afd8f4e1dc11ebaf97005056b12bb8</th>\n",
       "      <td>[[20958], [27208, 32114, 4591], [13237], [3094...</td>\n",
       "      <td>[0.9999998807907104, 0.9985741972923279, 0.980...</td>\n",
       "    </tr>\n",
       "    <tr>\n",
       "      <th>1b99daf8e1de11ebaf97005056b12bb8</th>\n",
       "      <td>[[41982], [525], [42240, 19906, 8840, 6478, 24...</td>\n",
       "      <td>[0.9999996423721313, 0.9791146516799927, 0.977...</td>\n",
       "    </tr>\n",
       "    <tr>\n",
       "      <th>1b9aac07e1de11ebaf97005056b12bb8</th>\n",
       "      <td>[[41982], [1125, 31877, 25865, 269, 5038, 3211...</td>\n",
       "      <td>[1.0000004768371582, 0.9775543212890625, 0.971...</td>\n",
       "    </tr>\n",
       "    <tr>\n",
       "      <th>bff9cf95e1e511ebaf97005056b12bb8</th>\n",
       "      <td>[[27177, 21484, 20238], [38648], [33250, 25356...</td>\n",
       "      <td>[1.000000238418579, 0.9894927740097046, 0.9879...</td>\n",
       "    </tr>\n",
       "    <tr>\n",
       "      <th>...</th>\n",
       "      <td>...</td>\n",
       "      <td>...</td>\n",
       "    </tr>\n",
       "    <tr>\n",
       "      <th>d8d6af5cb70711ecbb62005056a00443</th>\n",
       "      <td>[[39002], [41060, 40133, 40171, 1357, 9360, 46...</td>\n",
       "      <td>[1.0000003576278687, 0.9844587445259094, 0.984...</td>\n",
       "    </tr>\n",
       "    <tr>\n",
       "      <th>d8d64183b70711ecbb62005056a00443</th>\n",
       "      <td>[[39002], [43987, 14051], [17836, 20485], [178...</td>\n",
       "      <td>[1.0, 0.9757177829742432, 0.9733084440231323, ...</td>\n",
       "    </tr>\n",
       "    <tr>\n",
       "      <th>d8d6b380b70711ecbb62005056a00443</th>\n",
       "      <td>[[39002], [31480, 34758, 34270], [40339, 22724...</td>\n",
       "      <td>[1.0000004768371582, 0.9839216470718384, 0.983...</td>\n",
       "    </tr>\n",
       "    <tr>\n",
       "      <th>d8d69792b70711ecbb62005056a00443</th>\n",
       "      <td>[[39002], [13712, 28626, 20991], [24646, 19272...</td>\n",
       "      <td>[0.9999997615814209, 0.9921826124191284, 0.987...</td>\n",
       "    </tr>\n",
       "    <tr>\n",
       "      <th>d8d6adebb70711ecbb62005056a00443</th>\n",
       "      <td>[[39002], [40339, 22724, 21886], [2744, 34908,...</td>\n",
       "      <td>[0.9999992847442627, 0.9861932992935181, 0.983...</td>\n",
       "    </tr>\n",
       "  </tbody>\n",
       "</table>\n",
       "<p>220001 rows × 2 columns</p>\n",
       "</div>"
      ],
      "text/plain": [
       "                                                                              supps  \\\n",
       "QUOTE_MAT_LINE_ID（报价单行号）                                                              \n",
       "8e24b75ce1c811ebaf97005056b12bb8  [[6603], [32877, 12702], [44683, 43181, 5262],...   \n",
       "f3afd8f4e1dc11ebaf97005056b12bb8  [[20958], [27208, 32114, 4591], [13237], [3094...   \n",
       "1b99daf8e1de11ebaf97005056b12bb8  [[41982], [525], [42240, 19906, 8840, 6478, 24...   \n",
       "1b9aac07e1de11ebaf97005056b12bb8  [[41982], [1125, 31877, 25865, 269, 5038, 3211...   \n",
       "bff9cf95e1e511ebaf97005056b12bb8  [[27177, 21484, 20238], [38648], [33250, 25356...   \n",
       "...                                                                             ...   \n",
       "d8d6af5cb70711ecbb62005056a00443  [[39002], [41060, 40133, 40171, 1357, 9360, 46...   \n",
       "d8d64183b70711ecbb62005056a00443  [[39002], [43987, 14051], [17836, 20485], [178...   \n",
       "d8d6b380b70711ecbb62005056a00443  [[39002], [31480, 34758, 34270], [40339, 22724...   \n",
       "d8d69792b70711ecbb62005056a00443  [[39002], [13712, 28626, 20991], [24646, 19272...   \n",
       "d8d6adebb70711ecbb62005056a00443  [[39002], [40339, 22724, 21886], [2744, 34908,...   \n",
       "\n",
       "                                                                             scores  \n",
       "QUOTE_MAT_LINE_ID（报价单行号）                                                             \n",
       "8e24b75ce1c811ebaf97005056b12bb8  [0.9999998211860657, 0.9883953332901001, 0.986...  \n",
       "f3afd8f4e1dc11ebaf97005056b12bb8  [0.9999998807907104, 0.9985741972923279, 0.980...  \n",
       "1b99daf8e1de11ebaf97005056b12bb8  [0.9999996423721313, 0.9791146516799927, 0.977...  \n",
       "1b9aac07e1de11ebaf97005056b12bb8  [1.0000004768371582, 0.9775543212890625, 0.971...  \n",
       "bff9cf95e1e511ebaf97005056b12bb8  [1.000000238418579, 0.9894927740097046, 0.9879...  \n",
       "...                                                                             ...  \n",
       "d8d6af5cb70711ecbb62005056a00443  [1.0000003576278687, 0.9844587445259094, 0.984...  \n",
       "d8d64183b70711ecbb62005056a00443  [1.0, 0.9757177829742432, 0.9733084440231323, ...  \n",
       "d8d6b380b70711ecbb62005056a00443  [1.0000004768371582, 0.9839216470718384, 0.983...  \n",
       "d8d69792b70711ecbb62005056a00443  [0.9999997615814209, 0.9921826124191284, 0.987...  \n",
       "d8d6adebb70711ecbb62005056a00443  [0.9999992847442627, 0.9861932992935181, 0.983...  \n",
       "\n",
       "[220001 rows x 2 columns]"
      ]
     },
     "execution_count": 29,
     "metadata": {},
     "output_type": "execute_result"
    }
   ],
   "source": [
    "result"
   ]
  },
  {
   "cell_type": "code",
   "execution_count": 26,
   "id": "efc78be4-026d-44bd-88dc-d27d7ead75f0",
   "metadata": {},
   "outputs": [],
   "source": [
    "pd.to_pickle(result, \"trainDataRecommend.pkl\")"
   ]
  },
  {
   "cell_type": "code",
   "execution_count": 198,
   "id": "7edb4282-c8c9-4514-9c49-42b605502e2a",
   "metadata": {},
   "outputs": [],
   "source": [
    "result.to_csv(\"testDataRecommend.csv\")"
   ]
  },
  {
   "cell_type": "code",
   "execution_count": 30,
   "id": "29966a9b-c91e-4197-a4d4-9d564019726e",
   "metadata": {},
   "outputs": [],
   "source": [
    "def scoreBroadCast(x, suppNum = 50):\n",
    "    suppslist = []\n",
    "    scoreslist = []\n",
    "    for i in range(len(x['supps'])):\n",
    "        suppslist.extend(x['supps'][i])\n",
    "        scoreslist.extend([x['scores'][i]]*len(x['supps'][i]))\n",
    "    return pd.Series([suppslist[:suppNum],scoreslist[:suppNum]])"
   ]
  },
  {
   "cell_type": "code",
   "execution_count": 31,
   "id": "ea88956e-7dfa-4d4b-b3f6-2ba237002300",
   "metadata": {},
   "outputs": [],
   "source": [
    "broadResult = result.apply(scoreBroadCast, axis=1)"
   ]
  },
  {
   "cell_type": "code",
   "execution_count": 32,
   "id": "2aa62fd0-4db4-4dab-8ace-89fe2dd413c1",
   "metadata": {},
   "outputs": [
    {
     "data": {
      "text/html": [
       "<div>\n",
       "<style scoped>\n",
       "    .dataframe tbody tr th:only-of-type {\n",
       "        vertical-align: middle;\n",
       "    }\n",
       "\n",
       "    .dataframe tbody tr th {\n",
       "        vertical-align: top;\n",
       "    }\n",
       "\n",
       "    .dataframe thead th {\n",
       "        text-align: right;\n",
       "    }\n",
       "</style>\n",
       "<table border=\"1\" class=\"dataframe\">\n",
       "  <thead>\n",
       "    <tr style=\"text-align: right;\">\n",
       "      <th></th>\n",
       "      <th>supps</th>\n",
       "      <th>scores</th>\n",
       "    </tr>\n",
       "    <tr>\n",
       "      <th>QUOTE_MAT_LINE_ID（报价单行号）</th>\n",
       "      <th></th>\n",
       "      <th></th>\n",
       "    </tr>\n",
       "  </thead>\n",
       "  <tbody>\n",
       "    <tr>\n",
       "      <th>8e24b75ce1c811ebaf97005056b12bb8</th>\n",
       "      <td>[6603, 32877, 12702, 44683, 43181, 5262, 893, ...</td>\n",
       "      <td>[0.9999998211860657, 0.9883953332901001, 0.988...</td>\n",
       "    </tr>\n",
       "    <tr>\n",
       "      <th>f3afd8f4e1dc11ebaf97005056b12bb8</th>\n",
       "      <td>[20958, 27208, 32114, 4591, 13237, 30944, 4297...</td>\n",
       "      <td>[0.9999998807907104, 0.9985741972923279, 0.998...</td>\n",
       "    </tr>\n",
       "    <tr>\n",
       "      <th>1b99daf8e1de11ebaf97005056b12bb8</th>\n",
       "      <td>[41982, 525, 42240, 19906, 8840, 6478, 2415, 2...</td>\n",
       "      <td>[0.9999996423721313, 0.9791146516799927, 0.977...</td>\n",
       "    </tr>\n",
       "    <tr>\n",
       "      <th>1b9aac07e1de11ebaf97005056b12bb8</th>\n",
       "      <td>[41982, 1125, 31877, 25865, 269, 5038, 32114, ...</td>\n",
       "      <td>[1.0000004768371582, 0.9775543212890625, 0.977...</td>\n",
       "    </tr>\n",
       "    <tr>\n",
       "      <th>bff9cf95e1e511ebaf97005056b12bb8</th>\n",
       "      <td>[27177, 21484, 20238, 38648, 33250, 25356, 289...</td>\n",
       "      <td>[1.000000238418579, 1.000000238418579, 1.00000...</td>\n",
       "    </tr>\n",
       "    <tr>\n",
       "      <th>bffa5cd3e1e511ebaf97005056b12bb8</th>\n",
       "      <td>[27177, 21484, 20238, 38648, 33250, 25356, 289...</td>\n",
       "      <td>[1.000000238418579, 1.000000238418579, 1.00000...</td>\n",
       "    </tr>\n",
       "    <tr>\n",
       "      <th>bffa783fe1e511ebaf97005056b12bb8</th>\n",
       "      <td>[13585, 4381, 20238, 15234, 24710, 19272, 1684...</td>\n",
       "      <td>[1.0000004768371582, 1.0000004768371582, 1.000...</td>\n",
       "    </tr>\n",
       "    <tr>\n",
       "      <th>bffa926ae1e511ebaf97005056b12bb8</th>\n",
       "      <td>[8513, 12675, 7206, 29703, 43497, 20202, 41599...</td>\n",
       "      <td>[1.0, 1.0, 1.0, 1.0, 1.0, 1.0, 1.0, 1.0, 1.0, ...</td>\n",
       "    </tr>\n",
       "    <tr>\n",
       "      <th>bffa97c1e1e511ebaf97005056b12bb8</th>\n",
       "      <td>[13585, 25972, 20238, 21484, 8513, 24067, 1267...</td>\n",
       "      <td>[1.000000238418579, 1.000000238418579, 1.00000...</td>\n",
       "    </tr>\n",
       "    <tr>\n",
       "      <th>bffa9d66e1e511ebaf97005056b12bb8</th>\n",
       "      <td>[9954, 3491, 35237, 13094, 40133, 21484, 20238...</td>\n",
       "      <td>[1.0, 1.0, 1.0, 1.0, 1.0, 1.0, 1.0, 1.0, 1.0, ...</td>\n",
       "    </tr>\n",
       "  </tbody>\n",
       "</table>\n",
       "</div>"
      ],
      "text/plain": [
       "                                                                              supps  \\\n",
       "QUOTE_MAT_LINE_ID（报价单行号）                                                              \n",
       "8e24b75ce1c811ebaf97005056b12bb8  [6603, 32877, 12702, 44683, 43181, 5262, 893, ...   \n",
       "f3afd8f4e1dc11ebaf97005056b12bb8  [20958, 27208, 32114, 4591, 13237, 30944, 4297...   \n",
       "1b99daf8e1de11ebaf97005056b12bb8  [41982, 525, 42240, 19906, 8840, 6478, 2415, 2...   \n",
       "1b9aac07e1de11ebaf97005056b12bb8  [41982, 1125, 31877, 25865, 269, 5038, 32114, ...   \n",
       "bff9cf95e1e511ebaf97005056b12bb8  [27177, 21484, 20238, 38648, 33250, 25356, 289...   \n",
       "bffa5cd3e1e511ebaf97005056b12bb8  [27177, 21484, 20238, 38648, 33250, 25356, 289...   \n",
       "bffa783fe1e511ebaf97005056b12bb8  [13585, 4381, 20238, 15234, 24710, 19272, 1684...   \n",
       "bffa926ae1e511ebaf97005056b12bb8  [8513, 12675, 7206, 29703, 43497, 20202, 41599...   \n",
       "bffa97c1e1e511ebaf97005056b12bb8  [13585, 25972, 20238, 21484, 8513, 24067, 1267...   \n",
       "bffa9d66e1e511ebaf97005056b12bb8  [9954, 3491, 35237, 13094, 40133, 21484, 20238...   \n",
       "\n",
       "                                                                             scores  \n",
       "QUOTE_MAT_LINE_ID（报价单行号）                                                             \n",
       "8e24b75ce1c811ebaf97005056b12bb8  [0.9999998211860657, 0.9883953332901001, 0.988...  \n",
       "f3afd8f4e1dc11ebaf97005056b12bb8  [0.9999998807907104, 0.9985741972923279, 0.998...  \n",
       "1b99daf8e1de11ebaf97005056b12bb8  [0.9999996423721313, 0.9791146516799927, 0.977...  \n",
       "1b9aac07e1de11ebaf97005056b12bb8  [1.0000004768371582, 0.9775543212890625, 0.977...  \n",
       "bff9cf95e1e511ebaf97005056b12bb8  [1.000000238418579, 1.000000238418579, 1.00000...  \n",
       "bffa5cd3e1e511ebaf97005056b12bb8  [1.000000238418579, 1.000000238418579, 1.00000...  \n",
       "bffa783fe1e511ebaf97005056b12bb8  [1.0000004768371582, 1.0000004768371582, 1.000...  \n",
       "bffa926ae1e511ebaf97005056b12bb8  [1.0, 1.0, 1.0, 1.0, 1.0, 1.0, 1.0, 1.0, 1.0, ...  \n",
       "bffa97c1e1e511ebaf97005056b12bb8  [1.000000238418579, 1.000000238418579, 1.00000...  \n",
       "bffa9d66e1e511ebaf97005056b12bb8  [1.0, 1.0, 1.0, 1.0, 1.0, 1.0, 1.0, 1.0, 1.0, ...  "
      ]
     },
     "execution_count": 32,
     "metadata": {},
     "output_type": "execute_result"
    }
   ],
   "source": [
    "broadResult = broadResult.rename(columns={0:'supps',1:'scores'})\n",
    "broadResult[:10]"
   ]
  },
  {
   "cell_type": "code",
   "execution_count": 37,
   "id": "5b601214-693b-487a-b3c6-baa791c20b1b",
   "metadata": {},
   "outputs": [],
   "source": [
    "broadResult.to_csv(\"trainDataRecommendFormattedCosineSim.csv\")"
   ]
  },
  {
   "cell_type": "code",
   "execution_count": 32,
   "id": "45a22faa-8b65-41b5-a2d9-e4f450391c8e",
   "metadata": {},
   "outputs": [],
   "source": [
    "broadResult.to_pickle(\"trainDataRecommendFormatted.pkl\")"
   ]
  },
  {
   "cell_type": "code",
   "execution_count": 124,
   "id": "b1f9c8bc-a94b-42b6-a322-10daa854f8e9",
   "metadata": {},
   "outputs": [],
   "source": [
    "lists = mat_supply_ids.loc[[197,198,199]].apply(list)"
   ]
  },
  {
   "cell_type": "code",
   "execution_count": 126,
   "id": "20396628-503e-4575-b471-1ee70ab65bc3",
   "metadata": {},
   "outputs": [],
   "source": [
    "x = [197,198,199]\n",
    "lists = mat_supply_ids.loc[x].apply(list)"
   ]
  },
  {
   "cell_type": "code",
   "execution_count": 167,
   "id": "3a1eb069-e338-4324-a1f6-eaac26b9f610",
   "metadata": {},
   "outputs": [
    {
     "data": {
      "text/plain": [
       "mat_id\n",
       "197                  [13094, 43944, 22123, 33944, 10298]\n",
       "198                         [43944, 10298, 22123, 33944]\n",
       "199    [43944, 22123, 24431, 32919, 33944, 13945, 10298]\n",
       "Name: id（供应商代码）, dtype: object"
      ]
     },
     "execution_count": 167,
     "metadata": {},
     "output_type": "execute_result"
    }
   ],
   "source": [
    "lists"
   ]
  },
  {
   "cell_type": "code",
   "execution_count": 132,
   "id": "6510e7af-0965-482d-bdeb-8eb1b66ccc75",
   "metadata": {},
   "outputs": [
    {
     "data": {
      "text/plain": [
       "mat_id\n",
       "197          [1, 1, 1, 1, 1]\n",
       "198             [1, 1, 1, 1]\n",
       "199    [1, 1, 1, 1, 1, 1, 1]\n",
       "Name: id（供应商代码）, dtype: object"
      ]
     },
     "execution_count": 132,
     "metadata": {},
     "output_type": "execute_result"
    }
   ],
   "source": [
    "lists.apply(len).apply(lambda x:[1]) * lists.apply(len)"
   ]
  },
  {
   "cell_type": "code",
   "execution_count": 108,
   "id": "a8d6cb66-c794-4987-9d4e-3e3dc126b106",
   "metadata": {},
   "outputs": [
    {
     "name": "stdout",
     "output_type": "stream",
     "text": [
      "[6603]\n",
      "[20958]\n",
      "[41982]\n"
     ]
    }
   ],
   "source": [
    "for i in range(10):\n",
    "    "
   ]
  }
 ],
 "metadata": {
  "kernelspec": {
   "display_name": "PyTorch-1.8",
   "language": "python",
   "name": "pytorch-1.8"
  },
  "language_info": {
   "codemirror_mode": {
    "name": "ipython",
    "version": 3
   },
   "file_extension": ".py",
   "mimetype": "text/x-python",
   "name": "python",
   "nbconvert_exporter": "python",
   "pygments_lexer": "ipython3",
   "version": "3.7.10"
  }
 },
 "nbformat": 4,
 "nbformat_minor": 5
}
