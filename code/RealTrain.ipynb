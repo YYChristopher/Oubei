{
 "cells": [
  {
   "cell_type": "code",
   "execution_count": 2,
   "id": "29b6c96f-0ada-4912-9049-88fefa4ec0d3",
   "metadata": {},
   "outputs": [],
   "source": [
    "import pandas as pd\n",
    "import numpy as np\n",
    "import time\n",
    "import matplotlib.pyplot as plt\n",
    "plt.rcParams['font.sans-serif']=['SimHei']\n",
    "plt.rcParams['axes.unicode_minus'] = False"
   ]
  },
  {
   "cell_type": "code",
   "execution_count": 3,
   "id": "4aa7c566-005b-4bde-bd20-af2d4379fcc7",
   "metadata": {},
   "outputs": [],
   "source": [
    "SupplyScore = pd.read_csv(r\"F:\\\\24561\\\\Documents\\\\欧贝杯智能创新比赛\\\\数据\\\\SupplySort4.csv\")\n",
    "SupplyScore = pd.DataFrame(data=SupplyScore)\n",
    "Distance = pd.read_csv(r\"F:\\\\24561\\\\Documents\\\\欧贝杯智能创新比赛\\\\数据\\\\distance.csv\")\n",
    "Distance = pd.DataFrame(Distance)\n",
    "Buy_City = pd.read_csv(r\"F:\\\\24561\\\\Documents\\\\欧贝杯智能创新比赛\\\\数据\\\\Buy.csv\")\n",
    "Buy_City = pd.DataFrame(Buy_City)\n",
    "FirstRestrain = pd.read_csv(r\"F:\\\\24561\\\\Documents\\\\欧贝杯智能创新比赛\\\\数据\\\\trainDataRecommendID.csv\")\n",
    "FirstRestrain = pd.DataFrame(FirstRestrain)\n",
    "FirstRestest = pd.read_csv(r\"F:\\\\24561\\\\Documents\\\\欧贝杯智能创新比赛\\\\数据\\\\testDataRecommendID.csv\")\n",
    "FirstRestest = pd.DataFrame(FirstRestest)\n",
    "Weighttrain = pd.read_csv(r\"F:\\\\24561\\\\Documents\\\\欧贝杯智能创新比赛\\\\数据\\\\Weight.csv\")\n",
    "Weighttrain = pd.DataFrame(Weighttrain)\n",
    "SupplyScore.set_index(['id（供应商代码）'], inplace=True)\n",
    "Distance.set_index(['列城市'],inplace=True)\n",
    "Buy_City.set_index(['id（采购商代码）'],inplace=True)\n",
    "traindata = FirstRestrain\n",
    "testdata = FirstRestest\n",
    "testdata.reset_index(drop=True,inplace=True)\n",
    "BuyIDtrain = traindata.loc[:,'id（采购商代码）']\n",
    "SupplyIDtrain = traindata.loc[:,'id（供应商代码）']\n",
    "RecommendIDtrain = traindata.loc[:,'Recommend']\n",
    "RecommendIDtrainScore = traindata.loc[:,'Score']\n",
    "BuyIDtest = testdata.loc[:,'id（采购商代码）']\n",
    "SupplyIDtest = testdata.loc[:,'id（供应商代码）']\n",
    "RecommendIDtest = testdata.loc[:,'Recommend']\n",
    "RecommendIDtestScore = testdata.loc[:,'Score']"
   ]
  },
  {
   "cell_type": "code",
   "execution_count": 6,
   "id": "8e39ead3-9135-4459-9cdf-3011ed64a96e",
   "metadata": {},
   "outputs": [
    {
     "data": {
      "text/plain": [
       "matrix([[0.9 ],\n",
       "        [0.05],\n",
       "        [0.05]])"
      ]
     },
     "execution_count": 6,
     "metadata": {},
     "output_type": "execute_result"
    }
   ],
   "source": [
    "np.matrix(Weighttrain.iloc[0,:]).T"
   ]
  },
  {
   "cell_type": "code",
   "execution_count": 7,
   "id": "120dd479-503a-4c86-95c8-7dabe0b42587",
   "metadata": {},
   "outputs": [
    {
     "data": {
      "text/plain": [
       "range(0, 171)"
      ]
     },
     "execution_count": 7,
     "metadata": {},
     "output_type": "execute_result"
    }
   ],
   "source": [
    "range(Weighttrain.shape[0])"
   ]
  },
  {
   "cell_type": "code",
   "execution_count": 8,
   "id": "8eada4fa-776f-44b2-8703-33468aea482d",
   "metadata": {},
   "outputs": [],
   "source": [
    "def Recall(BuyID,PreparedSupply,SupplySimilar,CorrectID,Weight):\n",
    "    SupplyCity = SupplyScore.loc[PreparedSupply,'供应商城市'].values\n",
    "    SupplyPoint = SupplyScore.loc[PreparedSupply,'综合得分指数'].values\n",
    "    BuyCity = Buy_City.loc[BuyID,'采购商城市']\n",
    "    Dis = 100/(Distance.loc[SupplyCity,BuyCity]+100)\n",
    "    SupplySimilar = 1/(SupplySimilar+1)\n",
    "    SupplyTotal = np.vstack((SupplyPoint,Dis,SupplySimilar)).T\n",
    "    SupplyLastpoint = np.array(np.dot(SupplyTotal,Weight))\n",
    "    sorted_id = np.argsort(-SupplyLastpoint.T)[:,:10]\n",
    "    SupplyRecommend = PreparedSupply[sorted_id]\n",
    "    if CorrectID in SupplyRecommend:\n",
    "        return 1\n",
    "    else:\n",
    "        return 0"
   ]
  },
  {
   "cell_type": "code",
   "execution_count": 9,
   "id": "58d7f408-8be2-4865-956f-27aaf3534bce",
   "metadata": {},
   "outputs": [],
   "source": [
    "def JudgeHistory(CorrectID,SupplyIDtrain):\n",
    "    if CorrectID in SupplyIDtrain:\n",
    "        return 1\n",
    "    else:\n",
    "        return 0 "
   ]
  },
  {
   "cell_type": "code",
   "execution_count": null,
   "id": "6c252c57-9722-47c0-8dea-513b1912c542",
   "metadata": {},
   "outputs": [],
   "source": [
    "RecallRate4 = []\n",
    "for j in range(Weighttrain.shape[0]):\n",
    "    Recallres = []\n",
    "    for i in range(len(BuyIDtrain)):\n",
    "        BuyID = BuyIDtrain[i]\n",
    "        PreparedSupply = np.asarray(eval(RecommendIDtrain[i]))\n",
    "        SupplySimilar = np.asarray(eval(RecommendIDtrainScore[i]))\n",
    "        CorrectID = SupplyIDtrain[i]\n",
    "        Weight = np.matrix(Weighttrain.iloc[j,:]).T\n",
    "        Recallonce = Recall(BuyID,PreparedSupply,SupplySimilar,CorrectID,Weight)\n",
    "        Recallres.append(Recallonce)\n",
    "    recallrate = np.asarray(Recallres).sum()/len(Recallres)\n",
    "    RecallRate4.append(recallrate)"
   ]
  },
  {
   "cell_type": "code",
   "execution_count": 34,
   "id": "221a668e-beb9-4a06-88c3-a238217d49fe",
   "metadata": {},
   "outputs": [],
   "source": [
    "BuyID = BuyIDtrain[0]\n",
    "PreparedSupply = np.asarray(eval(RecommendIDtrain[0]))\n",
    "SupplySimilar = np.asarray(eval(RecommendIDtrainScore[0]))\n",
    "CorrectID = SupplyIDtrain[0]\n",
    "Weight = np.mat('0.35;0.35;0.3')\n",
    "SupplyCity = SupplyScore.loc[PreparedSupply,'供应商城市'].values\n",
    "SupplyPoint = SupplyScore.loc[PreparedSupply,'综合得分指数'].values\n",
    "BuyCity = Buy_City.loc[BuyID,'采购商城市']\n",
    "Dis = 100/(Distance.loc[SupplyCity,BuyCity]+100)\n",
    "SupplySimilar = 1/(SupplySimilar+1)\n",
    "SupplyTotal = np.vstack((SupplyPoint,Dis,SupplySimilar)).T\n",
    "SupplyLastpoint = np.array(np.dot(SupplyTotal,Weight))\n",
    "sorted_id = np.argsort(-SupplyLastpoint.T)[:,:10]\n",
    "SupplyRecommend = PreparedSupply[sorted_id]\n",
    "if CorrectID in SupplyRecommend:\n",
    "    print(1)\n",
    "else:\n",
    "    print(0)"
   ]
  },
  {
   "cell_type": "code",
   "execution_count": null,
   "id": "9635b401-6262-45a4-a617-666442875895",
   "metadata": {},
   "outputs": [],
   "source": [
    "np.array(np.dot(SupplyTotal,np.matrix(Weighttrain.iloc[0,:]).T))"
   ]
  },
  {
   "cell_type": "code",
   "execution_count": 71,
   "id": "ab4dbd2a-f795-459b-9efa-188c24d15321",
   "metadata": {},
   "outputs": [
    {
     "data": {
      "text/plain": [
       "1"
      ]
     },
     "execution_count": 71,
     "metadata": {},
     "output_type": "execute_result"
    }
   ],
   "source": [
    "BuyID = BuyIDtrain[0]\n",
    "PreparedSupply = np.asarray(eval(RecommendIDtrain[0]))\n",
    "SupplySimilar = np.asarray(eval(RecommendIDtrainScore[0]))\n",
    "CorrectID = SupplyIDtrain[0]\n",
    "Weight = np.matrix(Weighttrain.iloc[0,:]).T\n",
    "Recall(BuyID,PreparedSupply,SupplySimilar,CorrectID,Weight)"
   ]
  },
  {
   "cell_type": "code",
   "execution_count": 108,
   "id": "df634d13-8f9e-45c7-865e-a695c49e471d",
   "metadata": {},
   "outputs": [],
   "source": [
    "time_begin = time.time()\n",
    "Recallres1 = []\n",
    "for i in range(len(BuyIDtrain)):\n",
    "    BuyID = BuyIDtrain[i]\n",
    "    PreparedSupply = np.asarray(eval(RecommendIDtrain[i]))\n",
    "    SupplySimilar = np.asarray(eval(RecommendIDtrainScore[i]))\n",
    "    CorrectID = SupplyIDtrain[i]\n",
    "    Weight = np.matrix(Weighttrain.iloc[170,:]).T\n",
    "    Recallonce = Recall(BuyID,PreparedSupply,SupplySimilar,CorrectID,Weight)\n",
    "    Recallres1.append(Recallonce)\n",
    "recallrate = np.asarray(Recallres).sum()/len(Recallres)\n",
    "time_end = time.time()\n",
    "use_time = time_end - time_begin"
   ]
  },
  {
   "cell_type": "code",
   "execution_count": 109,
   "id": "180666e5-820e-4d0b-8a27-3a46330503ec",
   "metadata": {},
   "outputs": [],
   "source": [
    "RecallRate4.append(recallrate)"
   ]
  },
  {
   "cell_type": "code",
   "execution_count": 113,
   "id": "1d16bd18-2ac9-42ab-addf-08163a35672b",
   "metadata": {},
   "outputs": [
    {
     "data": {
      "text/plain": [
       "155"
      ]
     },
     "execution_count": 113,
     "metadata": {},
     "output_type": "execute_result"
    }
   ],
   "source": [
    "np.argmax(RecallRate4)"
   ]
  },
  {
   "cell_type": "code",
   "execution_count": null,
   "id": "f44f8ac3-ca13-4466-8c6c-82e9ac365a2b",
   "metadata": {},
   "outputs": [
    {
     "data": {
      "text/plain": [
       "0.19552478318097402"
      ]
     },
     "execution_count": 114,
     "metadata": {},
     "output_type": "execute_result"
    }
   ],
   "source": [
    "Recallrestest = []\n",
    "Intrain = []\n",
    "for i in range(len(BuyIDtest)):\n",
    "    BuyID = BuyIDtest[i]\n",
    "    PreparedSupply = np.asarray(eval(RecommendIDtest[i]))\n",
    "    SupplySimilar = np.asarray(eval(RecommendIDtestScore[i]))\n",
    "    CorrectID = SupplyIDtest[i]\n",
    "    Weight = np.mat('0.05;0.15;0.8')\n",
    "    Recallonce = Recall(BuyID,PreparedSupply,SupplySimilar,CorrectID,Weight)\n",
    "    Recallrestest.append(Recallonce)\n",
    "    Judge = JudgeHistory(CorrectID,SupplyIDtrain)\n",
    "    Intrain.append(Judge)\n",
    "recallratetest = np.asarray(Recallrestest).sum()/len(Recallrestest)\n",
    "Intrainrate = np.asarray(Intrain).sum()/len(Intrain)\n",
    "recallratetest"
   ]
  },
  {
   "cell_type": "code",
   "execution_count": 52,
   "id": "150b21ce-2c2f-4f15-9fdf-13119bc14d16",
   "metadata": {},
   "outputs": [
    {
     "data": {
      "text/plain": [
       "0.19552478318097402"
      ]
     },
     "execution_count": 115,
     "metadata": {},
     "output_type": "execute_result"
    }
   ],
   "source": [
    "recallratetest"
   ]
  },
  {
   "cell_type": "code",
   "execution_count": 12,
   "id": "d4ec6c7b-e7d8-409e-a36c-7db4da23aa75",
   "metadata": {},
   "outputs": [],
   "source": [
    "RecallRate5 = []\n",
    "for j in range(Weighttrain.shape[0]):\n",
    "    Recallres = []\n",
    "    for i in range(len(BuyIDtest)):\n",
    "        BuyID = BuyIDtest[i]\n",
    "        PreparedSupply = np.asarray(eval(RecommendIDtest[i]))\n",
    "        SupplySimilar = np.asarray(eval(RecommendIDtestScore[i]))\n",
    "        CorrectID = SupplyIDtest[i]\n",
    "        Weight = np.matrix(Weighttrain.iloc[j,:]).T\n",
    "        Recallonce = Recall(BuyID,PreparedSupply,SupplySimilar,CorrectID,Weight)\n",
    "        Recallres.append(Recallonce)\n",
    "    recallrate = np.asarray(Recallres).sum()/len(Recallres)\n",
    "    RecallRate5.append(recallrate)"
   ]
  },
  {
   "cell_type": "code",
   "execution_count": 11,
   "id": "e210a423-6ff1-4104-923d-bd7cf41efdfc",
   "metadata": {},
   "outputs": [
    {
     "data": {
      "text/plain": [
       "0        22071\n",
       "1        22071\n",
       "2        22071\n",
       "3        22071\n",
       "4        22071\n",
       "         ...  \n",
       "55456     8107\n",
       "55457     8107\n",
       "55458     8107\n",
       "55459     8107\n",
       "55460     8107\n",
       "Name: id（供应商代码）, Length: 55461, dtype: int64"
      ]
     },
     "execution_count": 11,
     "metadata": {},
     "output_type": "execute_result"
    }
   ],
   "source": [
    "SupplyIDtest"
   ]
  },
  {
   "cell_type": "code",
   "execution_count": 17,
   "id": "f8519f97-c638-4e16-865a-d14f97cddf44",
   "metadata": {},
   "outputs": [
    {
     "data": {
      "text/plain": [
       "[0.12580011179026704,\n",
       " 0.1409819512810804,\n",
       " 0.1482483186383224,\n",
       " 0.14898757685580857,\n",
       " 0.15933719190061485,\n",
       " 0.16438578460539838,\n",
       " 0.1565604659129839,\n",
       " 0.16764933917527633,\n",
       " 0.17367158904455382,\n",
       " 0.17365355835632246,\n",
       " 0.1597879591063991,\n",
       " 0.1732749139034637,\n",
       " 0.17962171616090586,\n",
       " 0.1811543246605723,\n",
       " 0.17853987486702366,\n",
       " 0.16195164169416346,\n",
       " 0.1755467806206163,\n",
       " 0.18200176700744666,\n",
       " 0.18503092263031679,\n",
       " 0.18555381258902653,\n",
       " 0.18113629397234093,\n",
       " 0.16368258776437497,\n",
       " 0.17718757324967094,\n",
       " 0.18348028344241898,\n",
       " 0.18719460521808118,\n",
       " 0.18865509096482214,\n",
       " 0.18750112691801446,\n",
       " 0.1831737617424857,\n",
       " 0.16523322695227277,\n",
       " 0.17895458069634518,\n",
       " 0.18443590991868158,\n",
       " 0.18856493752366527,\n",
       " 0.19056634391734734,\n",
       " 0.19000739258217486,\n",
       " 0.18822235444726926,\n",
       " 0.18420151097167378,\n",
       " 0.1660446079226844,\n",
       " 0.18075764951948217,\n",
       " 0.18586033428895982,\n",
       " 0.18881736715890446,\n",
       " 0.19193667622293142,\n",
       " 0.19148590901714718,\n",
       " 0.19024179152918266,\n",
       " 0.18952056399992787,\n",
       " 0.18562593534195201,\n",
       " 0.16936225455725645,\n",
       " 0.18201979769567805,\n",
       " 0.18674383801229694,\n",
       " 0.18953859468815926,\n",
       " 0.19184652278177458,\n",
       " 0.1929103333874254,\n",
       " 0.19227925929932746,\n",
       " 0.19182849209354322,\n",
       " 0.1909990804349002,\n",
       " 0.18757324967093994,\n",
       " 0.17165215196264041,\n",
       " 0.18326391518364257,\n",
       " 0.18786174068264186,\n",
       " 0.1900975460233317,\n",
       " 0.19175636934061774,\n",
       " 0.19390202124015074,\n",
       " 0.19375777573429978,\n",
       " 0.19361353022844882,\n",
       " 0.19300048682858226,\n",
       " 0.1913056021348335,\n",
       " 0.18874524440597898,\n",
       " 0.17439281657380862,\n",
       " 0.18517516813616774,\n",
       " 0.18876327509421034,\n",
       " 0.19063846667027282,\n",
       " 0.19116135662898254,\n",
       " 0.19406429743423306,\n",
       " 0.19521826148104074,\n",
       " 0.1945150646400173,\n",
       " 0.19413642018715854,\n",
       " 0.19429869638124087,\n",
       " 0.19287427201096266,\n",
       " 0.19013360739979446,\n",
       " 0.17711545049674546,\n",
       " 0.1869962676475361,\n",
       " 0.19018769946448855,\n",
       " 0.19098104974666882,\n",
       " 0.19148590901714718,\n",
       " 0.19346928472259786,\n",
       " 0.19568705937505634,\n",
       " 0.19532644561042894,\n",
       " 0.1957050900632877,\n",
       " 0.19552478318097402,\n",
       " 0.1948215863399506,\n",
       " 0.19363156091668018,\n",
       " 0.19159409314653542,\n",
       " 0.18050521988424298,\n",
       " 0.1890337354176809,\n",
       " 0.1909269576819747,\n",
       " 0.19242350480517842,\n",
       " 0.19287427201096266,\n",
       " 0.19300048682858226,\n",
       " 0.19644434828077387,\n",
       " 0.19685905411009538,\n",
       " 0.19615585726907195,\n",
       " 0.1967328392924758,\n",
       " 0.19599358107498963,\n",
       " 0.19556084455743675,\n",
       " 0.19384792917545662,\n",
       " 0.19206289104055102,\n",
       " 0.1837868051423523,\n",
       " 0.19080074286435514,\n",
       " 0.19222516723463334,\n",
       " 0.19337913128144102,\n",
       " 0.1937938371107625,\n",
       " 0.1937938371107625,\n",
       " 0.19483961702818198,\n",
       " 0.1976163430158129,\n",
       " 0.19687708479832675,\n",
       " 0.1969672382394836,\n",
       " 0.19694920755125223,\n",
       " 0.19622798002199743,\n",
       " 0.19561493662213086,\n",
       " 0.19406429743423306,\n",
       " 0.19258578099926074,\n",
       " 0.18692414489461062,\n",
       " 0.1920087989758569,\n",
       " 0.1935053460990606,\n",
       " 0.1944068805106291,\n",
       " 0.19460521808117415,\n",
       " 0.19520023079280935,\n",
       " 0.19503795459872703,\n",
       " 0.1978687726510521,\n",
       " 0.19779664989812662,\n",
       " 0.1971475451217973,\n",
       " 0.19716557581002866,\n",
       " 0.19676890066893854,\n",
       " 0.19581327419267594,\n",
       " 0.1953444762986603,\n",
       " 0.19413642018715854,\n",
       " 0.19307260958150774,\n",
       " 0.19047619047619047,\n",
       " 0.1932168550873587,\n",
       " 0.19449703395178594,\n",
       " 0.19556084455743675,\n",
       " 0.1954706911162799,\n",
       " 0.1955969059338995,\n",
       " 0.1947494635870251,\n",
       " 0.19552478318097402,\n",
       " 0.19749012819819334,\n",
       " 0.19779664989812662,\n",
       " 0.19739997475703647,\n",
       " 0.19741800544526786,\n",
       " 0.19675086998070718,\n",
       " 0.19610176520437786,\n",
       " 0.19561493662213086,\n",
       " 0.19433475775770362,\n",
       " 0.19334306990497827,\n",
       " 0.19211698310524514,\n",
       " 0.19485764771641334,\n",
       " 0.19552478318097402,\n",
       " 0.19545266042804854,\n",
       " 0.1953625069868917,\n",
       " 0.19520023079280935,\n",
       " 0.19478552496348786,\n",
       " 0.1947494635870251,\n",
       " 0.1972737599394169,\n",
       " 0.1976884657687384,\n",
       " 0.19729179062764826,\n",
       " 0.1976163430158129,\n",
       " 0.19709345305710319,\n",
       " 0.19676890066893854,\n",
       " 0.1961919186455347,\n",
       " 0.19550675249274266,\n",
       " 0.1943888498223977,\n",
       " 0.19346928472259786]"
      ]
     },
     "execution_count": 17,
     "metadata": {},
     "output_type": "execute_result"
    }
   ],
   "source": [
    "RecallRate5"
   ]
  },
  {
   "cell_type": "code",
   "execution_count": 14,
   "id": "c7aeffff-24b4-48e9-bd45-6b3bcfab0297",
   "metadata": {},
   "outputs": [
    {
     "data": {
      "text/plain": [
       "127"
      ]
     },
     "execution_count": 14,
     "metadata": {},
     "output_type": "execute_result"
    }
   ],
   "source": [
    "np.argmax(RecallRate5)"
   ]
  },
  {
   "cell_type": "code",
   "execution_count": 16,
   "id": "b20e07f3-ad73-49b3-a008-e6cc105bd535",
   "metadata": {},
   "outputs": [
    {
     "data": {
      "text/plain": [
       "0.1978687726510521"
      ]
     },
     "execution_count": 16,
     "metadata": {},
     "output_type": "execute_result"
    }
   ],
   "source": [
    "RecallRate5[127]"
   ]
  },
  {
   "cell_type": "code",
   "execution_count": 45,
   "id": "1834a0f9-46e2-441d-8703-7a7b65bc78a2",
   "metadata": {},
   "outputs": [],
   "source": [
    "infonotinhis = pd.read_csv(r\"F:\\\\24561\\\\Documents\\\\欧贝杯智能创新比赛\\\\数据\\\\matnotinhis.csv\")"
   ]
  },
  {
   "cell_type": "code",
   "execution_count": 46,
   "id": "1da952ff-bc62-46e9-b9ff-cff7e9a4140e",
   "metadata": {},
   "outputs": [],
   "source": [
    "prepare_sup_sun = np.asarray(eval(infonotinhis.loc[0,'Recommend'])) \n",
    "similar_sup_sun = np.asarray(eval(infonotinhis.loc[0,'Score']))\n",
    "prepare_sup_shimo = np.asarray(eval(infonotinhis.loc[1,'Recommend'])) \n",
    "similar_sup_shimo = np.asarray(eval(infonotinhis.loc[1,'Score']))\n",
    "buyid_sun = infonotinhis.loc[0,'id（采购商代码）'] \n",
    "buyid_shimo = infonotinhis.loc[1,'id（采购商代码）'] "
   ]
  },
  {
   "cell_type": "code",
   "execution_count": 47,
   "id": "41999819-a7f0-4c66-b4ca-5b7a0b871814",
   "metadata": {},
   "outputs": [],
   "source": [
    "weight = np.mat('0.15;0.4;0.45')"
   ]
  },
  {
   "cell_type": "code",
   "execution_count": 23,
   "id": "357c703d-cff0-4836-af9c-cf1570eadd9f",
   "metadata": {},
   "outputs": [],
   "source": [
    "def Recall_not_in_his(BuyID,PreparedSupply,SupplySimilar,Weight):\n",
    "    SupplyCity = SupplyScore.loc[PreparedSupply,'供应商城市'].values\n",
    "    SupplyPoint = SupplyScore.loc[PreparedSupply,'综合得分指数'].values\n",
    "    BuyCity = Buy_City.loc[BuyID,'采购商城市']\n",
    "    Dis = 100/(Distance.loc[SupplyCity,BuyCity]+100)\n",
    "    SupplySimilar = 1/(SupplySimilar+1)\n",
    "    SupplyTotal = np.vstack((SupplyPoint,Dis,SupplySimilar)).T\n",
    "    SupplyLastpoint = np.array(np.dot(SupplyTotal,Weight))\n",
    "    sorted_id = np.argsort(-SupplyLastpoint.T)[:,:10]\n",
    "    SupplyRecommend = PreparedSupply[sorted_id]\n",
    "    return SupplyRecommend"
   ]
  },
  {
   "cell_type": "code",
   "execution_count": null,
   "id": "0c82e795-39a4-495f-9266-dca279897007",
   "metadata": {},
   "outputs": [],
   "source": [
    "for i in range(len(BuyIDtest)):\n",
    "    BuyID = BuyIDtest[i]\n",
    "    PreparedSupply = np.asarray(eval(RecommendIDtest[i]))\n",
    "    SupplySimilar = np.asarray(eval(RecommendIDtestScore[i]))\n",
    "    CorrectID = SupplyIDtest[i]\n",
    "    Weight = np.mat('0.05;0.15;0.8')\n",
    "    Recallonce = Recall(BuyID,PreparedSupply,SupplySimilar,CorrectID,Weight)\n",
    "    Recallrestest.append(Recallonce)\n",
    "    Judge = JudgeHistory(CorrectID,SupplyIDtrain)\n",
    "    Intrain.append(Judge)"
   ]
  },
  {
   "cell_type": "code",
   "execution_count": 25,
   "id": "d7d68357-56f8-4a0d-9f5f-383d9ca2e3b2",
   "metadata": {},
   "outputs": [
    {
     "data": {
      "text/plain": [
       "array([[35695, 27804, 15755,  1357,  9651,  8213,    10, 19272,  6129,\n",
       "         3587]])"
      ]
     },
     "execution_count": 25,
     "metadata": {},
     "output_type": "execute_result"
    }
   ],
   "source": [
    "Recall_not_in_his(buyid_sun,prepare_sup_sun,similar_sup_sun,weight)"
   ]
  },
  {
   "cell_type": "code",
   "execution_count": 48,
   "id": "5a87b4ec-1430-4016-aace-d1f93d6b9324",
   "metadata": {},
   "outputs": [
    {
     "data": {
      "text/plain": [
       "array([[23537, 22627,  7060,  6556, 25101, 28980, 45587,  7584, 34488,\n",
       "        31685]])"
      ]
     },
     "execution_count": 48,
     "metadata": {},
     "output_type": "execute_result"
    }
   ],
   "source": [
    "Recall_not_in_his(buyid_shimo,prepare_sup_shimo,similar_sup_shimo,weight)"
   ]
  },
  {
   "cell_type": "code",
   "execution_count": 39,
   "id": "3f5b2a3e-9f04-416b-8170-64a8d0ba5bf4",
   "metadata": {},
   "outputs": [],
   "source": [
    "prepare_sup_oil = np.asarray(eval(infonotinhis.loc[2,'Recommend'])) \n",
    "similar_sup_oil = np.asarray(eval(infonotinhis.loc[2,'Score']))\n",
    "buyid_oil = infonotinhis.loc[2,'id（采购商代码）'] "
   ]
  },
  {
   "cell_type": "code",
   "execution_count": 40,
   "id": "c9b1dd62-1598-488a-b035-18318d2210ac",
   "metadata": {},
   "outputs": [
    {
     "data": {
      "text/plain": [
       "array([[26309, 43181, 28973, 35674,  4777, 20466,  9600, 30351, 38955,\n",
       "        41896]])"
      ]
     },
     "execution_count": 40,
     "metadata": {},
     "output_type": "execute_result"
    }
   ],
   "source": [
    "Recall_not_in_his(buyid_oil,prepare_sup_oil,similar_sup_oil,weight)"
   ]
  },
  {
   "cell_type": "code",
   "execution_count": 43,
   "id": "c38912ba-b491-4d97-94d4-22ce88e02036",
   "metadata": {},
   "outputs": [
    {
     "name": "stdout",
     "output_type": "stream",
     "text": [
      "推荐供应商\n"
     ]
    },
    {
     "data": {
      "text/plain": [
       "array([ 9600, 41896, 10681, 13094,   525,  4472, 13705, 31265, 26532,\n",
       "        4472, 13705, 31265, 30634, 22022,  9600, 38955, 35674, 10448,\n",
       "       28232,   525, 34176, 32462, 35766, 26532,  2949, 26309,  4777,\n",
       "       43181,  5262, 30351, 20466, 29408, 44710, 21674,  6478,  7118,\n",
       "       24900, 28973, 12454, 17208, 34252,  6791, 23000,  3681, 17216,\n",
       "       17208])"
      ]
     },
     "execution_count": 43,
     "metadata": {},
     "output_type": "execute_result"
    }
   ],
   "source": [
    "print(\"推荐供应商\")\n",
    "prepare_sup_oil"
   ]
  },
  {
   "cell_type": "code",
   "execution_count": 44,
   "id": "e36c098f-b1d7-4c35-abb7-6e7448083405",
   "metadata": {},
   "outputs": [
    {
     "name": "stdout",
     "output_type": "stream",
     "text": [
      "相关供应物料相似度\n"
     ]
    },
    {
     "data": {
      "text/plain": [
       "array([0.99508089, 0.99508089, 0.99508089, 0.98207337, 0.97927254,\n",
       "       0.97816849, 0.97816849, 0.97816849, 0.97767365, 0.97744006,\n",
       "       0.97744006, 0.97744006, 0.97739756, 0.97739756, 0.97705883,\n",
       "       0.97705883, 0.97705883, 0.97621334, 0.97621334, 0.97618127,\n",
       "       0.97582304, 0.97582304, 0.97582304, 0.975658  , 0.9755733 ,\n",
       "       0.9755733 , 0.9755733 , 0.9755733 , 0.9755733 , 0.9755733 ,\n",
       "       0.9755733 , 0.97557276, 0.97557276, 0.97557276, 0.97557276,\n",
       "       0.97557276, 0.97544241, 0.97544241, 0.97544241, 0.97536743,\n",
       "       0.97536743, 0.97536743, 0.97532755, 0.97532755, 0.97529548,\n",
       "       0.97480273])"
      ]
     },
     "execution_count": 44,
     "metadata": {},
     "output_type": "execute_result"
    }
   ],
   "source": [
    "print(\"相关供应物料相似度\")\n",
    "similar_sup_oil"
   ]
  },
  {
   "cell_type": "code",
   "execution_count": null,
   "id": "d320dc71-d07f-42ac-9182-d21582af48c4",
   "metadata": {},
   "outputs": [],
   "source": []
  }
 ],
 "metadata": {
  "kernelspec": {
   "display_name": "Python 3 (ipykernel)",
   "language": "python",
   "name": "python3"
  },
  "language_info": {
   "codemirror_mode": {
    "name": "ipython",
    "version": 3
   },
   "file_extension": ".py",
   "mimetype": "text/x-python",
   "name": "python",
   "nbconvert_exporter": "python",
   "pygments_lexer": "ipython3",
   "version": "3.9.12"
  }
 },
 "nbformat": 4,
 "nbformat_minor": 5
}
