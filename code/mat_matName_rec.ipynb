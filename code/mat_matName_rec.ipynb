{
 "cells": [
  {
   "cell_type": "code",
   "execution_count": 2,
   "id": "881f36ea-3009-4bd3-80ea-a274c43ef7c0",
   "metadata": {},
   "outputs": [],
   "source": [
    "# pip install transformers"
   ]
  },
  {
   "cell_type": "code",
   "execution_count": 2,
   "id": "a3321bb2-132c-4027-8492-3a1eba25caa7",
   "metadata": {},
   "outputs": [],
   "source": [
    "import torch\n",
    "import torch.nn.functional as F\n",
    "import pandas as pd\n",
    "import numpy as np"
   ]
  },
  {
   "cell_type": "code",
   "execution_count": 2,
   "id": "acc350d4-1abb-4b78-a867-ccfa8c83c814",
   "metadata": {},
   "outputs": [],
   "source": [
    "id_mat_df = pd.read_pickle(\"./id_mat_matrix.pkl\")"
   ]
  },
  {
   "cell_type": "code",
   "execution_count": null,
   "id": "db6190ce-1301-4376-ad01-20b5bb6c68af",
   "metadata": {},
   "outputs": [],
   "source": [
    "import os\n",
    "os.environ[\"CUDA_VISIBLE_DEVICES\"] = \"0\"\n",
    "from transformers import BertTokenizer, BertModel\n",
    "# 基于全词掩码（Whole Word Masking）技术的中文预训练模型\n",
    "# https://github.com/ymcui/Chinese-BERT-wwm\n",
    "MODEL_NAME = \"hfl/chinese-roberta-wwm-ext\"\n",
    "tokenizer = BertTokenizer.from_pretrained(MODEL_NAME)\n",
    "model = BertModel.from_pretrained(MODEL_NAME)\n",
    "device = torch.device(\"cuda\" if torch.cuda.is_available() else \"cpu\")\n",
    "model.to(device)"
   ]
  },
  {
   "cell_type": "code",
   "execution_count": 5,
   "id": "26d455cb-5564-4546-9de2-1c2a5a58fae9",
   "metadata": {},
   "outputs": [],
   "source": [
    "# data = pd.read_csv(\"./material_spec.csv\")\n",
    "trainData = pd.read_csv(\"./Data_train.csv\", index_col=0)\n",
    "mat_names = train_mat_names = list(trainData[\"MAT_NAME（物料名称）\"].drop_duplicates())\n",
    "mat2indx = {}\n",
    "for i, name in enumerate(mat_names):\n",
    "    mat2indx[name]=i"
   ]
  },
  {
   "cell_type": "code",
   "execution_count": 6,
   "id": "943890ed-0c57-4ff4-8bfe-d20331405b4b",
   "metadata": {},
   "outputs": [
    {
     "data": {
      "text/plain": [
       "torch.Size([31337, 768])"
      ]
     },
     "execution_count": 6,
     "metadata": {},
     "output_type": "execute_result"
    }
   ],
   "source": [
    "# 使用现成的物料向量\n",
    "trainMatVec = torch.load(\"trainMatVec\"+\".pt\")\n",
    "trainMatVec.shape"
   ]
  },
  {
   "cell_type": "code",
   "execution_count": 57,
   "id": "6257480c-fd19-4e2e-9d16-501e565b28a1",
   "metadata": {},
   "outputs": [],
   "source": [
    "#基于物料相似度的筛选, item base的协同过滤模型\n",
    "# 计算两个物料名称词向量之间的相似度\n",
    "\n",
    "class MatNameCF:\n",
    "    def __init__(self, id_mat_df, matvec, mat2indx, mat_names, model):\n",
    "        self.id_mat_df = id_mat_df\n",
    "        self.id_mat_matrix = id_mat_df.to_numpy(dtype=np.float64)\n",
    "        self.matvec = matvec\n",
    "        self.mat2indx = mat2indx\n",
    "        self.model = model\n",
    "        self.mat_names = mat_names\n",
    "        self.mat_similarity = None\n",
    "        self.sup_similarity = None\n",
    "    def conduct_similarity(self):\n",
    "        self.mat_similarity = torch.cdist(self.matvec,self.matvec,p=2)\n",
    "        # self.sup_similarity = pairwise_distances(self.id_mat_matrix)\n",
    "        return\n",
    "    def get_sup(self, mat):\n",
    "        sup_ids = []\n",
    "        try:\n",
    "            sup_ids = list(id_mat_df[id_mat_df.get(mat_name)>0].index)\n",
    "        except:\n",
    "            pass\n",
    "        return sup_ids\n",
    "             \n",
    "    def get_neareast_supplier(self, mat, simMatNum=10, n=100):\n",
    "        neareast_mat, sim_score = self.get_neareast_mat(mat, n=simMatNum)\n",
    "        visited = set()\n",
    "        sup_id = []\n",
    "        sup_score = []\n",
    "        for i,mat in enumerate(neareast_mat):\n",
    "            suppliers = list(self.id_mat_df[self.id_mat_df[mat]>0].index)\n",
    "            for id in suppliers:\n",
    "                if id not in visited:\n",
    "                    sup_id.append((id))\n",
    "                    sup_score.append(sim_score[i].item())\n",
    "                    visited.add(id)\n",
    "        # return list(sup_id)[:n]\n",
    "        return sup_id[:n], sup_score[:n]\n",
    "    \n",
    "    # def get_neareast_mat(self, mat, n=10):\n",
    "    #     mat_names = self.mat_names\n",
    "    #     mat_indx = mat2indx[mat]\n",
    "    #     similar_mat_indx = self.mat_similarity[mat_indx].argsort()[:n].tolist()\n",
    "    #     # sim_mat = []\n",
    "    #     # for i in similar_mat_indx[:n]:\n",
    "    #     #     sim_mat.append(mat_names[i])\n",
    "    #     # return sim_mat\n",
    "    #     return list(mat_names[similar_mat_indx[:n]])\n",
    "    \n",
    "    def get_neareast_mat(self, mat, n=10):\n",
    "        matName = mat\n",
    "        matvec = self.matvec\n",
    "        mat2indx = self.mat2indx\n",
    "        model = self.model\n",
    "         # 历史出现过的物料名称，直接取已经获得的向量\n",
    "        if matName in mat2indx.keys():\n",
    "            matNameVec = matvec[mat2indx[matName]]\n",
    "        # 历史没出现过的物料名称，输入模型，获得向量\n",
    "        else:\n",
    "            input_id = tokenizer([matName], padding=True, truncation=True, max_length=20, return_tensors=\"pt\")\n",
    "            input_ids = input_id[\"input_ids\"].to(device)\n",
    "            with torch.no_grad():  \n",
    "                matNameVec = model(input_ids)['pooler_output']\n",
    "            matNameVec = matNameVec.cpu().detach()\n",
    "            matNameVec = matNameVec[0]\n",
    "            torch.cuda.empty_cache()    \n",
    "\n",
    "        # simalirities = F.pairwise_distance(matvec, matNameVec, p=2)\n",
    "        similarities = F.cosine_similarity(matvec, matNameVec, dim=-1)\n",
    "        sorted_sim, indices = torch.sort(similarities,descending=True)\n",
    "        sim_mat = []\n",
    "        for i in indices[:n]:\n",
    "            sim_mat.append(mat_names[i])\n",
    "        return sim_mat, sorted_sim[:n]"
   ]
  },
  {
   "cell_type": "code",
   "execution_count": 58,
   "id": "dde137c1-763a-4920-b5fc-2d5dcb68f6b2",
   "metadata": {},
   "outputs": [],
   "source": [
    "matNameCF = MatNameCF(id_mat_df, matvec, mat2indx, mat_names, model)\n",
    "# matNameCF.conduct_similarity()\n",
    "# matNameCF.mat_similarity = mat_similarity"
   ]
  },
  {
   "cell_type": "code",
   "execution_count": 73,
   "id": "e8d18918-8649-4d3d-82db-2349b3a53357",
   "metadata": {},
   "outputs": [],
   "source": [
    "# matNameCF.conduct_similarity()\n",
    "# mat_similarity = matNameCF.mat_similarity"
   ]
  },
  {
   "cell_type": "code",
   "execution_count": 77,
   "id": "abea61bc-47ef-4909-9af1-8b7b6d4b7276",
   "metadata": {},
   "outputs": [],
   "source": [
    "mat_indx = mat2indx[mat]\n",
    "similar_mat_indx = matNameCF.mat_similarity[mat_indx].argsort()[:10]"
   ]
  },
  {
   "cell_type": "markdown",
   "id": "20282847-3912-48a5-8722-147c185a5304",
   "metadata": {},
   "source": [
    "太阳能电池"
   ]
  },
  {
   "cell_type": "code",
   "execution_count": 61,
   "id": "f05c762a-0d72-4fd2-9845-937a9c014331",
   "metadata": {},
   "outputs": [
    {
     "name": "stdout",
     "output_type": "stream",
     "text": [
      "相似物料\n",
      "['锂亚硫酰氯电池', '电动平板车蓄电池', '锂离子充电电池', '充电式镍氢电池', '40AH铁锂蓄电池（长1300*宽570*高920mm）及液冷机组（长620*宽470*高470mm）', '二氧化碳专用电池', '雷士 太阳能户外灯', '充电式角磨机电池', '锂聚合物电池组', '蓄电池（电瓶车电池）', 'SPECTOR光普仪电池', '蓄电池蓄电池', '户外防水太阳能LED灯带', '户外防水太阳能LED警示灯', '24V大容量锂电池', '阀控式铅酸蓄电池', '内燃照明车 电池（12V）22246797', '电动车锂电池', '锂电太阳能双头路灯', '光纤熔接机电池', '叉车电池用蒸馏水', '太阳能LED灯BRP361', '太阳能户外灯', '锂聚合物电池NL 853556M,1200mAh4.2V', '太阳能防爆航空障碍灯', 'C6054357 锂电池', '退火循环水池电机+泵头安装', '5#南孚碱性电池', '尾矿太阳能控制器SLTK-10AI', '7号镍氢电池']\n"
     ]
    }
   ],
   "source": [
    "mat = \"太阳能电池\"\n",
    "sim_mat, sim_score = matNameCF.get_neareast_mat(mat,n = 30)\n",
    "print(\"相似物料\")\n",
    "print(sim_mat)"
   ]
  },
  {
   "cell_type": "code",
   "execution_count": 63,
   "id": "31fad93b-eb48-47a7-ae67-a59ccdc2c827",
   "metadata": {
    "tags": []
   },
   "outputs": [
    {
     "name": "stdout",
     "output_type": "stream",
     "text": [
      "推荐供应商ID\n",
      "[31715, 46086, 269, 13139, 18618, 31877, 7665, 27044, 35895, 7360, 30843, 44241, 2373, 13993, 28893, 4191, 13745, 17843, 8561, 28626, 38203, 4988, 25798, 43755, 3368, 8927, 16840, 19272, 30622]\n",
      "相关供应物料相似度\n",
      "[0.9681918025016785, 0.9669303894042969, 0.966675341129303, 0.966675341129303, 0.966675341129303, 0.966675341129303, 0.9664814472198486, 0.9664814472198486, 0.9664814472198486, 0.9638988971710205, 0.9638988971710205, 0.9638988971710205, 0.9629126787185669, 0.9629126787185669, 0.9629126787185669, 0.9627447724342346, 0.9627447724342346, 0.9627447724342346, 0.962562084197998, 0.962562084197998, 0.962562084197998, 0.9618133902549744, 0.9618133902549744, 0.9618133902549744, 0.9614219665527344, 0.9614219665527344, 0.9614219665527344, 0.9614219665527344, 0.9614219665527344]\n"
     ]
    }
   ],
   "source": [
    "supp,score = matNameCF.get_neareast_supplier(mat, simMatNum=10, n=50)\n",
    "print(\"推荐供应商ID\")\n",
    "print(supp)\n",
    "print(\"相关供应物料相似度\")\n",
    "print(score)"
   ]
  },
  {
   "cell_type": "markdown",
   "id": "d08efca1-ae71-4c7c-bd8a-c14f84bb9aa0",
   "metadata": {},
   "source": [
    "石墨烯"
   ]
  },
  {
   "cell_type": "code",
   "execution_count": 64,
   "id": "4c1798cf-b3a4-4dd4-ac41-e768757e2658",
   "metadata": {},
   "outputs": [
    {
     "name": "stdout",
     "output_type": "stream",
     "text": [
      "相似物料\n",
      "['超高分子聚乙烯管（黑色）', '超高分子量聚乙烯耐磨弯头', '超高分子量聚乙烯板', '超高分子量聚乙烯管', '超高分子量聚乙烯直管', '智能型石墨电热板', '丙烯酸聚氨酯面漆', '高密度聚乙烯管 219*6m 1MPa两端带法兰', '高级丙烯酸外墙涂料', '铝箔聚乙烯保温管壳', '矿用井下聚氯乙烯管', '不锈钢金属石墨垫', '不锈钢石墨金属垫', '黑色环氧树脂地坪漆', '铜芯氯乙烯护套屏蔽软线', '超五类无氧铜网线', '水性环氧防腐底漆', '交联乙烯铝芯电缆', '高密度聚乙烯管 Φ102*8', '水性环氧树脂地坪漆', '硬质聚氯乙烯排水管', '亚克力有机玻璃面板罩', '石墨板底面前板', '双面纳米防腐彩钢瓦', '有机硅耐高温漆', '石墨板底面中板', '软玻璃PVC透明桌布', '耐油耐高温石棉板,,,', '阻燃玻璃钢电缆桥架', '镍丝加强石墨带状垫片']\n"
     ]
    }
   ],
   "source": [
    "mat = \"石墨烯\"\n",
    "sim_mat, sim_score = matNameCF.get_neareast_mat(mat,n = 30)\n",
    "print(\"相似物料\")\n",
    "print(sim_mat)"
   ]
  },
  {
   "cell_type": "code",
   "execution_count": 65,
   "id": "27ac3a38-4930-4026-80fc-2a3a732f8dba",
   "metadata": {},
   "outputs": [
    {
     "name": "stdout",
     "output_type": "stream",
     "text": [
      "推荐供应商ID\n",
      "[23977, 32539, 8513, 13166, 31052, 38278, 14362, 33930, 37008, 37185, 45257, 13532, 21854, 24450, 40032, 16840, 19272, 30622, 33678, 37819, 2871, 20466, 40412, 40970, 1024, 14516]\n",
      "相关供应物料相似度\n",
      "[0.9625617265701294, 0.9625617265701294, 0.9609711170196533, 0.9609711170196533, 0.9609711170196533, 0.9609711170196533, 0.9609711170196533, 0.9609711170196533, 0.9609711170196533, 0.9609711170196533, 0.9609711170196533, 0.9609711170196533, 0.957426130771637, 0.957426130771637, 0.957426130771637, 0.9573827385902405, 0.9573827385902405, 0.9573827385902405, 0.9571952819824219, 0.9571952819824219, 0.9557058215141296, 0.9557058215141296, 0.9557058215141296, 0.9557058215141296, 0.9529126882553101, 0.9529126882553101]\n"
     ]
    }
   ],
   "source": [
    "supp,score = matNameCF.get_neareast_supplier(mat, simMatNum=10, n=50)\n",
    "print(\"推荐供应商ID\")\n",
    "print(supp)\n",
    "print(\"相关供应物料相似度\")\n",
    "print(score)"
   ]
  }
 ],
 "metadata": {
  "kernelspec": {
   "display_name": "PyTorch-1.8",
   "language": "python",
   "name": "pytorch-1.8"
  },
  "language_info": {
   "codemirror_mode": {
    "name": "ipython",
    "version": 3
   },
   "file_extension": ".py",
   "mimetype": "text/x-python",
   "name": "python",
   "nbconvert_exporter": "python",
   "pygments_lexer": "ipython3",
   "version": "3.7.10"
  }
 },
 "nbformat": 4,
 "nbformat_minor": 5
}
