{
 "cells": [
  {
   "cell_type": "code",
   "execution_count": 1,
   "id": "2f4486ff-0c02-4aee-8f3a-80ca709cb51b",
   "metadata": {},
   "outputs": [],
   "source": [
    "import torch\n",
    "import torch.nn.functional as F\n",
    "import pandas as pd\n",
    "import numpy as np"
   ]
  },
  {
   "cell_type": "code",
   "execution_count": 3,
   "id": "19ebf43e-de2b-4496-ba02-c1c9764da714",
   "metadata": {},
   "outputs": [],
   "source": [
    "# ! pip install transformers"
   ]
  },
  {
   "cell_type": "code",
   "execution_count": null,
   "id": "1e3a0ebc-ea3f-4259-9a4b-3bcaba91340c",
   "metadata": {},
   "outputs": [],
   "source": [
    "# pip install transformers\n",
    "import os\n",
    "os.environ[\"CUDA_VISIBLE_DEVICES\"] = \"0\"\n",
    "import torch\n",
    "from transformers import BertTokenizer, BertModel\n",
    "import pandas as pd\n",
    "import numpy as np\n",
    "# MODEL_NAME = \"hfl/chinese-pert-large\"\n",
    "MODEL_NAME = \"hfl/chinese-roberta-wwm-ext\"\n",
    "# MODEL_NAME = \"hfl/rbt3\"\n",
    "tokenizer = BertTokenizer.from_pretrained(MODEL_NAME)\n",
    "model = BertModel.from_pretrained(MODEL_NAME,\n",
    "                 hidden_dropout_prob=0,\n",
    "                 attention_probs_dropout_prob=0,)\n",
    "\n",
    "device = torch.device(\"cuda\" if torch.cuda.is_available() else \"cpu\")\n",
    "model.to(device)"
   ]
  },
  {
   "cell_type": "markdown",
   "id": "ae6d8d3c-f4ed-4f49-81d4-a4f67c9b6a26",
   "metadata": {},
   "source": [
    "获取训练集中的物料名称向量"
   ]
  },
  {
   "cell_type": "code",
   "execution_count": 2,
   "id": "5b33e0ab-6a55-4e35-8232-a5a85298571e",
   "metadata": {},
   "outputs": [
    {
     "data": {
      "text/html": [
       "<div>\n",
       "<style scoped>\n",
       "    .dataframe tbody tr th:only-of-type {\n",
       "        vertical-align: middle;\n",
       "    }\n",
       "\n",
       "    .dataframe tbody tr th {\n",
       "        vertical-align: top;\n",
       "    }\n",
       "\n",
       "    .dataframe thead th {\n",
       "        text-align: right;\n",
       "    }\n",
       "</style>\n",
       "<table border=\"1\" class=\"dataframe\">\n",
       "  <thead>\n",
       "    <tr style=\"text-align: right;\">\n",
       "      <th></th>\n",
       "      <th>id（供应商代码）</th>\n",
       "      <th>MAT_NAME（物料名称）</th>\n",
       "    </tr>\n",
       "    <tr>\n",
       "      <th>QUOTE_MAT_LINE_ID（报价单行号）</th>\n",
       "      <th></th>\n",
       "      <th></th>\n",
       "    </tr>\n",
       "  </thead>\n",
       "  <tbody>\n",
       "    <tr>\n",
       "      <th>8e24b75ce1c811ebaf97005056b12bb8</th>\n",
       "      <td>6603</td>\n",
       "      <td>液压缸吊座</td>\n",
       "    </tr>\n",
       "    <tr>\n",
       "      <th>f3afd8f4e1dc11ebaf97005056b12bb8</th>\n",
       "      <td>20958</td>\n",
       "      <td>六角头螺栓-C级GB/T5780-2000</td>\n",
       "    </tr>\n",
       "    <tr>\n",
       "      <th>1b99daf8e1de11ebaf97005056b12bb8</th>\n",
       "      <td>41982</td>\n",
       "      <td>高压水银荧光灯泡</td>\n",
       "    </tr>\n",
       "    <tr>\n",
       "      <th>1b9aac07e1de11ebaf97005056b12bb8</th>\n",
       "      <td>41982</td>\n",
       "      <td>手电筒螺口小灯泡（圆头）</td>\n",
       "    </tr>\n",
       "    <tr>\n",
       "      <th>bff9cf95e1e511ebaf97005056b12bb8</th>\n",
       "      <td>20238</td>\n",
       "      <td>外接头</td>\n",
       "    </tr>\n",
       "  </tbody>\n",
       "</table>\n",
       "</div>"
      ],
      "text/plain": [
       "                                  id（供应商代码）         MAT_NAME（物料名称）\n",
       "QUOTE_MAT_LINE_ID（报价单行号）                                          \n",
       "8e24b75ce1c811ebaf97005056b12bb8       6603                  液压缸吊座\n",
       "f3afd8f4e1dc11ebaf97005056b12bb8      20958  六角头螺栓-C级GB/T5780-2000\n",
       "1b99daf8e1de11ebaf97005056b12bb8      41982               高压水银荧光灯泡\n",
       "1b9aac07e1de11ebaf97005056b12bb8      41982           手电筒螺口小灯泡（圆头）\n",
       "bff9cf95e1e511ebaf97005056b12bb8      20238                    外接头"
      ]
     },
     "execution_count": 2,
     "metadata": {},
     "output_type": "execute_result"
    }
   ],
   "source": [
    "trainData = pd.read_csv(\"./Data_train.csv\", index_col=0)\n",
    "train_mat_names = list(trainData[\"MAT_NAME（物料名称）\"].drop_duplicates())\n",
    "trainData[:5]"
   ]
  },
  {
   "cell_type": "code",
   "execution_count": 4,
   "id": "37f31a20-4b77-409e-b775-74b9b51252b5",
   "metadata": {},
   "outputs": [],
   "source": [
    "def get_matVec(mat_names):\n",
    "    input_id = tokenizer(mat_names, padding=True, truncation=True, max_length=10, return_tensors=\"pt\")\n",
    "    input_ids = input_id[\"input_ids\"]\n",
    "    input_chunks = torch.chunk(input_ids, 10, 0)\n",
    "    outputs = []\n",
    "    for chunk in input_chunks:\n",
    "        chunk = chunk.to(device)\n",
    "        with torch.no_grad():  \n",
    "            output = model(chunk)['pooler_output']\n",
    "        output = output.cpu().detach()\n",
    "        torch.cuda.empty_cache()\n",
    "        outputs.append(output)\n",
    "    matvec = torch.cat(outputs,0)\n",
    "    return matvec"
   ]
  },
  {
   "cell_type": "code",
   "execution_count": null,
   "id": "7fc1f41b-f952-4653-a460-0bf1a4b242ee",
   "metadata": {},
   "outputs": [],
   "source": [
    "train_mat_names = list(trainData[\"MAT_NAME（物料名称）\"].drop_duplicates())\n",
    "trainMatVec = get_matVec(train_mat_names)\n",
    "# 训练数据中的物料名称向量\n",
    "trainMatVec.shape"
   ]
  },
  {
   "cell_type": "code",
   "execution_count": 6,
   "id": "f8d65c9e-a7f4-4db6-9a4a-35d615629e34",
   "metadata": {},
   "outputs": [],
   "source": [
    "torch.save(trainMatVec, \"trainMatVec\"+\".pt\")"
   ]
  },
  {
   "cell_type": "markdown",
   "id": "8ddbf82b-9124-431b-a780-e39bcf45e116",
   "metadata": {},
   "source": [
    "获取测试集中的物料名称向量"
   ]
  },
  {
   "cell_type": "code",
   "execution_count": 4,
   "id": "0f9401d3-1c3f-43de-a406-c8ca695c2555",
   "metadata": {},
   "outputs": [],
   "source": [
    "testData = pd.read_csv(\"./Data_test.csv\", index_col = 0)\n",
    "test_mat_names = list(testData[\"MAT_NAME（物料名称）\"].drop_duplicates())"
   ]
  },
  {
   "cell_type": "code",
   "execution_count": 7,
   "id": "e2279035-6a96-40f1-b5ce-29d11400f817",
   "metadata": {},
   "outputs": [
    {
     "data": {
      "text/html": [
       "<div>\n",
       "<style scoped>\n",
       "    .dataframe tbody tr th:only-of-type {\n",
       "        vertical-align: middle;\n",
       "    }\n",
       "\n",
       "    .dataframe tbody tr th {\n",
       "        vertical-align: top;\n",
       "    }\n",
       "\n",
       "    .dataframe thead th {\n",
       "        text-align: right;\n",
       "    }\n",
       "</style>\n",
       "<table border=\"1\" class=\"dataframe\">\n",
       "  <thead>\n",
       "    <tr style=\"text-align: right;\">\n",
       "      <th></th>\n",
       "      <th>id（供应商代码）</th>\n",
       "      <th>MAT_NAME（物料名称）</th>\n",
       "    </tr>\n",
       "    <tr>\n",
       "      <th>QUOTE_MAT_LINE_ID（报价单行号）</th>\n",
       "      <th></th>\n",
       "      <th></th>\n",
       "    </tr>\n",
       "  </thead>\n",
       "  <tbody>\n",
       "    <tr>\n",
       "      <th>75be1c94b70811ecbb62005056a00443</th>\n",
       "      <td>22071</td>\n",
       "      <td>PDC可开闭式钻头</td>\n",
       "    </tr>\n",
       "    <tr>\n",
       "      <th>75bde9a7b70811ecbb62005056a00443</th>\n",
       "      <td>22071</td>\n",
       "      <td>超高压水力送水装置</td>\n",
       "    </tr>\n",
       "    <tr>\n",
       "      <th>75be1fe0b70811ecbb62005056a00443</th>\n",
       "      <td>22071</td>\n",
       "      <td>高压水便</td>\n",
       "    </tr>\n",
       "  </tbody>\n",
       "</table>\n",
       "</div>"
      ],
      "text/plain": [
       "                                  id（供应商代码） MAT_NAME（物料名称）\n",
       "QUOTE_MAT_LINE_ID（报价单行号）                                  \n",
       "75be1c94b70811ecbb62005056a00443      22071      PDC可开闭式钻头\n",
       "75bde9a7b70811ecbb62005056a00443      22071      超高压水力送水装置\n",
       "75be1fe0b70811ecbb62005056a00443      22071           高压水便"
      ]
     },
     "execution_count": 7,
     "metadata": {},
     "output_type": "execute_result"
    }
   ],
   "source": [
    "testData[:3]"
   ]
  },
  {
   "cell_type": "code",
   "execution_count": null,
   "id": "b48566fb-02f4-4c04-b0db-348a7a6aeb80",
   "metadata": {},
   "outputs": [
    {
     "data": {
      "text/plain": [
       "torch.Size([9391, 768])"
      ]
     },
     "execution_count": 8,
     "metadata": {},
     "output_type": "execute_result"
    }
   ],
   "source": [
    "testMatVec = get_matVec(test_mat_names)\n",
    "# 测试数据中的物料名称向量\n",
    "testMatVec.shape"
   ]
  },
  {
   "cell_type": "code",
   "execution_count": 12,
   "id": "6c9857f2-1362-43d8-a1e7-6b53341cd199",
   "metadata": {},
   "outputs": [],
   "source": [
    "torch.save(testMatVec, \"testMatVec\"+\".pt\")"
   ]
  },
  {
   "cell_type": "code",
   "execution_count": 5,
   "id": "154fb263-d8d7-4475-8a0d-e41860bfa586",
   "metadata": {},
   "outputs": [],
   "source": [
    "trainMatVec = torch.load(\"trainMatVec\"+\".pt\")\n",
    "testMatVec = torch.load(\"testMatVec\"+\".pt\")\n",
    "train_mat_index = pd.DataFrame(np.arange(len(train_mat_names)), index = train_mat_names)\n",
    "test_mat_index = pd.DataFrame(np.arange(len(test_mat_names)), index = test_mat_names)"
   ]
  },
  {
   "cell_type": "markdown",
   "id": "7e5762c5-0451-4ada-8abb-af9d62c897a2",
   "metadata": {},
   "source": [
    "计算测试集中物料名称与训练集中的物料名称的相似度"
   ]
  },
  {
   "cell_type": "code",
   "execution_count": 6,
   "id": "f7f3ad1b-55ce-4eb8-bb7b-e18e05348459",
   "metadata": {},
   "outputs": [
    {
     "name": "stdout",
     "output_type": "stream",
     "text": [
      "torch.Size([9391, 10])\n",
      "torch.Size([9391, 10])\n"
     ]
    }
   ],
   "source": [
    "def cos_similar(p, q):\n",
    "    sim_matrix = p.matmul(q.transpose(-2, -1))\n",
    "    a = torch.norm(p, p=2, dim=-1)\n",
    "    b = torch.norm(q, p=2, dim=-1)\n",
    "    sim_matrix /= a.unsqueeze(-1)\n",
    "    sim_matrix /= b.unsqueeze(-2)\n",
    "    return sim_matrix\n",
    "\n",
    "torch.cuda.empty_cache()\n",
    "with torch.no_grad(): \n",
    "    # sim_mat_score = torch.cdist(testMatVec,trainMatVec,p=2)\n",
    "    # sim_mat_score = F.cosine_similarity(testMatVec.unsqueeze(1), trainMatVec.unsqueeze(0), dim=2)\n",
    "    sim_mat_score = cos_similar(testMatVec,trainMatVec)\n",
    "    sim_mat_score = sim_mat_score.sort(axis=1, descending=True)\n",
    "    sim_mat_index = sim_mat_score.indices[:,:10]\n",
    "    sim_mat_score = sim_mat_score.values[:,:10] \n",
    "    torch.cuda.empty_cache()\n",
    "torch.cuda.empty_cache()\n",
    "print(sim_mat_score.shape)\n",
    "print(sim_mat_index.shape)"
   ]
  },
  {
   "cell_type": "code",
   "execution_count": 7,
   "id": "88c9d627-50d9-42c2-95fd-9943704d95e7",
   "metadata": {},
   "outputs": [
    {
     "data": {
      "text/plain": [
       "tensor([[31287, 22788, 19393,  2549, 29353, 26875, 12694,  6232,  7099, 12706],\n",
       "        [31289, 30265, 18943, 28708, 20327, 11074, 11073, 16645, 16643,  3409],\n",
       "        [10565,  7198,  6002, 14922, 25644,  1311, 15300, 27975,  2657, 24914]])"
      ]
     },
     "execution_count": 7,
     "metadata": {},
     "output_type": "execute_result"
    }
   ],
   "source": [
    "sim_mat_index[:3]"
   ]
  },
  {
   "cell_type": "code",
   "execution_count": 8,
   "id": "37aa51a3-1a99-4c5b-aaa3-3a1030cfd12d",
   "metadata": {},
   "outputs": [
    {
     "data": {
      "text/plain": [
       "tensor([[1.0000, 0.9709, 0.9708, 0.9698, 0.9694, 0.9687, 0.9687, 0.9686, 0.9685,\n",
       "         0.9682],\n",
       "        [1.0000, 0.9829, 0.9804, 0.9796, 0.9784, 0.9778, 0.9778, 0.9766, 0.9761,\n",
       "         0.9751],\n",
       "        [1.0000, 0.9839, 0.9838, 0.9837, 0.9837, 0.9829, 0.9825, 0.9824, 0.9818,\n",
       "         0.9816]])"
      ]
     },
     "execution_count": 8,
     "metadata": {},
     "output_type": "execute_result"
    }
   ],
   "source": [
    "sim_mat_score[:3]"
   ]
  },
  {
   "cell_type": "code",
   "execution_count": 9,
   "id": "69ad35da-5256-4add-85c2-91df89f650ca",
   "metadata": {},
   "outputs": [
    {
     "data": {
      "text/html": [
       "<div>\n",
       "<style scoped>\n",
       "    .dataframe tbody tr th:only-of-type {\n",
       "        vertical-align: middle;\n",
       "    }\n",
       "\n",
       "    .dataframe tbody tr th {\n",
       "        vertical-align: top;\n",
       "    }\n",
       "\n",
       "    .dataframe thead th {\n",
       "        text-align: right;\n",
       "    }\n",
       "</style>\n",
       "<table border=\"1\" class=\"dataframe\">\n",
       "  <thead>\n",
       "    <tr style=\"text-align: right;\">\n",
       "      <th></th>\n",
       "      <th>0</th>\n",
       "    </tr>\n",
       "  </thead>\n",
       "  <tbody>\n",
       "    <tr>\n",
       "      <th>PDC可开闭式钻头</th>\n",
       "      <td>31287</td>\n",
       "    </tr>\n",
       "    <tr>\n",
       "      <th>超高压水力送水装置</th>\n",
       "      <td>31289</td>\n",
       "    </tr>\n",
       "    <tr>\n",
       "      <th>高压水便</th>\n",
       "      <td>10565</td>\n",
       "    </tr>\n",
       "  </tbody>\n",
       "</table>\n",
       "</div>"
      ],
      "text/plain": [
       "               0\n",
       "PDC可开闭式钻头  31287\n",
       "超高压水力送水装置  31289\n",
       "高压水便       10565"
      ]
     },
     "execution_count": 9,
     "metadata": {},
     "output_type": "execute_result"
    }
   ],
   "source": [
    "train_mat_index.loc[test_mat_names[:3]]"
   ]
  },
  {
   "cell_type": "code",
   "execution_count": 10,
   "id": "7058e364-fa58-4bdf-b78d-92b4666e79cc",
   "metadata": {},
   "outputs": [
    {
     "data": {
      "text/html": [
       "<div>\n",
       "<style scoped>\n",
       "    .dataframe tbody tr th:only-of-type {\n",
       "        vertical-align: middle;\n",
       "    }\n",
       "\n",
       "    .dataframe tbody tr th {\n",
       "        vertical-align: top;\n",
       "    }\n",
       "\n",
       "    .dataframe thead th {\n",
       "        text-align: right;\n",
       "    }\n",
       "</style>\n",
       "<table border=\"1\" class=\"dataframe\">\n",
       "  <thead>\n",
       "    <tr style=\"text-align: right;\">\n",
       "      <th></th>\n",
       "      <th>0</th>\n",
       "    </tr>\n",
       "  </thead>\n",
       "  <tbody>\n",
       "    <tr>\n",
       "      <th>PDC可开闭式钻头</th>\n",
       "      <td>0</td>\n",
       "    </tr>\n",
       "    <tr>\n",
       "      <th>超高压水力送水装置</th>\n",
       "      <td>1</td>\n",
       "    </tr>\n",
       "    <tr>\n",
       "      <th>高压水便</th>\n",
       "      <td>2</td>\n",
       "    </tr>\n",
       "  </tbody>\n",
       "</table>\n",
       "</div>"
      ],
      "text/plain": [
       "           0\n",
       "PDC可开闭式钻头  0\n",
       "超高压水力送水装置  1\n",
       "高压水便       2"
      ]
     },
     "execution_count": 10,
     "metadata": {},
     "output_type": "execute_result"
    }
   ],
   "source": [
    "test_mat_index[:3]"
   ]
  },
  {
   "cell_type": "code",
   "execution_count": 11,
   "id": "65759805-e78a-4373-9435-083d639f3070",
   "metadata": {},
   "outputs": [],
   "source": [
    "torch.save(sim_mat_index, \"test-train-sim_mat_index-cosine\"+\".pt\")\n",
    "torch.save(sim_mat_score, \"test-train-sim_mat_score-cosine\"+\".pt\")"
   ]
  },
  {
   "cell_type": "code",
   "execution_count": 6,
   "id": "3a795ba4-bfdb-4a3f-9655-3bd63a503d94",
   "metadata": {},
   "outputs": [],
   "source": [
    "sim_mat_index = torch.load(\"test-train-sim_mat_index-cosine\"+\".pt\")\n",
    "sim_mat_score = torch.load(\"test-train-sim_mat_score-cosine\"+\".pt\")"
   ]
  },
  {
   "cell_type": "markdown",
   "id": "62bec9b6-c519-47a4-a363-450e947f94a9",
   "metadata": {},
   "source": [
    "获取历史每个物料对应的可提供供应商"
   ]
  },
  {
   "cell_type": "code",
   "execution_count": 12,
   "id": "0862e10c-cfff-44c7-8ffc-49ff5cc80b75",
   "metadata": {},
   "outputs": [
    {
     "data": {
      "text/html": [
       "<div>\n",
       "<style scoped>\n",
       "    .dataframe tbody tr th:only-of-type {\n",
       "        vertical-align: middle;\n",
       "    }\n",
       "\n",
       "    .dataframe tbody tr th {\n",
       "        vertical-align: top;\n",
       "    }\n",
       "\n",
       "    .dataframe thead th {\n",
       "        text-align: right;\n",
       "    }\n",
       "</style>\n",
       "<table border=\"1\" class=\"dataframe\">\n",
       "  <thead>\n",
       "    <tr style=\"text-align: right;\">\n",
       "      <th></th>\n",
       "      <th>id（供应商代码）</th>\n",
       "      <th>MAT_NAME（物料名称）</th>\n",
       "      <th>mat_id</th>\n",
       "    </tr>\n",
       "    <tr>\n",
       "      <th>QUOTE_MAT_LINE_ID（报价单行号）</th>\n",
       "      <th></th>\n",
       "      <th></th>\n",
       "      <th></th>\n",
       "    </tr>\n",
       "  </thead>\n",
       "  <tbody>\n",
       "    <tr>\n",
       "      <th>8e24b75ce1c811ebaf97005056b12bb8</th>\n",
       "      <td>6603</td>\n",
       "      <td>液压缸吊座</td>\n",
       "      <td>0</td>\n",
       "    </tr>\n",
       "    <tr>\n",
       "      <th>f3afd8f4e1dc11ebaf97005056b12bb8</th>\n",
       "      <td>20958</td>\n",
       "      <td>六角头螺栓-C级GB/T5780-2000</td>\n",
       "      <td>1</td>\n",
       "    </tr>\n",
       "  </tbody>\n",
       "</table>\n",
       "</div>"
      ],
      "text/plain": [
       "                                  id（供应商代码）         MAT_NAME（物料名称）  mat_id\n",
       "QUOTE_MAT_LINE_ID（报价单行号）                                                  \n",
       "8e24b75ce1c811ebaf97005056b12bb8       6603                  液压缸吊座       0\n",
       "f3afd8f4e1dc11ebaf97005056b12bb8      20958  六角头螺栓-C级GB/T5780-2000       1"
      ]
     },
     "execution_count": 12,
     "metadata": {},
     "output_type": "execute_result"
    }
   ],
   "source": [
    "train_id_mat = trainData.copy()\n",
    "train_id_mat[\"mat_id\"] = train_id_mat[\"MAT_NAME（物料名称）\"].apply(lambda x:train_mat_index.loc[x])\n",
    "train_id_mat[:2]"
   ]
  },
  {
   "cell_type": "code",
   "execution_count": 13,
   "id": "bedf88b0-1624-4027-98f1-5ed5254ae0e2",
   "metadata": {},
   "outputs": [
    {
     "data": {
      "text/plain": [
       "mat_id\n",
       "0                                                 {6603}\n",
       "1                                                {20958}\n",
       "2                                                {41982}\n",
       "3                                                {41982}\n",
       "4                                  {27177, 21484, 20238}\n",
       "                             ...                        \n",
       "195                         {43944, 10298, 22123, 33944}\n",
       "196                         {43944, 10298, 22123, 33944}\n",
       "197                  {13094, 43944, 22123, 33944, 10298}\n",
       "198                         {43944, 10298, 22123, 33944}\n",
       "199    {43944, 22123, 24431, 32919, 33944, 13945, 10298}\n",
       "Name: id（供应商代码）, Length: 200, dtype: object"
      ]
     },
     "execution_count": 13,
     "metadata": {},
     "output_type": "execute_result"
    }
   ],
   "source": [
    "mat_supply_ids = train_id_mat.groupby(by=\"mat_id\")[\"id（供应商代码）\"].apply(set)\n",
    "# 提供物料的历史供应商\n",
    "mat_supply_ids[:200]"
   ]
  },
  {
   "cell_type": "code",
   "execution_count": 14,
   "id": "f3043654-0f74-4059-add0-2932afb6235e",
   "metadata": {},
   "outputs": [
    {
     "data": {
      "text/plain": [
       "[0, 1, 2, 3, 4]"
      ]
     },
     "execution_count": 14,
     "metadata": {},
     "output_type": "execute_result"
    }
   ],
   "source": [
    "query_mat_index = test_mat_index.loc[testData[\"MAT_NAME（物料名称）\"].to_list()]\n",
    "query_mat_index = query_mat_index[0].to_list()\n",
    "# 物料在相似度矩阵中的下标\n",
    "query_mat_index[:5]"
   ]
  },
  {
   "cell_type": "code",
   "execution_count": 15,
   "id": "3522f0dc-c55b-4bde-8991-da71c50f1a42",
   "metadata": {},
   "outputs": [
    {
     "data": {
      "text/html": [
       "<div>\n",
       "<style scoped>\n",
       "    .dataframe tbody tr th:only-of-type {\n",
       "        vertical-align: middle;\n",
       "    }\n",
       "\n",
       "    .dataframe tbody tr th {\n",
       "        vertical-align: top;\n",
       "    }\n",
       "\n",
       "    .dataframe thead th {\n",
       "        text-align: right;\n",
       "    }\n",
       "</style>\n",
       "<table border=\"1\" class=\"dataframe\">\n",
       "  <thead>\n",
       "    <tr style=\"text-align: right;\">\n",
       "      <th></th>\n",
       "      <th>0</th>\n",
       "      <th>1</th>\n",
       "      <th>2</th>\n",
       "      <th>3</th>\n",
       "      <th>4</th>\n",
       "      <th>5</th>\n",
       "      <th>6</th>\n",
       "      <th>7</th>\n",
       "      <th>8</th>\n",
       "      <th>9</th>\n",
       "    </tr>\n",
       "  </thead>\n",
       "  <tbody>\n",
       "    <tr>\n",
       "      <th>0</th>\n",
       "      <td>31287</td>\n",
       "      <td>22788</td>\n",
       "      <td>19393</td>\n",
       "      <td>2549</td>\n",
       "      <td>29353</td>\n",
       "      <td>26875</td>\n",
       "      <td>12694</td>\n",
       "      <td>6232</td>\n",
       "      <td>7099</td>\n",
       "      <td>12706</td>\n",
       "    </tr>\n",
       "    <tr>\n",
       "      <th>1</th>\n",
       "      <td>31289</td>\n",
       "      <td>30265</td>\n",
       "      <td>18943</td>\n",
       "      <td>28708</td>\n",
       "      <td>20327</td>\n",
       "      <td>11074</td>\n",
       "      <td>11073</td>\n",
       "      <td>16645</td>\n",
       "      <td>16643</td>\n",
       "      <td>3409</td>\n",
       "    </tr>\n",
       "    <tr>\n",
       "      <th>2</th>\n",
       "      <td>10565</td>\n",
       "      <td>7198</td>\n",
       "      <td>6002</td>\n",
       "      <td>14922</td>\n",
       "      <td>25644</td>\n",
       "      <td>1311</td>\n",
       "      <td>15300</td>\n",
       "      <td>27975</td>\n",
       "      <td>2657</td>\n",
       "      <td>24914</td>\n",
       "    </tr>\n",
       "    <tr>\n",
       "      <th>3</th>\n",
       "      <td>31288</td>\n",
       "      <td>29353</td>\n",
       "      <td>19123</td>\n",
       "      <td>18596</td>\n",
       "      <td>22354</td>\n",
       "      <td>1508</td>\n",
       "      <td>27985</td>\n",
       "      <td>14118</td>\n",
       "      <td>21359</td>\n",
       "      <td>18490</td>\n",
       "    </tr>\n",
       "  </tbody>\n",
       "</table>\n",
       "</div>"
      ],
      "text/plain": [
       "       0      1      2      3      4      5      6      7      8      9\n",
       "0  31287  22788  19393   2549  29353  26875  12694   6232   7099  12706\n",
       "1  31289  30265  18943  28708  20327  11074  11073  16645  16643   3409\n",
       "2  10565   7198   6002  14922  25644   1311  15300  27975   2657  24914\n",
       "3  31288  29353  19123  18596  22354   1508  27985  14118  21359  18490"
      ]
     },
     "execution_count": 15,
     "metadata": {},
     "output_type": "execute_result"
    }
   ],
   "source": [
    "item_sim_mat = pd.DataFrame(sim_mat_index[query_mat_index].tolist())\n",
    "item_sim_mat[:4]"
   ]
  },
  {
   "cell_type": "code",
   "execution_count": 16,
   "id": "3400b9e0-055a-4a90-9191-3a1140d27d6c",
   "metadata": {},
   "outputs": [
    {
     "data": {
      "text/html": [
       "<div>\n",
       "<style scoped>\n",
       "    .dataframe tbody tr th:only-of-type {\n",
       "        vertical-align: middle;\n",
       "    }\n",
       "\n",
       "    .dataframe tbody tr th {\n",
       "        vertical-align: top;\n",
       "    }\n",
       "\n",
       "    .dataframe thead th {\n",
       "        text-align: right;\n",
       "    }\n",
       "</style>\n",
       "<table border=\"1\" class=\"dataframe\">\n",
       "  <thead>\n",
       "    <tr style=\"text-align: right;\">\n",
       "      <th></th>\n",
       "      <th>0</th>\n",
       "      <th>1</th>\n",
       "      <th>2</th>\n",
       "      <th>3</th>\n",
       "      <th>4</th>\n",
       "      <th>5</th>\n",
       "      <th>6</th>\n",
       "      <th>7</th>\n",
       "      <th>8</th>\n",
       "      <th>9</th>\n",
       "    </tr>\n",
       "  </thead>\n",
       "  <tbody>\n",
       "    <tr>\n",
       "      <th>0</th>\n",
       "      <td>0.999999</td>\n",
       "      <td>0.970874</td>\n",
       "      <td>0.970842</td>\n",
       "      <td>0.969770</td>\n",
       "      <td>0.969441</td>\n",
       "      <td>0.968724</td>\n",
       "      <td>0.968707</td>\n",
       "      <td>0.968632</td>\n",
       "      <td>0.968453</td>\n",
       "      <td>0.968153</td>\n",
       "    </tr>\n",
       "    <tr>\n",
       "      <th>1</th>\n",
       "      <td>1.000000</td>\n",
       "      <td>0.982860</td>\n",
       "      <td>0.980387</td>\n",
       "      <td>0.979624</td>\n",
       "      <td>0.978356</td>\n",
       "      <td>0.977822</td>\n",
       "      <td>0.977822</td>\n",
       "      <td>0.976629</td>\n",
       "      <td>0.976105</td>\n",
       "      <td>0.975116</td>\n",
       "    </tr>\n",
       "    <tr>\n",
       "      <th>2</th>\n",
       "      <td>1.000000</td>\n",
       "      <td>0.983881</td>\n",
       "      <td>0.983783</td>\n",
       "      <td>0.983716</td>\n",
       "      <td>0.983662</td>\n",
       "      <td>0.982918</td>\n",
       "      <td>0.982466</td>\n",
       "      <td>0.982356</td>\n",
       "      <td>0.981823</td>\n",
       "      <td>0.981575</td>\n",
       "    </tr>\n",
       "    <tr>\n",
       "      <th>3</th>\n",
       "      <td>1.000000</td>\n",
       "      <td>0.990682</td>\n",
       "      <td>0.990647</td>\n",
       "      <td>0.987569</td>\n",
       "      <td>0.987022</td>\n",
       "      <td>0.986968</td>\n",
       "      <td>0.986776</td>\n",
       "      <td>0.985769</td>\n",
       "      <td>0.985563</td>\n",
       "      <td>0.984740</td>\n",
       "    </tr>\n",
       "  </tbody>\n",
       "</table>\n",
       "</div>"
      ],
      "text/plain": [
       "          0         1         2         3         4         5         6  \\\n",
       "0  0.999999  0.970874  0.970842  0.969770  0.969441  0.968724  0.968707   \n",
       "1  1.000000  0.982860  0.980387  0.979624  0.978356  0.977822  0.977822   \n",
       "2  1.000000  0.983881  0.983783  0.983716  0.983662  0.982918  0.982466   \n",
       "3  1.000000  0.990682  0.990647  0.987569  0.987022  0.986968  0.986776   \n",
       "\n",
       "          7         8         9  \n",
       "0  0.968632  0.968453  0.968153  \n",
       "1  0.976629  0.976105  0.975116  \n",
       "2  0.982356  0.981823  0.981575  \n",
       "3  0.985769  0.985563  0.984740  "
      ]
     },
     "execution_count": 16,
     "metadata": {},
     "output_type": "execute_result"
    }
   ],
   "source": [
    "item_sim_score = pd.DataFrame(sim_mat_score[query_mat_index].tolist())\n",
    "item_sim_score[:4]"
   ]
  },
  {
   "cell_type": "code",
   "execution_count": 17,
   "id": "e33c6c2d-e598-4686-9d1d-51d942151491",
   "metadata": {},
   "outputs": [
    {
     "data": {
      "text/plain": [
       "(55461, 10)"
      ]
     },
     "execution_count": 17,
     "metadata": {},
     "output_type": "execute_result"
    }
   ],
   "source": [
    "item_sim_mat.shape\n",
    "# 行数是测试集数量，列数对应在训练集中相关的前10个物料向量"
   ]
  },
  {
   "cell_type": "code",
   "execution_count": 18,
   "id": "da080ec3-b346-49be-809e-225f635bc6ba",
   "metadata": {},
   "outputs": [
    {
     "data": {
      "text/plain": [
       "0    [35674, 37260, 35434, 525, 20240, 33777, 17499...\n",
       "1    [35674, 37260, 35434, 31480, 34758, 34270, 137...\n",
       "2    [23586, 12036, 3750, 41896, 4777, 35434, 8107,...\n",
       "3    [35674, 37260, 35434, 3994, 25356, 23586, 3750...\n",
       "4    [9600, 26309, 41896, 35434, 37260, 30351, 1068...\n",
       "5    [41060, 1357, 21137, 36468, 32351, 14356, 2471...\n",
       "6    [41060, 1357, 21137, 36468, 32351, 14356, 2471...\n",
       "7    [35674, 37260, 35434, 8258, 25356, 28973, 3609...\n",
       "8    [35674, 37260, 35434, 3994, 25356, 23586, 3750...\n",
       "9    [35674, 37260, 35434, 26309, 27660, 43181, 204...\n",
       "dtype: object"
      ]
     },
     "execution_count": 18,
     "metadata": {},
     "output_type": "execute_result"
    }
   ],
   "source": [
    "from operator import add\n",
    "from functools import reduce\n",
    "def simMat2supp(x, suppNum = 50):\n",
    "    return reduce(add, mat_supply_ids.loc[x].apply(list))[:suppNum]\n",
    "    # mat_supply_ids.loc[x]\n",
    "    # return x\n",
    "    # return mat_supply_ids.loc[x]\n",
    "item_sim_mat[:10].apply(simMat2supp, axis=1)"
   ]
  },
  {
   "cell_type": "code",
   "execution_count": 19,
   "id": "59138da3-6ba6-464c-8d0c-03ba45e04ac8",
   "metadata": {},
   "outputs": [
    {
     "data": {
      "text/plain": [
       "(55461, 1)"
      ]
     },
     "execution_count": 19,
     "metadata": {},
     "output_type": "execute_result"
    }
   ],
   "source": [
    "result1 = item_sim_mat.apply(simMat2supp, axis=1)\n",
    "result1 = pd.DataFrame(result1)\n",
    "result1 = result1.set_index(testData.index)\n",
    "result1.shape"
   ]
  },
  {
   "cell_type": "code",
   "execution_count": 20,
   "id": "14b09d6a-f71e-4dcc-9f76-1d66989a88f6",
   "metadata": {},
   "outputs": [
    {
     "data": {
      "text/html": [
       "<div>\n",
       "<style scoped>\n",
       "    .dataframe tbody tr th:only-of-type {\n",
       "        vertical-align: middle;\n",
       "    }\n",
       "\n",
       "    .dataframe tbody tr th {\n",
       "        vertical-align: top;\n",
       "    }\n",
       "\n",
       "    .dataframe thead th {\n",
       "        text-align: right;\n",
       "    }\n",
       "</style>\n",
       "<table border=\"1\" class=\"dataframe\">\n",
       "  <thead>\n",
       "    <tr style=\"text-align: right;\">\n",
       "      <th></th>\n",
       "      <th>id（供应商代码）</th>\n",
       "      <th>MAT_NAME（物料名称）</th>\n",
       "      <th>recommend</th>\n",
       "    </tr>\n",
       "    <tr>\n",
       "      <th>QUOTE_MAT_LINE_ID（报价单行号）</th>\n",
       "      <th></th>\n",
       "      <th></th>\n",
       "      <th></th>\n",
       "    </tr>\n",
       "  </thead>\n",
       "  <tbody>\n",
       "    <tr>\n",
       "      <th>75be1c94b70811ecbb62005056a00443</th>\n",
       "      <td>22071</td>\n",
       "      <td>PDC可开闭式钻头</td>\n",
       "      <td>[35674, 37260, 35434, 525, 20240, 33777, 17499...</td>\n",
       "    </tr>\n",
       "    <tr>\n",
       "      <th>75bde9a7b70811ecbb62005056a00443</th>\n",
       "      <td>22071</td>\n",
       "      <td>超高压水力送水装置</td>\n",
       "      <td>[35674, 37260, 35434, 31480, 34758, 34270, 137...</td>\n",
       "    </tr>\n",
       "    <tr>\n",
       "      <th>75be1fe0b70811ecbb62005056a00443</th>\n",
       "      <td>22071</td>\n",
       "      <td>高压水便</td>\n",
       "      <td>[23586, 12036, 3750, 41896, 4777, 35434, 8107,...</td>\n",
       "    </tr>\n",
       "  </tbody>\n",
       "</table>\n",
       "</div>"
      ],
      "text/plain": [
       "                                  id（供应商代码） MAT_NAME（物料名称）  \\\n",
       "QUOTE_MAT_LINE_ID（报价单行号）                                     \n",
       "75be1c94b70811ecbb62005056a00443      22071      PDC可开闭式钻头   \n",
       "75bde9a7b70811ecbb62005056a00443      22071      超高压水力送水装置   \n",
       "75be1fe0b70811ecbb62005056a00443      22071           高压水便   \n",
       "\n",
       "                                                                          recommend  \n",
       "QUOTE_MAT_LINE_ID（报价单行号）                                                             \n",
       "75be1c94b70811ecbb62005056a00443  [35674, 37260, 35434, 525, 20240, 33777, 17499...  \n",
       "75bde9a7b70811ecbb62005056a00443  [35674, 37260, 35434, 31480, 34758, 34270, 137...  \n",
       "75be1fe0b70811ecbb62005056a00443  [23586, 12036, 3750, 41896, 4777, 35434, 8107,...  "
      ]
     },
     "execution_count": 20,
     "metadata": {},
     "output_type": "execute_result"
    }
   ],
   "source": [
    "testData[\"recommend\"] = result1\n",
    "testData[:3]"
   ]
  },
  {
   "cell_type": "code",
   "execution_count": 21,
   "id": "d03c7053-ed9e-4744-a274-80b5083930e2",
   "metadata": {},
   "outputs": [
    {
     "name": "stdout",
     "output_type": "stream",
     "text": [
      "0.23237950992589387\n"
     ]
    }
   ],
   "source": [
    "sumRecall = testData.apply(lambda x:x[\"id（供应商代码）\"] in x[\"recommend\"], axis=1).sum()\n",
    "recall = sumRecall / len(testData)\n",
    "print(recall)"
   ]
  },
  {
   "cell_type": "code",
   "execution_count": 22,
   "id": "b3d3355e-bb24-4b3f-9850-bfe78c8f3cc9",
   "metadata": {},
   "outputs": [],
   "source": [
    "testData.to_csv(\"testDataRecommendCosineSim\"+\".csv\")"
   ]
  },
  {
   "cell_type": "code",
   "execution_count": 23,
   "id": "f230a135-ba41-43b6-9793-49299fb3ef25",
   "metadata": {},
   "outputs": [
    {
     "data": {
      "text/html": [
       "<div>\n",
       "<style scoped>\n",
       "    .dataframe tbody tr th:only-of-type {\n",
       "        vertical-align: middle;\n",
       "    }\n",
       "\n",
       "    .dataframe tbody tr th {\n",
       "        vertical-align: top;\n",
       "    }\n",
       "\n",
       "    .dataframe thead th {\n",
       "        text-align: right;\n",
       "    }\n",
       "</style>\n",
       "<table border=\"1\" class=\"dataframe\">\n",
       "  <thead>\n",
       "    <tr style=\"text-align: right;\">\n",
       "      <th></th>\n",
       "      <th>0</th>\n",
       "      <th>1</th>\n",
       "    </tr>\n",
       "  </thead>\n",
       "  <tbody>\n",
       "    <tr>\n",
       "      <th>0</th>\n",
       "      <td>[[35674, 37260, 35434], [525], [20240, 33777, ...</td>\n",
       "      <td>[0.9999993443489075, 0.9708736538887024, 0.970...</td>\n",
       "    </tr>\n",
       "    <tr>\n",
       "      <th>1</th>\n",
       "      <td>[[35674, 37260, 35434], [31480, 34758, 34270],...</td>\n",
       "      <td>[0.9999995827674866, 0.9828600883483887, 0.980...</td>\n",
       "    </tr>\n",
       "    <tr>\n",
       "      <th>2</th>\n",
       "      <td>[[23586, 12036, 3750, 41896, 4777, 35434, 8107...</td>\n",
       "      <td>[1.000000238418579, 0.9838810563087463, 0.9837...</td>\n",
       "    </tr>\n",
       "    <tr>\n",
       "      <th>3</th>\n",
       "      <td>[[35674, 37260, 35434], [3994, 25356, 23586, 3...</td>\n",
       "      <td>[0.9999999403953552, 0.9906815886497498, 0.990...</td>\n",
       "    </tr>\n",
       "    <tr>\n",
       "      <th>4</th>\n",
       "      <td>[[9600, 26309, 41896, 35434, 37260, 30351, 106...</td>\n",
       "      <td>[1.0000004768371582, 0.9836571216583252, 0.981...</td>\n",
       "    </tr>\n",
       "    <tr>\n",
       "      <th>5</th>\n",
       "      <td>[[41060, 1357, 21137, 36468, 32351], [14356, 2...</td>\n",
       "      <td>[0.9999992251396179, 0.9947300553321838, 0.992...</td>\n",
       "    </tr>\n",
       "    <tr>\n",
       "      <th>6</th>\n",
       "      <td>[[41060, 1357, 21137, 36468, 32351], [14356, 2...</td>\n",
       "      <td>[0.9999992251396179, 0.9947300553321838, 0.992...</td>\n",
       "    </tr>\n",
       "    <tr>\n",
       "      <th>7</th>\n",
       "      <td>[[35674, 37260, 35434], [8258, 25356, 28973, 3...</td>\n",
       "      <td>[1.0000001192092896, 0.9905298948287964, 0.985...</td>\n",
       "    </tr>\n",
       "    <tr>\n",
       "      <th>8</th>\n",
       "      <td>[[35674, 37260, 35434], [3994, 25356, 23586, 3...</td>\n",
       "      <td>[0.9999999403953552, 0.9906815886497498, 0.990...</td>\n",
       "    </tr>\n",
       "    <tr>\n",
       "      <th>9</th>\n",
       "      <td>[[35674, 37260, 35434], [26309, 27660, 43181, ...</td>\n",
       "      <td>[0.9999998211860657, 0.9797412157058716, 0.976...</td>\n",
       "    </tr>\n",
       "  </tbody>\n",
       "</table>\n",
       "</div>"
      ],
      "text/plain": [
       "                                                   0  \\\n",
       "0  [[35674, 37260, 35434], [525], [20240, 33777, ...   \n",
       "1  [[35674, 37260, 35434], [31480, 34758, 34270],...   \n",
       "2  [[23586, 12036, 3750, 41896, 4777, 35434, 8107...   \n",
       "3  [[35674, 37260, 35434], [3994, 25356, 23586, 3...   \n",
       "4  [[9600, 26309, 41896, 35434, 37260, 30351, 106...   \n",
       "5  [[41060, 1357, 21137, 36468, 32351], [14356, 2...   \n",
       "6  [[41060, 1357, 21137, 36468, 32351], [14356, 2...   \n",
       "7  [[35674, 37260, 35434], [8258, 25356, 28973, 3...   \n",
       "8  [[35674, 37260, 35434], [3994, 25356, 23586, 3...   \n",
       "9  [[35674, 37260, 35434], [26309, 27660, 43181, ...   \n",
       "\n",
       "                                                   1  \n",
       "0  [0.9999993443489075, 0.9708736538887024, 0.970...  \n",
       "1  [0.9999995827674866, 0.9828600883483887, 0.980...  \n",
       "2  [1.000000238418579, 0.9838810563087463, 0.9837...  \n",
       "3  [0.9999999403953552, 0.9906815886497498, 0.990...  \n",
       "4  [1.0000004768371582, 0.9836571216583252, 0.981...  \n",
       "5  [0.9999992251396179, 0.9947300553321838, 0.992...  \n",
       "6  [0.9999992251396179, 0.9947300553321838, 0.992...  \n",
       "7  [1.0000001192092896, 0.9905298948287964, 0.985...  \n",
       "8  [0.9999999403953552, 0.9906815886497498, 0.990...  \n",
       "9  [0.9999998211860657, 0.9797412157058716, 0.976...  "
      ]
     },
     "execution_count": 23,
     "metadata": {},
     "output_type": "execute_result"
    }
   ],
   "source": [
    "from operator import add\n",
    "from functools import reduce\n",
    "def simMat2supp(x, suppNum = 50):\n",
    "    suplists = list(mat_supply_ids.loc[x].apply(list))\n",
    "    scores = list(item_sim_score.loc[x.name])\n",
    "    return pd.Series([suplists,scores])\n",
    "item_sim_mat[:10].apply(simMat2supp, axis=1)"
   ]
  },
  {
   "cell_type": "code",
   "execution_count": 24,
   "id": "b4ee8567-456b-4a21-84a5-a1bb1234346e",
   "metadata": {},
   "outputs": [],
   "source": [
    "result = item_sim_mat.apply(simMat2supp, axis=1)"
   ]
  },
  {
   "cell_type": "code",
   "execution_count": 25,
   "id": "b417e1e5-3ced-48a3-b76d-a61b4cb711b0",
   "metadata": {},
   "outputs": [],
   "source": [
    "result = result.rename(columns={0:'supps',1:'scores'})"
   ]
  },
  {
   "cell_type": "code",
   "execution_count": 26,
   "id": "bf014407-205f-45b0-b520-44f082140b4c",
   "metadata": {},
   "outputs": [
    {
     "data": {
      "text/html": [
       "<div>\n",
       "<style scoped>\n",
       "    .dataframe tbody tr th:only-of-type {\n",
       "        vertical-align: middle;\n",
       "    }\n",
       "\n",
       "    .dataframe tbody tr th {\n",
       "        vertical-align: top;\n",
       "    }\n",
       "\n",
       "    .dataframe thead th {\n",
       "        text-align: right;\n",
       "    }\n",
       "</style>\n",
       "<table border=\"1\" class=\"dataframe\">\n",
       "  <thead>\n",
       "    <tr style=\"text-align: right;\">\n",
       "      <th></th>\n",
       "      <th>supps</th>\n",
       "      <th>scores</th>\n",
       "    </tr>\n",
       "  </thead>\n",
       "  <tbody>\n",
       "    <tr>\n",
       "      <th>0</th>\n",
       "      <td>[[35674, 37260, 35434], [525], [20240, 33777, ...</td>\n",
       "      <td>[0.9999993443489075, 0.9708736538887024, 0.970...</td>\n",
       "    </tr>\n",
       "    <tr>\n",
       "      <th>1</th>\n",
       "      <td>[[35674, 37260, 35434], [31480, 34758, 34270],...</td>\n",
       "      <td>[0.9999995827674866, 0.9828600883483887, 0.980...</td>\n",
       "    </tr>\n",
       "    <tr>\n",
       "      <th>2</th>\n",
       "      <td>[[23586, 12036, 3750, 41896, 4777, 35434, 8107...</td>\n",
       "      <td>[1.000000238418579, 0.9838810563087463, 0.9837...</td>\n",
       "    </tr>\n",
       "    <tr>\n",
       "      <th>3</th>\n",
       "      <td>[[35674, 37260, 35434], [3994, 25356, 23586, 3...</td>\n",
       "      <td>[0.9999999403953552, 0.9906815886497498, 0.990...</td>\n",
       "    </tr>\n",
       "    <tr>\n",
       "      <th>4</th>\n",
       "      <td>[[9600, 26309, 41896, 35434, 37260, 30351, 106...</td>\n",
       "      <td>[1.0000004768371582, 0.9836571216583252, 0.981...</td>\n",
       "    </tr>\n",
       "    <tr>\n",
       "      <th>...</th>\n",
       "      <td>...</td>\n",
       "      <td>...</td>\n",
       "    </tr>\n",
       "    <tr>\n",
       "      <th>55456</th>\n",
       "      <td>[[26309, 40970, 8107, 5941, 22071], [14517, 39...</td>\n",
       "      <td>[0.9862000346183777, 0.9861775636672974, 0.985...</td>\n",
       "    </tr>\n",
       "    <tr>\n",
       "      <th>55457</th>\n",
       "      <td>[[6791, 40970, 25356, 33424, 33944, 31399, 439...</td>\n",
       "      <td>[1.0000001192092896, 0.9857597947120667, 0.984...</td>\n",
       "    </tr>\n",
       "    <tr>\n",
       "      <th>55458</th>\n",
       "      <td>[[6791, 32520, 40970, 25356, 2829, 38313, 2897...</td>\n",
       "      <td>[0.9864628911018372, 0.9797140955924988, 0.978...</td>\n",
       "    </tr>\n",
       "    <tr>\n",
       "      <th>55459</th>\n",
       "      <td>[[26309, 22071, 40970, 5941, 16983], [8258, 25...</td>\n",
       "      <td>[0.9999992847442627, 0.9907602667808533, 0.989...</td>\n",
       "    </tr>\n",
       "    <tr>\n",
       "      <th>55460</th>\n",
       "      <td>[[8258, 25356, 28973, 15601, 36094], [8258, 25...</td>\n",
       "      <td>[1.0000008344650269, 0.977806806564331, 0.9763...</td>\n",
       "    </tr>\n",
       "  </tbody>\n",
       "</table>\n",
       "<p>55461 rows × 2 columns</p>\n",
       "</div>"
      ],
      "text/plain": [
       "                                                   supps  \\\n",
       "0      [[35674, 37260, 35434], [525], [20240, 33777, ...   \n",
       "1      [[35674, 37260, 35434], [31480, 34758, 34270],...   \n",
       "2      [[23586, 12036, 3750, 41896, 4777, 35434, 8107...   \n",
       "3      [[35674, 37260, 35434], [3994, 25356, 23586, 3...   \n",
       "4      [[9600, 26309, 41896, 35434, 37260, 30351, 106...   \n",
       "...                                                  ...   \n",
       "55456  [[26309, 40970, 8107, 5941, 22071], [14517, 39...   \n",
       "55457  [[6791, 40970, 25356, 33424, 33944, 31399, 439...   \n",
       "55458  [[6791, 32520, 40970, 25356, 2829, 38313, 2897...   \n",
       "55459  [[26309, 22071, 40970, 5941, 16983], [8258, 25...   \n",
       "55460  [[8258, 25356, 28973, 15601, 36094], [8258, 25...   \n",
       "\n",
       "                                                  scores  \n",
       "0      [0.9999993443489075, 0.9708736538887024, 0.970...  \n",
       "1      [0.9999995827674866, 0.9828600883483887, 0.980...  \n",
       "2      [1.000000238418579, 0.9838810563087463, 0.9837...  \n",
       "3      [0.9999999403953552, 0.9906815886497498, 0.990...  \n",
       "4      [1.0000004768371582, 0.9836571216583252, 0.981...  \n",
       "...                                                  ...  \n",
       "55456  [0.9862000346183777, 0.9861775636672974, 0.985...  \n",
       "55457  [1.0000001192092896, 0.9857597947120667, 0.984...  \n",
       "55458  [0.9864628911018372, 0.9797140955924988, 0.978...  \n",
       "55459  [0.9999992847442627, 0.9907602667808533, 0.989...  \n",
       "55460  [1.0000008344650269, 0.977806806564331, 0.9763...  \n",
       "\n",
       "[55461 rows x 2 columns]"
      ]
     },
     "execution_count": 26,
     "metadata": {},
     "output_type": "execute_result"
    }
   ],
   "source": [
    "result"
   ]
  },
  {
   "cell_type": "code",
   "execution_count": 198,
   "id": "7edb4282-c8c9-4514-9c49-42b605502e2a",
   "metadata": {},
   "outputs": [],
   "source": [
    "result.to_csv(\"testDataRecommendCosineSim.csv\")"
   ]
  },
  {
   "cell_type": "code",
   "execution_count": 27,
   "id": "29966a9b-c91e-4197-a4d4-9d564019726e",
   "metadata": {},
   "outputs": [],
   "source": [
    "result = result.set_index(testData.index)"
   ]
  },
  {
   "cell_type": "code",
   "execution_count": 28,
   "id": "ea88956e-7dfa-4d4b-b3f6-2ba237002300",
   "metadata": {},
   "outputs": [
    {
     "data": {
      "text/html": [
       "<div>\n",
       "<style scoped>\n",
       "    .dataframe tbody tr th:only-of-type {\n",
       "        vertical-align: middle;\n",
       "    }\n",
       "\n",
       "    .dataframe tbody tr th {\n",
       "        vertical-align: top;\n",
       "    }\n",
       "\n",
       "    .dataframe thead th {\n",
       "        text-align: right;\n",
       "    }\n",
       "</style>\n",
       "<table border=\"1\" class=\"dataframe\">\n",
       "  <thead>\n",
       "    <tr style=\"text-align: right;\">\n",
       "      <th></th>\n",
       "      <th>supps</th>\n",
       "      <th>scores</th>\n",
       "    </tr>\n",
       "    <tr>\n",
       "      <th>QUOTE_MAT_LINE_ID（报价单行号）</th>\n",
       "      <th></th>\n",
       "      <th></th>\n",
       "    </tr>\n",
       "  </thead>\n",
       "  <tbody>\n",
       "    <tr>\n",
       "      <th>75be1c94b70811ecbb62005056a00443</th>\n",
       "      <td>[[35674, 37260, 35434], [525], [20240, 33777, ...</td>\n",
       "      <td>[0.9999993443489075, 0.9708736538887024, 0.970...</td>\n",
       "    </tr>\n",
       "    <tr>\n",
       "      <th>75bde9a7b70811ecbb62005056a00443</th>\n",
       "      <td>[[35674, 37260, 35434], [31480, 34758, 34270],...</td>\n",
       "      <td>[0.9999995827674866, 0.9828600883483887, 0.980...</td>\n",
       "    </tr>\n",
       "    <tr>\n",
       "      <th>75be1fe0b70811ecbb62005056a00443</th>\n",
       "      <td>[[23586, 12036, 3750, 41896, 4777, 35434, 8107...</td>\n",
       "      <td>[1.000000238418579, 0.9838810563087463, 0.9837...</td>\n",
       "    </tr>\n",
       "    <tr>\n",
       "      <th>75be2260b70811ecbb62005056a00443</th>\n",
       "      <td>[[35674, 37260, 35434], [3994, 25356, 23586, 3...</td>\n",
       "      <td>[0.9999999403953552, 0.9906815886497498, 0.990...</td>\n",
       "    </tr>\n",
       "    <tr>\n",
       "      <th>75be23f0b70811ecbb62005056a00443</th>\n",
       "      <td>[[9600, 26309, 41896, 35434, 37260, 30351, 106...</td>\n",
       "      <td>[1.0000004768371582, 0.9836571216583252, 0.981...</td>\n",
       "    </tr>\n",
       "    <tr>\n",
       "      <th>...</th>\n",
       "      <td>...</td>\n",
       "      <td>...</td>\n",
       "    </tr>\n",
       "    <tr>\n",
       "      <th>1c4d361fff1e11eca911005056a03da3</th>\n",
       "      <td>[[26309, 40970, 8107, 5941, 22071], [14517, 39...</td>\n",
       "      <td>[0.9862000346183777, 0.9861775636672974, 0.985...</td>\n",
       "    </tr>\n",
       "    <tr>\n",
       "      <th>1c4d1337ff1e11eca911005056a03da3</th>\n",
       "      <td>[[6791, 40970, 25356, 33424, 33944, 31399, 439...</td>\n",
       "      <td>[1.0000001192092896, 0.9857597947120667, 0.984...</td>\n",
       "    </tr>\n",
       "    <tr>\n",
       "      <th>1c4e7d3fff1e11eca911005056a03da3</th>\n",
       "      <td>[[6791, 32520, 40970, 25356, 2829, 38313, 2897...</td>\n",
       "      <td>[0.9864628911018372, 0.9797140955924988, 0.978...</td>\n",
       "    </tr>\n",
       "    <tr>\n",
       "      <th>1c4d0adaff1e11eca911005056a03da3</th>\n",
       "      <td>[[26309, 22071, 40970, 5941, 16983], [8258, 25...</td>\n",
       "      <td>[0.9999992847442627, 0.9907602667808533, 0.989...</td>\n",
       "    </tr>\n",
       "    <tr>\n",
       "      <th>1c4d4591ff1e11eca911005056a03da3</th>\n",
       "      <td>[[8258, 25356, 28973, 15601, 36094], [8258, 25...</td>\n",
       "      <td>[1.0000008344650269, 0.977806806564331, 0.9763...</td>\n",
       "    </tr>\n",
       "  </tbody>\n",
       "</table>\n",
       "<p>55461 rows × 2 columns</p>\n",
       "</div>"
      ],
      "text/plain": [
       "                                                                              supps  \\\n",
       "QUOTE_MAT_LINE_ID（报价单行号）                                                              \n",
       "75be1c94b70811ecbb62005056a00443  [[35674, 37260, 35434], [525], [20240, 33777, ...   \n",
       "75bde9a7b70811ecbb62005056a00443  [[35674, 37260, 35434], [31480, 34758, 34270],...   \n",
       "75be1fe0b70811ecbb62005056a00443  [[23586, 12036, 3750, 41896, 4777, 35434, 8107...   \n",
       "75be2260b70811ecbb62005056a00443  [[35674, 37260, 35434], [3994, 25356, 23586, 3...   \n",
       "75be23f0b70811ecbb62005056a00443  [[9600, 26309, 41896, 35434, 37260, 30351, 106...   \n",
       "...                                                                             ...   \n",
       "1c4d361fff1e11eca911005056a03da3  [[26309, 40970, 8107, 5941, 22071], [14517, 39...   \n",
       "1c4d1337ff1e11eca911005056a03da3  [[6791, 40970, 25356, 33424, 33944, 31399, 439...   \n",
       "1c4e7d3fff1e11eca911005056a03da3  [[6791, 32520, 40970, 25356, 2829, 38313, 2897...   \n",
       "1c4d0adaff1e11eca911005056a03da3  [[26309, 22071, 40970, 5941, 16983], [8258, 25...   \n",
       "1c4d4591ff1e11eca911005056a03da3  [[8258, 25356, 28973, 15601, 36094], [8258, 25...   \n",
       "\n",
       "                                                                             scores  \n",
       "QUOTE_MAT_LINE_ID（报价单行号）                                                             \n",
       "75be1c94b70811ecbb62005056a00443  [0.9999993443489075, 0.9708736538887024, 0.970...  \n",
       "75bde9a7b70811ecbb62005056a00443  [0.9999995827674866, 0.9828600883483887, 0.980...  \n",
       "75be1fe0b70811ecbb62005056a00443  [1.000000238418579, 0.9838810563087463, 0.9837...  \n",
       "75be2260b70811ecbb62005056a00443  [0.9999999403953552, 0.9906815886497498, 0.990...  \n",
       "75be23f0b70811ecbb62005056a00443  [1.0000004768371582, 0.9836571216583252, 0.981...  \n",
       "...                                                                             ...  \n",
       "1c4d361fff1e11eca911005056a03da3  [0.9862000346183777, 0.9861775636672974, 0.985...  \n",
       "1c4d1337ff1e11eca911005056a03da3  [1.0000001192092896, 0.9857597947120667, 0.984...  \n",
       "1c4e7d3fff1e11eca911005056a03da3  [0.9864628911018372, 0.9797140955924988, 0.978...  \n",
       "1c4d0adaff1e11eca911005056a03da3  [0.9999992847442627, 0.9907602667808533, 0.989...  \n",
       "1c4d4591ff1e11eca911005056a03da3  [1.0000008344650269, 0.977806806564331, 0.9763...  \n",
       "\n",
       "[55461 rows x 2 columns]"
      ]
     },
     "execution_count": 28,
     "metadata": {},
     "output_type": "execute_result"
    }
   ],
   "source": [
    "result"
   ]
  },
  {
   "cell_type": "code",
   "execution_count": 29,
   "id": "0a361b16-5303-4483-99b1-93a478908086",
   "metadata": {},
   "outputs": [],
   "source": [
    "pd.to_pickle(result, \"testDataRecommendCosineSim.pkl\")"
   ]
  },
  {
   "cell_type": "code",
   "execution_count": 30,
   "id": "d26472cf-8659-4bed-ad0d-69f8806f60f7",
   "metadata": {},
   "outputs": [
    {
     "data": {
      "text/plain": [
       "QUOTE_MAT_LINE_ID（报价单行号）\n",
       "75be1c94b70811ecbb62005056a00443    [[35674, 37260, 35434], [525], [20240, 33777, ...\n",
       "75bde9a7b70811ecbb62005056a00443    [[35674, 37260, 35434], [31480, 34758, 34270],...\n",
       "75be1fe0b70811ecbb62005056a00443    [[23586, 12036, 3750, 41896, 4777, 35434, 8107...\n",
       "75be2260b70811ecbb62005056a00443    [[35674, 37260, 35434], [3994, 25356, 23586, 3...\n",
       "75be23f0b70811ecbb62005056a00443    [[9600, 26309, 41896, 35434, 37260, 30351, 106...\n",
       "89577c03b70811ecbb62005056a00443    [[41060, 1357, 21137, 36468, 32351], [14356, 2...\n",
       "89579cfab70811ecbb62005056a00443    [[41060, 1357, 21137, 36468, 32351], [14356, 2...\n",
       "aeb9e338b70811ecbb62005056a00443    [[35674, 37260, 35434], [8258, 25356, 28973, 3...\n",
       "aeba525db70811ecbb62005056a00443    [[35674, 37260, 35434], [3994, 25356, 23586, 3...\n",
       "aeb9c5dbb70811ecbb62005056a00443    [[35674, 37260, 35434], [26309, 27660, 43181, ...\n",
       "dtype: object"
      ]
     },
     "execution_count": 30,
     "metadata": {},
     "output_type": "execute_result"
    }
   ],
   "source": [
    "result[:10].apply(lambda x:x[\"supps\"], axis=1)"
   ]
  },
  {
   "cell_type": "code",
   "execution_count": 31,
   "id": "77747abb-09a4-499b-a6f2-a25a9e0a286c",
   "metadata": {},
   "outputs": [],
   "source": [
    "def scoreBroadCast(x, suppNum = 50):\n",
    "    suppslist = []\n",
    "    scoreslist = []\n",
    "    for i in range(len(x['supps'])):\n",
    "        suppslist.extend(x['supps'][i])\n",
    "        scoreslist.extend([x['scores'][i]]*len(x['supps'][i]))\n",
    "    return pd.Series([suppslist[:suppNum],scoreslist[:suppNum]])"
   ]
  },
  {
   "cell_type": "code",
   "execution_count": 32,
   "id": "36075dd3-75b3-4b5d-af7f-bc822ff9187d",
   "metadata": {},
   "outputs": [],
   "source": [
    "broadResult = result.apply(scoreBroadCast, axis=1)"
   ]
  },
  {
   "cell_type": "code",
   "execution_count": 33,
   "id": "f581b00a-6ac0-4cf7-8cf2-1700040eb978",
   "metadata": {},
   "outputs": [
    {
     "data": {
      "text/html": [
       "<div>\n",
       "<style scoped>\n",
       "    .dataframe tbody tr th:only-of-type {\n",
       "        vertical-align: middle;\n",
       "    }\n",
       "\n",
       "    .dataframe tbody tr th {\n",
       "        vertical-align: top;\n",
       "    }\n",
       "\n",
       "    .dataframe thead th {\n",
       "        text-align: right;\n",
       "    }\n",
       "</style>\n",
       "<table border=\"1\" class=\"dataframe\">\n",
       "  <thead>\n",
       "    <tr style=\"text-align: right;\">\n",
       "      <th></th>\n",
       "      <th>supps</th>\n",
       "      <th>scores</th>\n",
       "    </tr>\n",
       "    <tr>\n",
       "      <th>QUOTE_MAT_LINE_ID（报价单行号）</th>\n",
       "      <th></th>\n",
       "      <th></th>\n",
       "    </tr>\n",
       "  </thead>\n",
       "  <tbody>\n",
       "    <tr>\n",
       "      <th>75be1c94b70811ecbb62005056a00443</th>\n",
       "      <td>[35674, 37260, 35434, 525, 20240, 33777, 17499...</td>\n",
       "      <td>[0.9999993443489075, 0.9999993443489075, 0.999...</td>\n",
       "    </tr>\n",
       "    <tr>\n",
       "      <th>75bde9a7b70811ecbb62005056a00443</th>\n",
       "      <td>[35674, 37260, 35434, 31480, 34758, 34270, 137...</td>\n",
       "      <td>[0.9999995827674866, 0.9999995827674866, 0.999...</td>\n",
       "    </tr>\n",
       "    <tr>\n",
       "      <th>75be1fe0b70811ecbb62005056a00443</th>\n",
       "      <td>[23586, 12036, 3750, 41896, 4777, 35434, 8107,...</td>\n",
       "      <td>[1.000000238418579, 1.000000238418579, 1.00000...</td>\n",
       "    </tr>\n",
       "    <tr>\n",
       "      <th>75be2260b70811ecbb62005056a00443</th>\n",
       "      <td>[35674, 37260, 35434, 3994, 25356, 23586, 3750...</td>\n",
       "      <td>[0.9999999403953552, 0.9999999403953552, 0.999...</td>\n",
       "    </tr>\n",
       "    <tr>\n",
       "      <th>75be23f0b70811ecbb62005056a00443</th>\n",
       "      <td>[9600, 26309, 41896, 35434, 37260, 30351, 1068...</td>\n",
       "      <td>[1.0000004768371582, 1.0000004768371582, 1.000...</td>\n",
       "    </tr>\n",
       "    <tr>\n",
       "      <th>89577c03b70811ecbb62005056a00443</th>\n",
       "      <td>[41060, 1357, 21137, 36468, 32351, 14356, 2471...</td>\n",
       "      <td>[0.9999992251396179, 0.9999992251396179, 0.999...</td>\n",
       "    </tr>\n",
       "    <tr>\n",
       "      <th>89579cfab70811ecbb62005056a00443</th>\n",
       "      <td>[41060, 1357, 21137, 36468, 32351, 14356, 2471...</td>\n",
       "      <td>[0.9999992251396179, 0.9999992251396179, 0.999...</td>\n",
       "    </tr>\n",
       "    <tr>\n",
       "      <th>aeb9e338b70811ecbb62005056a00443</th>\n",
       "      <td>[35674, 37260, 35434, 8258, 25356, 28973, 3609...</td>\n",
       "      <td>[1.0000001192092896, 1.0000001192092896, 1.000...</td>\n",
       "    </tr>\n",
       "    <tr>\n",
       "      <th>aeba525db70811ecbb62005056a00443</th>\n",
       "      <td>[35674, 37260, 35434, 3994, 25356, 23586, 3750...</td>\n",
       "      <td>[0.9999999403953552, 0.9999999403953552, 0.999...</td>\n",
       "    </tr>\n",
       "    <tr>\n",
       "      <th>aeb9c5dbb70811ecbb62005056a00443</th>\n",
       "      <td>[35674, 37260, 35434, 26309, 27660, 43181, 204...</td>\n",
       "      <td>[0.9999998211860657, 0.9999998211860657, 0.999...</td>\n",
       "    </tr>\n",
       "  </tbody>\n",
       "</table>\n",
       "</div>"
      ],
      "text/plain": [
       "                                                                              supps  \\\n",
       "QUOTE_MAT_LINE_ID（报价单行号）                                                              \n",
       "75be1c94b70811ecbb62005056a00443  [35674, 37260, 35434, 525, 20240, 33777, 17499...   \n",
       "75bde9a7b70811ecbb62005056a00443  [35674, 37260, 35434, 31480, 34758, 34270, 137...   \n",
       "75be1fe0b70811ecbb62005056a00443  [23586, 12036, 3750, 41896, 4777, 35434, 8107,...   \n",
       "75be2260b70811ecbb62005056a00443  [35674, 37260, 35434, 3994, 25356, 23586, 3750...   \n",
       "75be23f0b70811ecbb62005056a00443  [9600, 26309, 41896, 35434, 37260, 30351, 1068...   \n",
       "89577c03b70811ecbb62005056a00443  [41060, 1357, 21137, 36468, 32351, 14356, 2471...   \n",
       "89579cfab70811ecbb62005056a00443  [41060, 1357, 21137, 36468, 32351, 14356, 2471...   \n",
       "aeb9e338b70811ecbb62005056a00443  [35674, 37260, 35434, 8258, 25356, 28973, 3609...   \n",
       "aeba525db70811ecbb62005056a00443  [35674, 37260, 35434, 3994, 25356, 23586, 3750...   \n",
       "aeb9c5dbb70811ecbb62005056a00443  [35674, 37260, 35434, 26309, 27660, 43181, 204...   \n",
       "\n",
       "                                                                             scores  \n",
       "QUOTE_MAT_LINE_ID（报价单行号）                                                             \n",
       "75be1c94b70811ecbb62005056a00443  [0.9999993443489075, 0.9999993443489075, 0.999...  \n",
       "75bde9a7b70811ecbb62005056a00443  [0.9999995827674866, 0.9999995827674866, 0.999...  \n",
       "75be1fe0b70811ecbb62005056a00443  [1.000000238418579, 1.000000238418579, 1.00000...  \n",
       "75be2260b70811ecbb62005056a00443  [0.9999999403953552, 0.9999999403953552, 0.999...  \n",
       "75be23f0b70811ecbb62005056a00443  [1.0000004768371582, 1.0000004768371582, 1.000...  \n",
       "89577c03b70811ecbb62005056a00443  [0.9999992251396179, 0.9999992251396179, 0.999...  \n",
       "89579cfab70811ecbb62005056a00443  [0.9999992251396179, 0.9999992251396179, 0.999...  \n",
       "aeb9e338b70811ecbb62005056a00443  [1.0000001192092896, 1.0000001192092896, 1.000...  \n",
       "aeba525db70811ecbb62005056a00443  [0.9999999403953552, 0.9999999403953552, 0.999...  \n",
       "aeb9c5dbb70811ecbb62005056a00443  [0.9999998211860657, 0.9999998211860657, 0.999...  "
      ]
     },
     "execution_count": 33,
     "metadata": {},
     "output_type": "execute_result"
    }
   ],
   "source": [
    "broadResult = broadResult.rename(columns={0:'supps',1:'scores'})\n",
    "broadResult[:10]"
   ]
  },
  {
   "cell_type": "code",
   "execution_count": 34,
   "id": "283d114b-53f3-4764-b1e0-988b597658b6",
   "metadata": {},
   "outputs": [],
   "source": [
    "broadResult.to_csv(\"testDataRecommendFormattedCosineSim.csv\")"
   ]
  },
  {
   "cell_type": "code",
   "execution_count": 73,
   "id": "273eb078-5d90-421c-af6d-abc482e13ac8",
   "metadata": {},
   "outputs": [
    {
     "data": {
      "text/plain": [
       "28"
      ]
     },
     "execution_count": 73,
     "metadata": {},
     "output_type": "execute_result"
    }
   ],
   "source": [
    "len(broadResult.iloc[0,1])"
   ]
  },
  {
   "cell_type": "code",
   "execution_count": 124,
   "id": "b1f9c8bc-a94b-42b6-a322-10daa854f8e9",
   "metadata": {},
   "outputs": [],
   "source": [
    "lists = mat_supply_ids.loc[[197,198,199]].apply(list)"
   ]
  },
  {
   "cell_type": "code",
   "execution_count": 126,
   "id": "20396628-503e-4575-b471-1ee70ab65bc3",
   "metadata": {},
   "outputs": [],
   "source": [
    "x = [197,198,199]\n",
    "lists = mat_supply_ids.loc[x].apply(list)"
   ]
  },
  {
   "cell_type": "code",
   "execution_count": 167,
   "id": "3a1eb069-e338-4324-a1f6-eaac26b9f610",
   "metadata": {},
   "outputs": [
    {
     "data": {
      "text/plain": [
       "mat_id\n",
       "197                  [13094, 43944, 22123, 33944, 10298]\n",
       "198                         [43944, 10298, 22123, 33944]\n",
       "199    [43944, 22123, 24431, 32919, 33944, 13945, 10298]\n",
       "Name: id（供应商代码）, dtype: object"
      ]
     },
     "execution_count": 167,
     "metadata": {},
     "output_type": "execute_result"
    }
   ],
   "source": [
    "lists"
   ]
  },
  {
   "cell_type": "code",
   "execution_count": 132,
   "id": "6510e7af-0965-482d-bdeb-8eb1b66ccc75",
   "metadata": {},
   "outputs": [
    {
     "data": {
      "text/plain": [
       "mat_id\n",
       "197          [1, 1, 1, 1, 1]\n",
       "198             [1, 1, 1, 1]\n",
       "199    [1, 1, 1, 1, 1, 1, 1]\n",
       "Name: id（供应商代码）, dtype: object"
      ]
     },
     "execution_count": 132,
     "metadata": {},
     "output_type": "execute_result"
    }
   ],
   "source": [
    "lists.apply(len).apply(lambda x:[1]) * lists.apply(len)"
   ]
  },
  {
   "cell_type": "code",
   "execution_count": 108,
   "id": "a8d6cb66-c794-4987-9d4e-3e3dc126b106",
   "metadata": {},
   "outputs": [
    {
     "name": "stdout",
     "output_type": "stream",
     "text": [
      "[6603]\n",
      "[20958]\n",
      "[41982]\n"
     ]
    }
   ],
   "source": [
    "for i in range(10):\n",
    "    "
   ]
  }
 ],
 "metadata": {
  "kernelspec": {
   "display_name": "PyTorch-1.8",
   "language": "python",
   "name": "pytorch-1.8"
  },
  "language_info": {
   "codemirror_mode": {
    "name": "ipython",
    "version": 3
   },
   "file_extension": ".py",
   "mimetype": "text/x-python",
   "name": "python",
   "nbconvert_exporter": "python",
   "pygments_lexer": "ipython3",
   "version": "3.7.10"
  }
 },
 "nbformat": 4,
 "nbformat_minor": 5
}
