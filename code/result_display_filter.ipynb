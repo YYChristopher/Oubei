{
 "cells": [
  {
   "cell_type": "code",
   "execution_count": 1,
   "id": "2f4486ff-0c02-4aee-8f3a-80ca709cb51b",
   "metadata": {},
   "outputs": [],
   "source": [
    "import torch\n",
    "import torch.nn.functional as F\n",
    "import pandas as pd\n",
    "import numpy as np"
   ]
  },
  {
   "cell_type": "code",
   "execution_count": 3,
   "id": "19ebf43e-de2b-4496-ba02-c1c9764da714",
   "metadata": {},
   "outputs": [],
   "source": [
    "# ! pip install transformers"
   ]
  },
  {
   "cell_type": "code",
   "execution_count": null,
   "id": "1e3a0ebc-ea3f-4259-9a4b-3bcaba91340c",
   "metadata": {},
   "outputs": [],
   "source": [
    "# pip install transformers\n",
    "import os\n",
    "os.environ[\"CUDA_VISIBLE_DEVICES\"] = \"0\"\n",
    "import torch\n",
    "from transformers import BertTokenizer, BertModel\n",
    "import pandas as pd\n",
    "import numpy as np\n",
    "# MODEL_NAME = \"hfl/chinese-pert-large\"\n",
    "MODEL_NAME = \"hfl/chinese-roberta-wwm-ext\"\n",
    "# MODEL_NAME = \"hfl/rbt3\"\n",
    "tokenizer = BertTokenizer.from_pretrained(MODEL_NAME)\n",
    "model = BertModel.from_pretrained(MODEL_NAME,\n",
    "                 hidden_dropout_prob=0,\n",
    "                 attention_probs_dropout_prob=0,)\n",
    "\n",
    "device = torch.device(\"cuda\" if torch.cuda.is_available() else \"cpu\")\n",
    "model.to(device)"
   ]
  },
  {
   "cell_type": "markdown",
   "id": "ae6d8d3c-f4ed-4f49-81d4-a4f67c9b6a26",
   "metadata": {},
   "source": [
    "获取训练集中的物料名称向量"
   ]
  },
  {
   "cell_type": "code",
   "execution_count": 45,
   "id": "5b33e0ab-6a55-4e35-8232-a5a85298571e",
   "metadata": {},
   "outputs": [
    {
     "data": {
      "text/html": [
       "<div>\n",
       "<style scoped>\n",
       "    .dataframe tbody tr th:only-of-type {\n",
       "        vertical-align: middle;\n",
       "    }\n",
       "\n",
       "    .dataframe tbody tr th {\n",
       "        vertical-align: top;\n",
       "    }\n",
       "\n",
       "    .dataframe thead th {\n",
       "        text-align: right;\n",
       "    }\n",
       "</style>\n",
       "<table border=\"1\" class=\"dataframe\">\n",
       "  <thead>\n",
       "    <tr style=\"text-align: right;\">\n",
       "      <th></th>\n",
       "      <th>id（供应商代码）</th>\n",
       "      <th>MAT_NAME（物料名称）</th>\n",
       "    </tr>\n",
       "    <tr>\n",
       "      <th>QUOTE_MAT_LINE_ID（报价单行号）</th>\n",
       "      <th></th>\n",
       "      <th></th>\n",
       "    </tr>\n",
       "  </thead>\n",
       "  <tbody>\n",
       "    <tr>\n",
       "      <th>8e24b75ce1c811ebaf97005056b12bb8</th>\n",
       "      <td>6603</td>\n",
       "      <td>液压缸吊座</td>\n",
       "    </tr>\n",
       "    <tr>\n",
       "      <th>f3afd8f4e1dc11ebaf97005056b12bb8</th>\n",
       "      <td>20958</td>\n",
       "      <td>六角头螺栓-C级GB/T5780-2000</td>\n",
       "    </tr>\n",
       "    <tr>\n",
       "      <th>1b99daf8e1de11ebaf97005056b12bb8</th>\n",
       "      <td>41982</td>\n",
       "      <td>高压水银荧光灯泡</td>\n",
       "    </tr>\n",
       "    <tr>\n",
       "      <th>1b9aac07e1de11ebaf97005056b12bb8</th>\n",
       "      <td>41982</td>\n",
       "      <td>手电筒螺口小灯泡（圆头）</td>\n",
       "    </tr>\n",
       "    <tr>\n",
       "      <th>bff9cf95e1e511ebaf97005056b12bb8</th>\n",
       "      <td>20238</td>\n",
       "      <td>外接头</td>\n",
       "    </tr>\n",
       "  </tbody>\n",
       "</table>\n",
       "</div>"
      ],
      "text/plain": [
       "                                  id（供应商代码）         MAT_NAME（物料名称）\n",
       "QUOTE_MAT_LINE_ID（报价单行号）                                          \n",
       "8e24b75ce1c811ebaf97005056b12bb8       6603                  液压缸吊座\n",
       "f3afd8f4e1dc11ebaf97005056b12bb8      20958  六角头螺栓-C级GB/T5780-2000\n",
       "1b99daf8e1de11ebaf97005056b12bb8      41982               高压水银荧光灯泡\n",
       "1b9aac07e1de11ebaf97005056b12bb8      41982           手电筒螺口小灯泡（圆头）\n",
       "bff9cf95e1e511ebaf97005056b12bb8      20238                    外接头"
      ]
     },
     "execution_count": 45,
     "metadata": {},
     "output_type": "execute_result"
    }
   ],
   "source": [
    "trainData = pd.read_csv(\"./Data_train.csv\", index_col=0)\n",
    "train_mat_names = list(trainData[\"MAT_NAME（物料名称）\"].drop_duplicates())\n",
    "trainData[:5]"
   ]
  },
  {
   "cell_type": "code",
   "execution_count": 46,
   "id": "37f31a20-4b77-409e-b775-74b9b51252b5",
   "metadata": {},
   "outputs": [],
   "source": [
    "def get_matVec(mat_names):\n",
    "    input_id = tokenizer(mat_names, padding=True, truncation=True, max_length=10, return_tensors=\"pt\")\n",
    "    input_ids = input_id[\"input_ids\"]\n",
    "    input_chunks = torch.chunk(input_ids, 10, 0)\n",
    "    outputs = []\n",
    "    for chunk in input_chunks:\n",
    "        chunk = chunk.to(device)\n",
    "        with torch.no_grad():  \n",
    "            output = model(chunk)['pooler_output']\n",
    "        output = output.cpu().detach()\n",
    "        torch.cuda.empty_cache()\n",
    "        outputs.append(output)\n",
    "    matvec = torch.cat(outputs,0)\n",
    "    return matvec"
   ]
  },
  {
   "cell_type": "markdown",
   "id": "8ddbf82b-9124-431b-a780-e39bcf45e116",
   "metadata": {},
   "source": [
    "获取测试集中的物料名称向量"
   ]
  },
  {
   "cell_type": "code",
   "execution_count": 47,
   "id": "0f9401d3-1c3f-43de-a406-c8ca695c2555",
   "metadata": {},
   "outputs": [],
   "source": [
    "test_mat_names = [\"太阳能电池\", \"石墨烯\", \"推进油缸保护套\"]"
   ]
  },
  {
   "cell_type": "code",
   "execution_count": 48,
   "id": "b48566fb-02f4-4c04-b0db-348a7a6aeb80",
   "metadata": {},
   "outputs": [
    {
     "data": {
      "text/plain": [
       "torch.Size([3, 768])"
      ]
     },
     "execution_count": 48,
     "metadata": {},
     "output_type": "execute_result"
    }
   ],
   "source": [
    "testMatVec = get_matVec(test_mat_names)\n",
    "# 测试数据中的物料名称向量\n",
    "testMatVec.shape"
   ]
  },
  {
   "cell_type": "code",
   "execution_count": 49,
   "id": "154fb263-d8d7-4475-8a0d-e41860bfa586",
   "metadata": {},
   "outputs": [],
   "source": [
    "trainMatVec = torch.load(\"trainMatVec\"+\".pt\")\n",
    "train_mat_index = pd.DataFrame(np.arange(len(train_mat_names)), index = train_mat_names)\n",
    "test_mat_index = pd.DataFrame(np.arange(len(test_mat_names)), index = test_mat_names)"
   ]
  },
  {
   "cell_type": "markdown",
   "id": "7e5762c5-0451-4ada-8abb-af9d62c897a2",
   "metadata": {},
   "source": [
    "计算测试集中物料名称与训练集中的物料名称的相似度"
   ]
  },
  {
   "cell_type": "code",
   "execution_count": 50,
   "id": "f7f3ad1b-55ce-4eb8-bb7b-e18e05348459",
   "metadata": {},
   "outputs": [
    {
     "name": "stdout",
     "output_type": "stream",
     "text": [
      "torch.Size([3, 30])\n",
      "torch.Size([3, 30])\n"
     ]
    }
   ],
   "source": [
    "def cos_similar(p, q):\n",
    "    sim_matrix = p.matmul(q.transpose(-2, -1))\n",
    "    a = torch.norm(p, p=2, dim=-1)\n",
    "    b = torch.norm(q, p=2, dim=-1)\n",
    "    sim_matrix /= a.unsqueeze(-1)\n",
    "    sim_matrix /= b.unsqueeze(-2)\n",
    "    return sim_matrix\n",
    "\n",
    "torch.cuda.empty_cache()\n",
    "with torch.no_grad(): \n",
    "    # sim_mat_score = torch.cdist(testMatVec,trainMatVec,p=2)\n",
    "    # sim_mat_score = F.cosine_similarity(testMatVec.unsqueeze(1), trainMatVec.unsqueeze(0), dim=2)\n",
    "    sim_mat_score = cos_similar(testMatVec,trainMatVec)\n",
    "    sim_mat_score = sim_mat_score.sort(axis=1, descending=True)\n",
    "    sim_mat_index = sim_mat_score.indices[:,:30]\n",
    "    sim_mat_score = sim_mat_score.values[:,:30] \n",
    "    torch.cuda.empty_cache()\n",
    "torch.cuda.empty_cache()\n",
    "print(sim_mat_score.shape)\n",
    "print(sim_mat_index.shape)"
   ]
  },
  {
   "cell_type": "code",
   "execution_count": 51,
   "id": "88c9d627-50d9-42c2-95fd-9943704d95e7",
   "metadata": {},
   "outputs": [
    {
     "data": {
      "text/plain": [
       "tensor([[17933,  2528, 22351, 18151, 18668, 22546, 23290, 18365, 26237, 23561,\n",
       "         25963, 18353, 26884,  4287,  2176, 17428, 22131, 11322, 23663, 31221,\n",
       "         26566, 25520, 10792, 23109,  4579,  2287, 19913,  2490, 11397,  9389],\n",
       "        [14727,  9973, 26483, 25948, 27437,  2752, 19919, 11223, 16342,  6642,\n",
       "         30095, 30681, 30273,  3677,  1705, 25940, 30656, 15740, 30248, 21109,\n",
       "         23070,  9964, 17907, 26852, 19286, 11007, 11224, 19649, 25946, 21280],\n",
       "        [   76, 27962, 22807, 18107, 17826, 18110, 20437,  4602, 18827, 22817,\n",
       "         18329, 17810, 16253,  3748, 19187, 28002, 30461, 28825,  2918,  3632,\n",
       "         27928, 24979, 30489, 27916, 22827, 22797, 17625, 17529, 11075,  7351]])"
      ]
     },
     "execution_count": 51,
     "metadata": {},
     "output_type": "execute_result"
    }
   ],
   "source": [
    "sim_mat_index[:3]"
   ]
  },
  {
   "cell_type": "code",
   "execution_count": 52,
   "id": "37aa51a3-1a99-4c5b-aaa3-3a1030cfd12d",
   "metadata": {},
   "outputs": [
    {
     "data": {
      "text/plain": [
       "tensor([[0.9754, 0.9744, 0.9728, 0.9727, 0.9725, 0.9723, 0.9719, 0.9715, 0.9714,\n",
       "         0.9701, 0.9700, 0.9693, 0.9688, 0.9688, 0.9687, 0.9682, 0.9682, 0.9681,\n",
       "         0.9680, 0.9668, 0.9668, 0.9667, 0.9667, 0.9666, 0.9666, 0.9666, 0.9664,\n",
       "         0.9663, 0.9660, 0.9659],\n",
       "        [0.9694, 0.9693, 0.9689, 0.9686, 0.9684, 0.9683, 0.9681, 0.9680, 0.9679,\n",
       "         0.9679, 0.9678, 0.9677, 0.9676, 0.9675, 0.9674, 0.9674, 0.9671, 0.9670,\n",
       "         0.9668, 0.9668, 0.9668, 0.9667, 0.9667, 0.9664, 0.9663, 0.9662, 0.9662,\n",
       "         0.9662, 0.9660, 0.9660],\n",
       "        [0.9951, 0.9821, 0.9793, 0.9782, 0.9777, 0.9774, 0.9774, 0.9771, 0.9762,\n",
       "         0.9762, 0.9758, 0.9757, 0.9756, 0.9756, 0.9754, 0.9754, 0.9753, 0.9753,\n",
       "         0.9748, 0.9747, 0.9747, 0.9746, 0.9746, 0.9745, 0.9740, 0.9739, 0.9738,\n",
       "         0.9736, 0.9736, 0.9733]])"
      ]
     },
     "execution_count": 52,
     "metadata": {},
     "output_type": "execute_result"
    }
   ],
   "source": [
    "sim_mat_score[:3]"
   ]
  },
  {
   "cell_type": "code",
   "execution_count": 53,
   "id": "7058e364-fa58-4bdf-b78d-92b4666e79cc",
   "metadata": {},
   "outputs": [
    {
     "data": {
      "text/html": [
       "<div>\n",
       "<style scoped>\n",
       "    .dataframe tbody tr th:only-of-type {\n",
       "        vertical-align: middle;\n",
       "    }\n",
       "\n",
       "    .dataframe tbody tr th {\n",
       "        vertical-align: top;\n",
       "    }\n",
       "\n",
       "    .dataframe thead th {\n",
       "        text-align: right;\n",
       "    }\n",
       "</style>\n",
       "<table border=\"1\" class=\"dataframe\">\n",
       "  <thead>\n",
       "    <tr style=\"text-align: right;\">\n",
       "      <th></th>\n",
       "      <th>0</th>\n",
       "    </tr>\n",
       "  </thead>\n",
       "  <tbody>\n",
       "    <tr>\n",
       "      <th>太阳能电池</th>\n",
       "      <td>0</td>\n",
       "    </tr>\n",
       "    <tr>\n",
       "      <th>石墨烯</th>\n",
       "      <td>1</td>\n",
       "    </tr>\n",
       "    <tr>\n",
       "      <th>推进油缸保护套</th>\n",
       "      <td>2</td>\n",
       "    </tr>\n",
       "  </tbody>\n",
       "</table>\n",
       "</div>"
      ],
      "text/plain": [
       "         0\n",
       "太阳能电池    0\n",
       "石墨烯      1\n",
       "推进油缸保护套  2"
      ]
     },
     "execution_count": 53,
     "metadata": {},
     "output_type": "execute_result"
    }
   ],
   "source": [
    "test_mat_index[:3]"
   ]
  },
  {
   "cell_type": "markdown",
   "id": "62bec9b6-c519-47a4-a363-450e947f94a9",
   "metadata": {},
   "source": [
    "获取历史每个物料对应的可提供供应商"
   ]
  },
  {
   "cell_type": "code",
   "execution_count": 16,
   "id": "0862e10c-cfff-44c7-8ffc-49ff5cc80b75",
   "metadata": {},
   "outputs": [
    {
     "data": {
      "text/html": [
       "<div>\n",
       "<style scoped>\n",
       "    .dataframe tbody tr th:only-of-type {\n",
       "        vertical-align: middle;\n",
       "    }\n",
       "\n",
       "    .dataframe tbody tr th {\n",
       "        vertical-align: top;\n",
       "    }\n",
       "\n",
       "    .dataframe thead th {\n",
       "        text-align: right;\n",
       "    }\n",
       "</style>\n",
       "<table border=\"1\" class=\"dataframe\">\n",
       "  <thead>\n",
       "    <tr style=\"text-align: right;\">\n",
       "      <th></th>\n",
       "      <th>id（供应商代码）</th>\n",
       "      <th>MAT_NAME（物料名称）</th>\n",
       "      <th>mat_id</th>\n",
       "    </tr>\n",
       "    <tr>\n",
       "      <th>QUOTE_MAT_LINE_ID（报价单行号）</th>\n",
       "      <th></th>\n",
       "      <th></th>\n",
       "      <th></th>\n",
       "    </tr>\n",
       "  </thead>\n",
       "  <tbody>\n",
       "    <tr>\n",
       "      <th>8e24b75ce1c811ebaf97005056b12bb8</th>\n",
       "      <td>6603</td>\n",
       "      <td>液压缸吊座</td>\n",
       "      <td>0</td>\n",
       "    </tr>\n",
       "    <tr>\n",
       "      <th>f3afd8f4e1dc11ebaf97005056b12bb8</th>\n",
       "      <td>20958</td>\n",
       "      <td>六角头螺栓-C级GB/T5780-2000</td>\n",
       "      <td>1</td>\n",
       "    </tr>\n",
       "  </tbody>\n",
       "</table>\n",
       "</div>"
      ],
      "text/plain": [
       "                                  id（供应商代码）         MAT_NAME（物料名称）  mat_id\n",
       "QUOTE_MAT_LINE_ID（报价单行号）                                                  \n",
       "8e24b75ce1c811ebaf97005056b12bb8       6603                  液压缸吊座       0\n",
       "f3afd8f4e1dc11ebaf97005056b12bb8      20958  六角头螺栓-C级GB/T5780-2000       1"
      ]
     },
     "execution_count": 16,
     "metadata": {},
     "output_type": "execute_result"
    }
   ],
   "source": [
    "train_id_mat = trainData.copy()\n",
    "train_id_mat[\"mat_id\"] = train_id_mat[\"MAT_NAME（物料名称）\"].apply(lambda x:train_mat_index.loc[x])\n",
    "train_id_mat[:2]"
   ]
  },
  {
   "cell_type": "code",
   "execution_count": 17,
   "id": "bedf88b0-1624-4027-98f1-5ed5254ae0e2",
   "metadata": {},
   "outputs": [
    {
     "data": {
      "text/plain": [
       "mat_id\n",
       "0                                                 {6603}\n",
       "1                                                {20958}\n",
       "2                                                {41982}\n",
       "3                                                {41982}\n",
       "4                                  {27177, 21484, 20238}\n",
       "                             ...                        \n",
       "195                         {43944, 10298, 22123, 33944}\n",
       "196                         {43944, 10298, 22123, 33944}\n",
       "197                  {13094, 43944, 22123, 33944, 10298}\n",
       "198                         {43944, 10298, 22123, 33944}\n",
       "199    {43944, 22123, 24431, 32919, 33944, 13945, 10298}\n",
       "Name: id（供应商代码）, Length: 200, dtype: object"
      ]
     },
     "execution_count": 17,
     "metadata": {},
     "output_type": "execute_result"
    }
   ],
   "source": [
    "mat_supply_ids = train_id_mat.groupby(by=\"mat_id\")[\"id（供应商代码）\"].apply(set)\n",
    "# 提供物料的历史供应商\n",
    "mat_supply_ids[:200]"
   ]
  },
  {
   "cell_type": "code",
   "execution_count": 24,
   "id": "f3043654-0f74-4059-add0-2932afb6235e",
   "metadata": {},
   "outputs": [
    {
     "data": {
      "text/plain": [
       "[0, 1, 2]"
      ]
     },
     "execution_count": 24,
     "metadata": {},
     "output_type": "execute_result"
    }
   ],
   "source": [
    "query_mat_index = test_mat_index.loc[test_mat_names]\n",
    "query_mat_index = query_mat_index[0].to_list()\n",
    "# 物料在相似度矩阵中的下标\n",
    "query_mat_index[:5]"
   ]
  },
  {
   "cell_type": "code",
   "execution_count": 54,
   "id": "3522f0dc-c55b-4bde-8991-da71c50f1a42",
   "metadata": {},
   "outputs": [
    {
     "data": {
      "text/html": [
       "<div>\n",
       "<style scoped>\n",
       "    .dataframe tbody tr th:only-of-type {\n",
       "        vertical-align: middle;\n",
       "    }\n",
       "\n",
       "    .dataframe tbody tr th {\n",
       "        vertical-align: top;\n",
       "    }\n",
       "\n",
       "    .dataframe thead th {\n",
       "        text-align: right;\n",
       "    }\n",
       "</style>\n",
       "<table border=\"1\" class=\"dataframe\">\n",
       "  <thead>\n",
       "    <tr style=\"text-align: right;\">\n",
       "      <th></th>\n",
       "      <th>0</th>\n",
       "      <th>1</th>\n",
       "      <th>2</th>\n",
       "      <th>3</th>\n",
       "      <th>4</th>\n",
       "      <th>5</th>\n",
       "      <th>6</th>\n",
       "      <th>7</th>\n",
       "      <th>8</th>\n",
       "      <th>9</th>\n",
       "      <th>...</th>\n",
       "      <th>20</th>\n",
       "      <th>21</th>\n",
       "      <th>22</th>\n",
       "      <th>23</th>\n",
       "      <th>24</th>\n",
       "      <th>25</th>\n",
       "      <th>26</th>\n",
       "      <th>27</th>\n",
       "      <th>28</th>\n",
       "      <th>29</th>\n",
       "    </tr>\n",
       "  </thead>\n",
       "  <tbody>\n",
       "    <tr>\n",
       "      <th>0</th>\n",
       "      <td>17933</td>\n",
       "      <td>2528</td>\n",
       "      <td>22351</td>\n",
       "      <td>18151</td>\n",
       "      <td>18668</td>\n",
       "      <td>22546</td>\n",
       "      <td>23290</td>\n",
       "      <td>18365</td>\n",
       "      <td>26237</td>\n",
       "      <td>23561</td>\n",
       "      <td>...</td>\n",
       "      <td>26566</td>\n",
       "      <td>25520</td>\n",
       "      <td>10792</td>\n",
       "      <td>23109</td>\n",
       "      <td>4579</td>\n",
       "      <td>2287</td>\n",
       "      <td>19913</td>\n",
       "      <td>2490</td>\n",
       "      <td>11397</td>\n",
       "      <td>9389</td>\n",
       "    </tr>\n",
       "    <tr>\n",
       "      <th>1</th>\n",
       "      <td>14727</td>\n",
       "      <td>9973</td>\n",
       "      <td>26483</td>\n",
       "      <td>25948</td>\n",
       "      <td>27437</td>\n",
       "      <td>2752</td>\n",
       "      <td>19919</td>\n",
       "      <td>11223</td>\n",
       "      <td>16342</td>\n",
       "      <td>6642</td>\n",
       "      <td>...</td>\n",
       "      <td>23070</td>\n",
       "      <td>9964</td>\n",
       "      <td>17907</td>\n",
       "      <td>26852</td>\n",
       "      <td>19286</td>\n",
       "      <td>11007</td>\n",
       "      <td>11224</td>\n",
       "      <td>19649</td>\n",
       "      <td>25946</td>\n",
       "      <td>21280</td>\n",
       "    </tr>\n",
       "    <tr>\n",
       "      <th>2</th>\n",
       "      <td>76</td>\n",
       "      <td>27962</td>\n",
       "      <td>22807</td>\n",
       "      <td>18107</td>\n",
       "      <td>17826</td>\n",
       "      <td>18110</td>\n",
       "      <td>20437</td>\n",
       "      <td>4602</td>\n",
       "      <td>18827</td>\n",
       "      <td>22817</td>\n",
       "      <td>...</td>\n",
       "      <td>27928</td>\n",
       "      <td>24979</td>\n",
       "      <td>30489</td>\n",
       "      <td>27916</td>\n",
       "      <td>22827</td>\n",
       "      <td>22797</td>\n",
       "      <td>17625</td>\n",
       "      <td>17529</td>\n",
       "      <td>11075</td>\n",
       "      <td>7351</td>\n",
       "    </tr>\n",
       "  </tbody>\n",
       "</table>\n",
       "<p>3 rows × 30 columns</p>\n",
       "</div>"
      ],
      "text/plain": [
       "      0      1      2      3      4      5      6      7      8      9   ...  \\\n",
       "0  17933   2528  22351  18151  18668  22546  23290  18365  26237  23561  ...   \n",
       "1  14727   9973  26483  25948  27437   2752  19919  11223  16342   6642  ...   \n",
       "2     76  27962  22807  18107  17826  18110  20437   4602  18827  22817  ...   \n",
       "\n",
       "      20     21     22     23     24     25     26     27     28     29  \n",
       "0  26566  25520  10792  23109   4579   2287  19913   2490  11397   9389  \n",
       "1  23070   9964  17907  26852  19286  11007  11224  19649  25946  21280  \n",
       "2  27928  24979  30489  27916  22827  22797  17625  17529  11075   7351  \n",
       "\n",
       "[3 rows x 30 columns]"
      ]
     },
     "execution_count": 54,
     "metadata": {},
     "output_type": "execute_result"
    }
   ],
   "source": [
    "item_sim_mat = pd.DataFrame(sim_mat_index[query_mat_index].tolist())\n",
    "item_sim_mat[:4]"
   ]
  },
  {
   "cell_type": "code",
   "execution_count": 55,
   "id": "3400b9e0-055a-4a90-9191-3a1140d27d6c",
   "metadata": {},
   "outputs": [
    {
     "data": {
      "text/html": [
       "<div>\n",
       "<style scoped>\n",
       "    .dataframe tbody tr th:only-of-type {\n",
       "        vertical-align: middle;\n",
       "    }\n",
       "\n",
       "    .dataframe tbody tr th {\n",
       "        vertical-align: top;\n",
       "    }\n",
       "\n",
       "    .dataframe thead th {\n",
       "        text-align: right;\n",
       "    }\n",
       "</style>\n",
       "<table border=\"1\" class=\"dataframe\">\n",
       "  <thead>\n",
       "    <tr style=\"text-align: right;\">\n",
       "      <th></th>\n",
       "      <th>0</th>\n",
       "      <th>1</th>\n",
       "      <th>2</th>\n",
       "      <th>3</th>\n",
       "      <th>4</th>\n",
       "      <th>5</th>\n",
       "      <th>6</th>\n",
       "      <th>7</th>\n",
       "      <th>8</th>\n",
       "      <th>9</th>\n",
       "      <th>...</th>\n",
       "      <th>20</th>\n",
       "      <th>21</th>\n",
       "      <th>22</th>\n",
       "      <th>23</th>\n",
       "      <th>24</th>\n",
       "      <th>25</th>\n",
       "      <th>26</th>\n",
       "      <th>27</th>\n",
       "      <th>28</th>\n",
       "      <th>29</th>\n",
       "    </tr>\n",
       "  </thead>\n",
       "  <tbody>\n",
       "    <tr>\n",
       "      <th>0</th>\n",
       "      <td>0.975351</td>\n",
       "      <td>0.974373</td>\n",
       "      <td>0.972824</td>\n",
       "      <td>0.972731</td>\n",
       "      <td>0.972540</td>\n",
       "      <td>0.972320</td>\n",
       "      <td>0.971894</td>\n",
       "      <td>0.971539</td>\n",
       "      <td>0.971442</td>\n",
       "      <td>0.970059</td>\n",
       "      <td>...</td>\n",
       "      <td>0.966772</td>\n",
       "      <td>0.966697</td>\n",
       "      <td>0.966665</td>\n",
       "      <td>0.966642</td>\n",
       "      <td>0.966639</td>\n",
       "      <td>0.966576</td>\n",
       "      <td>0.966416</td>\n",
       "      <td>0.966314</td>\n",
       "      <td>0.966026</td>\n",
       "      <td>0.965949</td>\n",
       "    </tr>\n",
       "    <tr>\n",
       "      <th>1</th>\n",
       "      <td>0.969413</td>\n",
       "      <td>0.969256</td>\n",
       "      <td>0.968894</td>\n",
       "      <td>0.968589</td>\n",
       "      <td>0.968390</td>\n",
       "      <td>0.968343</td>\n",
       "      <td>0.968125</td>\n",
       "      <td>0.968029</td>\n",
       "      <td>0.967892</td>\n",
       "      <td>0.967856</td>\n",
       "      <td>...</td>\n",
       "      <td>0.966754</td>\n",
       "      <td>0.966745</td>\n",
       "      <td>0.966728</td>\n",
       "      <td>0.966437</td>\n",
       "      <td>0.966301</td>\n",
       "      <td>0.966225</td>\n",
       "      <td>0.966220</td>\n",
       "      <td>0.966178</td>\n",
       "      <td>0.966032</td>\n",
       "      <td>0.965999</td>\n",
       "    </tr>\n",
       "    <tr>\n",
       "      <th>2</th>\n",
       "      <td>0.995081</td>\n",
       "      <td>0.982073</td>\n",
       "      <td>0.979273</td>\n",
       "      <td>0.978168</td>\n",
       "      <td>0.977674</td>\n",
       "      <td>0.977440</td>\n",
       "      <td>0.977398</td>\n",
       "      <td>0.977059</td>\n",
       "      <td>0.976213</td>\n",
       "      <td>0.976181</td>\n",
       "      <td>...</td>\n",
       "      <td>0.974664</td>\n",
       "      <td>0.974613</td>\n",
       "      <td>0.974605</td>\n",
       "      <td>0.974502</td>\n",
       "      <td>0.974006</td>\n",
       "      <td>0.973928</td>\n",
       "      <td>0.973836</td>\n",
       "      <td>0.973586</td>\n",
       "      <td>0.973552</td>\n",
       "      <td>0.973256</td>\n",
       "    </tr>\n",
       "  </tbody>\n",
       "</table>\n",
       "<p>3 rows × 30 columns</p>\n",
       "</div>"
      ],
      "text/plain": [
       "         0         1         2         3         4         5         6   \\\n",
       "0  0.975351  0.974373  0.972824  0.972731  0.972540  0.972320  0.971894   \n",
       "1  0.969413  0.969256  0.968894  0.968589  0.968390  0.968343  0.968125   \n",
       "2  0.995081  0.982073  0.979273  0.978168  0.977674  0.977440  0.977398   \n",
       "\n",
       "         7         8         9   ...        20        21        22        23  \\\n",
       "0  0.971539  0.971442  0.970059  ...  0.966772  0.966697  0.966665  0.966642   \n",
       "1  0.968029  0.967892  0.967856  ...  0.966754  0.966745  0.966728  0.966437   \n",
       "2  0.977059  0.976213  0.976181  ...  0.974664  0.974613  0.974605  0.974502   \n",
       "\n",
       "         24        25        26        27        28        29  \n",
       "0  0.966639  0.966576  0.966416  0.966314  0.966026  0.965949  \n",
       "1  0.966301  0.966225  0.966220  0.966178  0.966032  0.965999  \n",
       "2  0.974006  0.973928  0.973836  0.973586  0.973552  0.973256  \n",
       "\n",
       "[3 rows x 30 columns]"
      ]
     },
     "execution_count": 55,
     "metadata": {},
     "output_type": "execute_result"
    }
   ],
   "source": [
    "item_sim_score = pd.DataFrame(sim_mat_score[query_mat_index].tolist())\n",
    "item_sim_score[:4]"
   ]
  },
  {
   "cell_type": "code",
   "execution_count": 27,
   "id": "e33c6c2d-e598-4686-9d1d-51d942151491",
   "metadata": {},
   "outputs": [
    {
     "data": {
      "text/plain": [
       "(3, 10)"
      ]
     },
     "execution_count": 27,
     "metadata": {},
     "output_type": "execute_result"
    }
   ],
   "source": [
    "item_sim_mat.shape\n",
    "# 行数是测试集数量，列数对应在训练集中相关的前10个物料向量"
   ]
  },
  {
   "cell_type": "code",
   "execution_count": 58,
   "id": "f230a135-ba41-43b6-9793-49299fb3ef25",
   "metadata": {},
   "outputs": [
    {
     "data": {
      "text/html": [
       "<div>\n",
       "<style scoped>\n",
       "    .dataframe tbody tr th:only-of-type {\n",
       "        vertical-align: middle;\n",
       "    }\n",
       "\n",
       "    .dataframe tbody tr th {\n",
       "        vertical-align: top;\n",
       "    }\n",
       "\n",
       "    .dataframe thead th {\n",
       "        text-align: right;\n",
       "    }\n",
       "</style>\n",
       "<table border=\"1\" class=\"dataframe\">\n",
       "  <thead>\n",
       "    <tr style=\"text-align: right;\">\n",
       "      <th></th>\n",
       "      <th>0</th>\n",
       "      <th>1</th>\n",
       "    </tr>\n",
       "  </thead>\n",
       "  <tbody>\n",
       "    <tr>\n",
       "      <th>0</th>\n",
       "      <td>[[25798, 28555, 269, 8213, 30039], [14761], [3...</td>\n",
       "      <td>[0.9753511548042297, 0.9743733406066895, 0.972...</td>\n",
       "    </tr>\n",
       "    <tr>\n",
       "      <th>1</th>\n",
       "      <td>[[28357, 44758], [16410], [14436], [6119, 3146...</td>\n",
       "      <td>[0.9694129228591919, 0.9692555665969849, 0.968...</td>\n",
       "    </tr>\n",
       "    <tr>\n",
       "      <th>2</th>\n",
       "      <td>[[9600, 26309, 41896, 30351, 10681], [13094], ...</td>\n",
       "      <td>[0.9950808882713318, 0.9820733666419983, 0.979...</td>\n",
       "    </tr>\n",
       "  </tbody>\n",
       "</table>\n",
       "</div>"
      ],
      "text/plain": [
       "                                                   0  \\\n",
       "0  [[25798, 28555, 269, 8213, 30039], [14761], [3...   \n",
       "1  [[28357, 44758], [16410], [14436], [6119, 3146...   \n",
       "2  [[9600, 26309, 41896, 30351, 10681], [13094], ...   \n",
       "\n",
       "                                                   1  \n",
       "0  [0.9753511548042297, 0.9743733406066895, 0.972...  \n",
       "1  [0.9694129228591919, 0.9692555665969849, 0.968...  \n",
       "2  [0.9950808882713318, 0.9820733666419983, 0.979...  "
      ]
     },
     "execution_count": 58,
     "metadata": {},
     "output_type": "execute_result"
    }
   ],
   "source": [
    "from operator import add\n",
    "from functools import reduce\n",
    "def simMat2supp(x, suppNum = 50):\n",
    "    suplists = list(mat_supply_ids.loc[x].apply(list))\n",
    "    scores = list(item_sim_score.loc[x.name])\n",
    "    return pd.Series([suplists,scores])\n",
    "item_sim_mat[:10].apply(simMat2supp, axis=1)"
   ]
  },
  {
   "cell_type": "code",
   "execution_count": 59,
   "id": "bf014407-205f-45b0-b520-44f082140b4c",
   "metadata": {},
   "outputs": [
    {
     "data": {
      "text/html": [
       "<div>\n",
       "<style scoped>\n",
       "    .dataframe tbody tr th:only-of-type {\n",
       "        vertical-align: middle;\n",
       "    }\n",
       "\n",
       "    .dataframe tbody tr th {\n",
       "        vertical-align: top;\n",
       "    }\n",
       "\n",
       "    .dataframe thead th {\n",
       "        text-align: right;\n",
       "    }\n",
       "</style>\n",
       "<table border=\"1\" class=\"dataframe\">\n",
       "  <thead>\n",
       "    <tr style=\"text-align: right;\">\n",
       "      <th></th>\n",
       "      <th>supps</th>\n",
       "      <th>scores</th>\n",
       "    </tr>\n",
       "  </thead>\n",
       "  <tbody>\n",
       "    <tr>\n",
       "      <th>0</th>\n",
       "      <td>[[25798, 28555, 269, 8213, 30039], [14761], [3...</td>\n",
       "      <td>[0.9753511548042297, 0.9743733406066895, 0.972...</td>\n",
       "    </tr>\n",
       "    <tr>\n",
       "      <th>1</th>\n",
       "      <td>[[28357, 44758], [16410], [14436], [6119, 3146...</td>\n",
       "      <td>[0.9694129228591919, 0.9692555665969849, 0.968...</td>\n",
       "    </tr>\n",
       "    <tr>\n",
       "      <th>2</th>\n",
       "      <td>[[9600, 26309, 41896, 30351, 10681], [13094], ...</td>\n",
       "      <td>[0.9950808882713318, 0.9820733666419983, 0.979...</td>\n",
       "    </tr>\n",
       "  </tbody>\n",
       "</table>\n",
       "</div>"
      ],
      "text/plain": [
       "                                               supps  \\\n",
       "0  [[25798, 28555, 269, 8213, 30039], [14761], [3...   \n",
       "1  [[28357, 44758], [16410], [14436], [6119, 3146...   \n",
       "2  [[9600, 26309, 41896, 30351, 10681], [13094], ...   \n",
       "\n",
       "                                              scores  \n",
       "0  [0.9753511548042297, 0.9743733406066895, 0.972...  \n",
       "1  [0.9694129228591919, 0.9692555665969849, 0.968...  \n",
       "2  [0.9950808882713318, 0.9820733666419983, 0.979...  "
      ]
     },
     "execution_count": 59,
     "metadata": {},
     "output_type": "execute_result"
    }
   ],
   "source": [
    "result = item_sim_mat.apply(simMat2supp, axis=1)\n",
    "result = result.rename(columns={0:'supps',1:'scores'})\n",
    "result"
   ]
  },
  {
   "cell_type": "code",
   "execution_count": 60,
   "id": "77747abb-09a4-499b-a6f2-a25a9e0a286c",
   "metadata": {},
   "outputs": [
    {
     "data": {
      "text/html": [
       "<div>\n",
       "<style scoped>\n",
       "    .dataframe tbody tr th:only-of-type {\n",
       "        vertical-align: middle;\n",
       "    }\n",
       "\n",
       "    .dataframe tbody tr th {\n",
       "        vertical-align: top;\n",
       "    }\n",
       "\n",
       "    .dataframe thead th {\n",
       "        text-align: right;\n",
       "    }\n",
       "</style>\n",
       "<table border=\"1\" class=\"dataframe\">\n",
       "  <thead>\n",
       "    <tr style=\"text-align: right;\">\n",
       "      <th></th>\n",
       "      <th>supps</th>\n",
       "      <th>scores</th>\n",
       "    </tr>\n",
       "  </thead>\n",
       "  <tbody>\n",
       "    <tr>\n",
       "      <th>0</th>\n",
       "      <td>[25798, 28555, 269, 8213, 30039, 14761, 3587, ...</td>\n",
       "      <td>[0.9753511548042297, 0.9753511548042297, 0.975...</td>\n",
       "    </tr>\n",
       "    <tr>\n",
       "      <th>1</th>\n",
       "      <td>[28357, 44758, 16410, 14436, 6119, 31465, 3060...</td>\n",
       "      <td>[0.9694129228591919, 0.9694129228591919, 0.969...</td>\n",
       "    </tr>\n",
       "    <tr>\n",
       "      <th>2</th>\n",
       "      <td>[9600, 26309, 41896, 30351, 10681, 13094, 525,...</td>\n",
       "      <td>[0.9950808882713318, 0.9950808882713318, 0.995...</td>\n",
       "    </tr>\n",
       "  </tbody>\n",
       "</table>\n",
       "</div>"
      ],
      "text/plain": [
       "                                               supps  \\\n",
       "0  [25798, 28555, 269, 8213, 30039, 14761, 3587, ...   \n",
       "1  [28357, 44758, 16410, 14436, 6119, 31465, 3060...   \n",
       "2  [9600, 26309, 41896, 30351, 10681, 13094, 525,...   \n",
       "\n",
       "                                              scores  \n",
       "0  [0.9753511548042297, 0.9753511548042297, 0.975...  \n",
       "1  [0.9694129228591919, 0.9694129228591919, 0.969...  \n",
       "2  [0.9950808882713318, 0.9950808882713318, 0.995...  "
      ]
     },
     "execution_count": 60,
     "metadata": {},
     "output_type": "execute_result"
    }
   ],
   "source": [
    "def scoreBroadCast(x, suppNum = 50):\n",
    "    suppslist = []\n",
    "    scoreslist = []\n",
    "    for i in range(len(x['supps'])):\n",
    "        suppslist.extend(x['supps'][i])\n",
    "        scoreslist.extend([x['scores'][i]]*len(x['supps'][i]))\n",
    "    return pd.Series([suppslist[:suppNum],scoreslist[:suppNum]])\n",
    "broadResult = result.apply(scoreBroadCast, axis=1)\n",
    "broadResult = broadResult.rename(columns={0:'supps',1:'scores'})\n",
    "broadResult[:10]"
   ]
  },
  {
   "cell_type": "code",
   "execution_count": 63,
   "id": "0b4a97b7-c608-4799-a37d-1214fd2115d2",
   "metadata": {},
   "outputs": [],
   "source": [
    "similar_mats = train_mat_index.index[sim_mat_index]"
   ]
  },
  {
   "cell_type": "markdown",
   "id": "c713fbd9-2444-4349-9965-0f7002548d7d",
   "metadata": {},
   "source": [
    "太阳能电池"
   ]
  },
  {
   "cell_type": "code",
   "execution_count": 67,
   "id": "e25b7b53-b2a0-4d4f-bdd8-6134c93a7900",
   "metadata": {},
   "outputs": [
    {
     "name": "stdout",
     "output_type": "stream",
     "text": [
      "物料名称：太阳能电池\n",
      "相似物料\n",
      "['备用电池', '锂聚合物电池', '5号电池', '聚合物锂电池', '直流钻电池', '充电式镍氢电池', '锂亚硫酰氯电池', '特碱性电池', '锂亚电池', '三轮车电池', '锂离子充电电池', 'SAFT电池', '7号电池', '层迭电池', '积层电池', '太阳能户外灯', 'UPS电池包', '万用表电池', '积层电池 9V', '台达PLC电池', '铅酸蓄电池', 'PLC电池', '层叠电池', '碱性电池', 'ups电池', '蓄电池', '可充锂电池', '干电池', '充电电池', '充电式电镐']\n",
      "推荐供应商ID\n",
      "[25798, 28555, 269, 8213, 30039, 14761, 3587, 22188, 12814, 5683, 41493, 40247, 15755, 27804, 35695, 718, 27044, 35895, 31715, 27383, 9490, 9651, 1357, 16840, 19272, 8927, 18618, 13139, 269, 31877, 40147, 38027, 2093, 22188, 12814, 41937, 14051, 36452, 10469, 30539, 43883, 44925, 32848, 7289, 21565, 6129, 21137, 38548, 6908, 10]\n",
      "相关供应物料相似度\n",
      "[0.9753511548042297, 0.9753511548042297, 0.9753511548042297, 0.9753511548042297, 0.9753511548042297, 0.9743733406066895, 0.9728236794471741, 0.9728236794471741, 0.9728236794471741, 0.9728236794471741, 0.9728236794471741, 0.9728236794471741, 0.9727308750152588, 0.9727308750152588, 0.9727308750152588, 0.9725401401519775, 0.9723196625709534, 0.9723196625709534, 0.9718942642211914, 0.9715390801429749, 0.9714415073394775, 0.9714415073394775, 0.9714415073394775, 0.9700592756271362, 0.9700592756271362, 0.9700592756271362, 0.9699712991714478, 0.9699712991714478, 0.9699712991714478, 0.9699712991714478, 0.9693135619163513, 0.9693135619163513, 0.9693135619163513, 0.9688155055046082, 0.9688155055046082, 0.9687742590904236, 0.9687742590904236, 0.9686818718910217, 0.9686818718910217, 0.9686818718910217, 0.9686818718910217, 0.9686818718910217, 0.9686818718910217, 0.9686818718910217, 0.9686818718910217, 0.9682042598724365, 0.9682042598724365, 0.9682042598724365, 0.9681779146194458, 0.9680996537208557]\n",
      "\n",
      "物料名称：石墨烯\n",
      "相似物料\n",
      "['聚乙烯雨布', '增强树脂管', '高压树脂管', '钢板压块', 'PE缠绕膜', '普炭中板', '绿油漆', '顶部石墨电极', '塑料吸管', '可控硅', '玻璃试管', '98碳化硅', '硅碳管', '石墨垫', '聚丙烯覆膜料', '低硫压块', '油滤', '油管芯', '硝酸锂', '极压锂基脂', '聚四氟板', '反渗透膜', '石墨口环', '油膜管', '印泥油', '高压RO膜', '侧部石墨电极', '中碳锰铁', '工业薄板压块', 'PVC薄膜']\n",
      "推荐供应商ID\n",
      "[28357, 44758, 16410, 14436, 6119, 31465, 30602, 5804, 41646, 7155, 43451, 7584, 45587, 28980, 42279, 40813, 29939, 26868, 20981, 22941, 18643, 19060, 13518, 27001, 27438, 23537, 22627, 7060, 6556, 42784, 12072, 35407, 4560, 37682, 34488, 12154, 16027, 38014, 30097, 42726, 18047, 25101, 46040, 1897, 10590, 21199, 11235, 40133, 31685, 27688]\n",
      "相关供应物料相似度\n",
      "[0.9694129228591919, 0.9694129228591919, 0.9692555665969849, 0.9688943028450012, 0.968588650226593, 0.968588650226593, 0.968588650226593, 0.968588650226593, 0.968588650226593, 0.968588650226593, 0.968588650226593, 0.9683903455734253, 0.9683903455734253, 0.9683903455734253, 0.9683427810668945, 0.9683427810668945, 0.9683427810668945, 0.9683427810668945, 0.9683427810668945, 0.9683427810668945, 0.9681251049041748, 0.9681251049041748, 0.9681251049041748, 0.9680291414260864, 0.9680291414260864, 0.9678915739059448, 0.9678915739059448, 0.9678915739059448, 0.9678915739059448, 0.9678561091423035, 0.9678561091423035, 0.9678561091423035, 0.9678561091423035, 0.9678561091423035, 0.9678561091423035, 0.9678561091423035, 0.9678561091423035, 0.9678561091423035, 0.967760443687439, 0.967760443687439, 0.967760443687439, 0.9677413702011108, 0.967629611492157, 0.967629611492157, 0.967629611492157, 0.967629611492157, 0.9675326347351074, 0.9675326347351074, 0.9675326347351074, 0.9675326347351074]\n",
      "\n",
      "物料名称：推进油缸保护套\n",
      "相似物料\n",
      "['推进油缸保护套', '转向油缸修理包', '转向油缸油管', '倾翻油缸油封', '转斗油缸前衬套', '涡轮器进油管', 'SMC气缸维修包 Cylinder repair kit NCA1200-PS NCA1200-PSW', '柴油机保护装置', '3SPM平衡缸油缸修复', '转向缸油封', '气缸前端盖防尘圈', '转斗油缸缸盖', '支护调整油缸', '非接触式打滑检测器DHV型220V 1.7-8.3A', '油缸前销组件', '给进油缸接头', '5#转向辊油缸头子', '发动机换气门导管', '套筒-前稳固油缸油管', '换挡气缸修理包', '横移小车油缸前腔', '二级升降油缸', '后轮轴头油封', '横移小车油缸后腔', '倾斜油缸油管', '举升缸回油管接头', '回转油缸密封件-KD400泥炮', '二次给进油缸', '升降台油缸维修', '横移小车油缸']\n",
      "推荐供应商ID\n",
      "[9600, 26309, 41896, 30351, 10681, 13094, 525, 4472, 13705, 31265, 26532, 4472, 13705, 31265, 30634, 22022, 9600, 26309, 38955, 30351, 35674, 10448, 28232, 525, 34176, 32462, 35766, 26532, 2949, 26309, 4777, 43181, 5262, 30351, 20466, 29408, 44710, 21674, 6478, 7118, 24900, 28973, 12454, 17208, 34252, 6791, 23000, 3681, 17216, 17208]\n",
      "相关供应物料相似度\n",
      "[0.9950808882713318, 0.9950808882713318, 0.9950808882713318, 0.9950808882713318, 0.9950808882713318, 0.9820733666419983, 0.9792725443840027, 0.9781684875488281, 0.9781684875488281, 0.9781684875488281, 0.9776736497879028, 0.9774400591850281, 0.9774400591850281, 0.9774400591850281, 0.9773975610733032, 0.9773975610733032, 0.9770588278770447, 0.9770588278770447, 0.9770588278770447, 0.9770588278770447, 0.9770588278770447, 0.9762133359909058, 0.9762133359909058, 0.9761812686920166, 0.9758230447769165, 0.9758230447769165, 0.9758230447769165, 0.9756579995155334, 0.9755733013153076, 0.9755733013153076, 0.9755733013153076, 0.9755733013153076, 0.9755733013153076, 0.9755733013153076, 0.9755733013153076, 0.9755727648735046, 0.9755727648735046, 0.9755727648735046, 0.9755727648735046, 0.9755727648735046, 0.9754424095153809, 0.9754424095153809, 0.9754424095153809, 0.9753674268722534, 0.9753674268722534, 0.9753674268722534, 0.9753275513648987, 0.9753275513648987, 0.9752954840660095, 0.9748027324676514]\n",
      "\n"
     ]
    }
   ],
   "source": [
    "for i, mat in enumerate(test_mat_names):\n",
    "    print(\"物料名称：{}\".format(mat))\n",
    "    print(\"相似物料\")\n",
    "    print(list(similar_mats[i]))\n",
    "    print(\"推荐供应商ID\")\n",
    "    print(broadResult[\"supps\"][i])\n",
    "    print(\"相关供应物料相似度\")\n",
    "    print(broadResult[\"scores\"][i])\n",
    "    print()"
   ]
  }
 ],
 "metadata": {
  "kernelspec": {
   "display_name": "Python 3 (ipykernel)",
   "language": "python",
   "name": "python3"
  },
  "language_info": {
   "codemirror_mode": {
    "name": "ipython",
    "version": 3
   },
   "file_extension": ".py",
   "mimetype": "text/x-python",
   "name": "python",
   "nbconvert_exporter": "python",
   "pygments_lexer": "ipython3",
   "version": "3.9.12"
  }
 },
 "nbformat": 4,
 "nbformat_minor": 5
}
