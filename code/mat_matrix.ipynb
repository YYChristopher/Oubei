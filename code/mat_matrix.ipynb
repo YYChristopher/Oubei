{
 "cells": [
  {
   "cell_type": "code",
   "execution_count": null,
   "id": "70f10e5f-87bc-4cc7-a677-ef69ecd005f5",
   "metadata": {},
   "outputs": [],
   "source": [
    "# pip install xlrd==1.2.0"
   ]
  },
  {
   "cell_type": "code",
   "execution_count": 1,
   "id": "26094e54-02f2-4eeb-82db-fe4db4d4dac5",
   "metadata": {},
   "outputs": [],
   "source": [
    "import pandas as pd\n",
    "import numpy as np\n",
    "# data = pd.read_excel(\"newData2.xlsx\")"
   ]
  },
  {
   "cell_type": "code",
   "execution_count": 4,
   "id": "ecc1fc58-17b4-4968-9f04-d2a22677b91c",
   "metadata": {},
   "outputs": [
    {
     "data": {
      "text/plain": [
       "Index(['QUOTE_MAT_LINE_ID（报价单行号）', 'QUOTATION_ID（报价单号）',\n",
       "       'INQUIRY_ID（报价单对应询单号）', 'INQUIRY_MAT_LINE_ID（报价单对应询单行号）', 'QUOTE_TIME',\n",
       "       'id（供应商代码）', 'MAT_NAME（物料名称）', 'TYPE_SPEC（规格描述）', 'BRAND_NAME（品牌名称）',\n",
       "       'MAT_DESC（物料技术属性）', 'CREATE_TIME', '供应商区', '供应商企业性质（精简）', '供应商企业规模',\n",
       "       '供应商企业性质', '供应商国家', '供应商省份', '供应商城市 ', '供应商区域', '供应商法人代表实名认证',\n",
       "       '供应商所属行业', '供应商交付超期风险', '供应质量风险', '授信回款风险', '工商变更信息', '法院公告信息',\n",
       "       'CA办理情况', '营业执照状态', 'id（采购商代码）-1', '采购商区', '采购商企业性质（精简）', '采购商企业规模',\n",
       "       '采购商企业性质', '采购商国家', '采购商省份', '采购商城市', '采购商区域', '采购商法人代表实名认证', '采购商所属行业',\n",
       "       '采购商授信回款风险', '采购商工商变更信息', '法院公告信息-1', 'CA办理情况-1', '营业执照状态-1',\n",
       "       'INQUIRY_STATUS_NAME（询价状态）'],\n",
       "      dtype='object')"
      ]
     },
     "execution_count": 4,
     "metadata": {},
     "output_type": "execute_result"
    }
   ],
   "source": [
    "data.columns"
   ]
  },
  {
   "cell_type": "code",
   "execution_count": null,
   "id": "e228e4b7-2824-4a86-8177-95c773c6be12",
   "metadata": {},
   "outputs": [],
   "source": [
    "mat_id = data[['MAT_NAME（物料名称）','id（供应商代码）']]\n",
    "mat_id.to_csv(\"./Mat_id.csv\")"
   ]
  },
  {
   "cell_type": "code",
   "execution_count": 4,
   "id": "d0ed6373-2abd-41c8-bfd5-780332ddf0b8",
   "metadata": {},
   "outputs": [
    {
     "data": {
      "text/html": [
       "<div>\n",
       "<style scoped>\n",
       "    .dataframe tbody tr th:only-of-type {\n",
       "        vertical-align: middle;\n",
       "    }\n",
       "\n",
       "    .dataframe tbody tr th {\n",
       "        vertical-align: top;\n",
       "    }\n",
       "\n",
       "    .dataframe thead th {\n",
       "        text-align: right;\n",
       "    }\n",
       "</style>\n",
       "<table border=\"1\" class=\"dataframe\">\n",
       "  <thead>\n",
       "    <tr style=\"text-align: right;\">\n",
       "      <th></th>\n",
       "      <th>MAT_NAME（物料名称）</th>\n",
       "      <th>id（供应商代码）</th>\n",
       "    </tr>\n",
       "  </thead>\n",
       "  <tbody>\n",
       "    <tr>\n",
       "      <th>0</th>\n",
       "      <td>锁紧螺母</td>\n",
       "      <td>25869</td>\n",
       "    </tr>\n",
       "    <tr>\n",
       "      <th>1</th>\n",
       "      <td>8”锥套</td>\n",
       "      <td>25869</td>\n",
       "    </tr>\n",
       "    <tr>\n",
       "      <th>2</th>\n",
       "      <td>可调节锁紧螺母</td>\n",
       "      <td>25869</td>\n",
       "    </tr>\n",
       "    <tr>\n",
       "      <th>3</th>\n",
       "      <td>弹性垫圈</td>\n",
       "      <td>25869</td>\n",
       "    </tr>\n",
       "    <tr>\n",
       "      <th>4</th>\n",
       "      <td>红油</td>\n",
       "      <td>25869</td>\n",
       "    </tr>\n",
       "    <tr>\n",
       "      <th>...</th>\n",
       "      <td>...</td>\n",
       "      <td>...</td>\n",
       "    </tr>\n",
       "    <tr>\n",
       "      <th>333205</th>\n",
       "      <td>面板灯</td>\n",
       "      <td>33086</td>\n",
       "    </tr>\n",
       "    <tr>\n",
       "      <th>333206</th>\n",
       "      <td>LED路灯</td>\n",
       "      <td>33086</td>\n",
       "    </tr>\n",
       "    <tr>\n",
       "      <th>333207</th>\n",
       "      <td>平板式屋顶灯</td>\n",
       "      <td>33086</td>\n",
       "    </tr>\n",
       "    <tr>\n",
       "      <th>333208</th>\n",
       "      <td>防爆LED灯</td>\n",
       "      <td>33086</td>\n",
       "    </tr>\n",
       "    <tr>\n",
       "      <th>333209</th>\n",
       "      <td>LED投光灯</td>\n",
       "      <td>33086</td>\n",
       "    </tr>\n",
       "  </tbody>\n",
       "</table>\n",
       "<p>333210 rows × 2 columns</p>\n",
       "</div>"
      ],
      "text/plain": [
       "       MAT_NAME（物料名称）  id（供应商代码）\n",
       "0                锁紧螺母      25869\n",
       "1                8”锥套      25869\n",
       "2             可调节锁紧螺母      25869\n",
       "3                弹性垫圈      25869\n",
       "4                  红油      25869\n",
       "...               ...        ...\n",
       "333205            面板灯      33086\n",
       "333206          LED路灯      33086\n",
       "333207         平板式屋顶灯      33086\n",
       "333208         防爆LED灯      33086\n",
       "333209         LED投光灯      33086\n",
       "\n",
       "[333210 rows x 2 columns]"
      ]
     },
     "execution_count": 4,
     "metadata": {},
     "output_type": "execute_result"
    }
   ],
   "source": [
    "mat_id = pd.read_csv(\"./Mat_id.csv\", index_col=0)\n",
    "mat_id"
   ]
  },
  {
   "cell_type": "code",
   "execution_count": 34,
   "id": "8e1d6f19-b26f-4e3c-8479-9038c9988ba9",
   "metadata": {},
   "outputs": [],
   "source": [
    "mat_ids = mat_id.groupby(by=\"MAT_NAME（物料名称）\")[\"id（供应商代码）\"].apply(set)"
   ]
  },
  {
   "cell_type": "code",
   "execution_count": 35,
   "id": "fa14e27b-1848-4435-a128-d08232cafa84",
   "metadata": {},
   "outputs": [
    {
     "data": {
      "text/plain": [
       "MAT_NAME（物料名称）\n",
       "\\t M56*180螺栓/螺母/垫片                           {15676, 29359}\n",
       "\\t NAT6*19S1770ZZ钢丝绳                          {8625, 45933}\n",
       "\\t 后段车架                                      {37692, 32301}\n",
       "\\t 异型钢丝绳                                      {8625, 45933}\n",
       "\\t 接盘                                 {32097, 23372, 19918}\n",
       "                                           ...             \n",
       "（高精度）智能微差压变送器                                {35388, 26157}\n",
       "（高精度）智能管道式压力变送器                              {35388, 26157}\n",
       "（）级吊装作业安全作业证                                        {31840}\n",
       "（）级高处安全作业证                                          {31840}\n",
       "￠3.6×4.0m格子型球磨机勺体K213.01.10    {28639, 40460, 35309, 10677}\n",
       "Name: id（供应商代码）, Length: 41794, dtype: object"
      ]
     },
     "execution_count": 35,
     "metadata": {},
     "output_type": "execute_result"
    }
   ],
   "source": [
    "mat_ids"
   ]
  },
  {
   "cell_type": "code",
   "execution_count": 79,
   "id": "80404c0e-5530-44ed-b5d0-5eeca7b4bbff",
   "metadata": {},
   "outputs": [
    {
     "data": {
      "text/plain": [
       "[1,\n",
       " '山东钢铁股份有限公司莱芜分公司',\n",
       " '547-420轧机机列',\n",
       " '下调心托辊支架',\n",
       " '六渣池桥式起重机维修',\n",
       " '热电车间工艺报警记录',\n",
       " '直通截止阀',\n",
       " '后弓子板',\n",
       " '光面绝缘防砸鞋',\n",
       " '西门子数字量输入输出模块(扩展）']"
      ]
     },
     "execution_count": 79,
     "metadata": {},
     "output_type": "execute_result"
    }
   ],
   "source": [
    "mat_columns = list(set(mat_id['MAT_NAME（物料名称）']))\n",
    "mat_columns[:10]"
   ]
  },
  {
   "cell_type": "code",
   "execution_count": 80,
   "id": "b74bbaf1-c996-41d7-9971-fc0d45ba755b",
   "metadata": {},
   "outputs": [
    {
     "data": {
      "text/plain": [
       "[7, 10, 12, 21, 40, 41, 60, 99, 107, 151]"
      ]
     },
     "execution_count": 80,
     "metadata": {},
     "output_type": "execute_result"
    }
   ],
   "source": [
    "id_lines = list(set(mat_id['id（供应商代码）']))\n",
    "id_lines.sort()\n",
    "id_lines[:10]"
   ]
  },
  {
   "cell_type": "code",
   "execution_count": 81,
   "id": "3709408e-1e31-493e-97db-1da3504b08fd",
   "metadata": {},
   "outputs": [],
   "source": [
    "df_cols = ['sup_id'] + mat_columns"
   ]
  },
  {
   "cell_type": "code",
   "execution_count": 82,
   "id": "829e55dc-f91d-4daf-8c43-2d4c041f2717",
   "metadata": {},
   "outputs": [
    {
     "data": {
      "text/plain": [
       "(5120, 41794)"
      ]
     },
     "execution_count": 82,
     "metadata": {},
     "output_type": "execute_result"
    }
   ],
   "source": [
    "id_mat_matrix = np.zeros((len(id_lines),len(mat_columns)), dtype=int)\n",
    "id_mat_matrix.shape"
   ]
  },
  {
   "cell_type": "code",
   "execution_count": 83,
   "id": "d49a4cfe-8213-4d24-916d-760893bf175c",
   "metadata": {},
   "outputs": [
    {
     "data": {
      "text/plain": [
       "(5120, 41795)"
      ]
     },
     "execution_count": 83,
     "metadata": {},
     "output_type": "execute_result"
    }
   ],
   "source": [
    "id_mat_matrix = np.insert(id_mat_matrix, 0, id_lines, axis=1)\n",
    "id_mat_matrix.shape"
   ]
  },
  {
   "cell_type": "code",
   "execution_count": 84,
   "id": "0c247877-b18f-4f88-848f-ad7b7c0f4fa0",
   "metadata": {},
   "outputs": [],
   "source": [
    "id_mat_df = pd.DataFrame(id_mat_matrix, columns=df_cols)"
   ]
  },
  {
   "cell_type": "code",
   "execution_count": 85,
   "id": "b42dcbfe-d7ed-4c0e-bd1d-e4beab4d6bcb",
   "metadata": {},
   "outputs": [
    {
     "data": {
      "text/html": [
       "<div>\n",
       "<style scoped>\n",
       "    .dataframe tbody tr th:only-of-type {\n",
       "        vertical-align: middle;\n",
       "    }\n",
       "\n",
       "    .dataframe tbody tr th {\n",
       "        vertical-align: top;\n",
       "    }\n",
       "\n",
       "    .dataframe thead th {\n",
       "        text-align: right;\n",
       "    }\n",
       "</style>\n",
       "<table border=\"1\" class=\"dataframe\">\n",
       "  <thead>\n",
       "    <tr style=\"text-align: right;\">\n",
       "      <th></th>\n",
       "      <th>sup_id</th>\n",
       "      <th>1</th>\n",
       "      <th>山东钢铁股份有限公司莱芜分公司</th>\n",
       "      <th>547-420轧机机列</th>\n",
       "      <th>下调心托辊支架</th>\n",
       "      <th>六渣池桥式起重机维修</th>\n",
       "      <th>热电车间工艺报警记录</th>\n",
       "      <th>直通截止阀</th>\n",
       "      <th>后弓子板</th>\n",
       "      <th>光面绝缘防砸鞋</th>\n",
       "      <th>...</th>\n",
       "      <th>电机/MF013-16000016/附图</th>\n",
       "      <th>高温覆膜除尘袋φ130*6000 ≤10mg/Nm3 600g</th>\n",
       "      <th>开关柜智能操控装置（开关状态指示仪）</th>\n",
       "      <th>螺栓M16×55</th>\n",
       "      <th>普通压制钢丝绳(加隔离套)φ15*6米</th>\n",
       "      <th>内六角螺丝 普通 英制 内 六角 3/8*16*3W</th>\n",
       "      <th>焊工面罩</th>\n",
       "      <th>2.5\"回收钢丝软管</th>\n",
       "      <th>超声波水表</th>\n",
       "      <th>妙管家洗衣液</th>\n",
       "    </tr>\n",
       "  </thead>\n",
       "  <tbody>\n",
       "    <tr>\n",
       "      <th>0</th>\n",
       "      <td>7</td>\n",
       "      <td>0</td>\n",
       "      <td>0</td>\n",
       "      <td>0</td>\n",
       "      <td>0</td>\n",
       "      <td>0</td>\n",
       "      <td>0</td>\n",
       "      <td>0</td>\n",
       "      <td>0</td>\n",
       "      <td>0</td>\n",
       "      <td>...</td>\n",
       "      <td>0</td>\n",
       "      <td>0</td>\n",
       "      <td>0</td>\n",
       "      <td>0</td>\n",
       "      <td>0</td>\n",
       "      <td>0</td>\n",
       "      <td>0</td>\n",
       "      <td>0</td>\n",
       "      <td>0</td>\n",
       "      <td>0</td>\n",
       "    </tr>\n",
       "    <tr>\n",
       "      <th>1</th>\n",
       "      <td>10</td>\n",
       "      <td>0</td>\n",
       "      <td>0</td>\n",
       "      <td>0</td>\n",
       "      <td>0</td>\n",
       "      <td>0</td>\n",
       "      <td>0</td>\n",
       "      <td>0</td>\n",
       "      <td>0</td>\n",
       "      <td>0</td>\n",
       "      <td>...</td>\n",
       "      <td>0</td>\n",
       "      <td>0</td>\n",
       "      <td>0</td>\n",
       "      <td>0</td>\n",
       "      <td>0</td>\n",
       "      <td>0</td>\n",
       "      <td>0</td>\n",
       "      <td>0</td>\n",
       "      <td>0</td>\n",
       "      <td>0</td>\n",
       "    </tr>\n",
       "    <tr>\n",
       "      <th>2</th>\n",
       "      <td>12</td>\n",
       "      <td>0</td>\n",
       "      <td>0</td>\n",
       "      <td>0</td>\n",
       "      <td>0</td>\n",
       "      <td>0</td>\n",
       "      <td>0</td>\n",
       "      <td>0</td>\n",
       "      <td>0</td>\n",
       "      <td>0</td>\n",
       "      <td>...</td>\n",
       "      <td>0</td>\n",
       "      <td>0</td>\n",
       "      <td>0</td>\n",
       "      <td>0</td>\n",
       "      <td>0</td>\n",
       "      <td>0</td>\n",
       "      <td>0</td>\n",
       "      <td>0</td>\n",
       "      <td>0</td>\n",
       "      <td>0</td>\n",
       "    </tr>\n",
       "  </tbody>\n",
       "</table>\n",
       "<p>3 rows × 41795 columns</p>\n",
       "</div>"
      ],
      "text/plain": [
       "   sup_id  1  山东钢铁股份有限公司莱芜分公司  547-420轧机机列  下调心托辊支架  六渣池桥式起重机维修  热电车间工艺报警记录  \\\n",
       "0       7  0                0            0        0           0           0   \n",
       "1      10  0                0            0        0           0           0   \n",
       "2      12  0                0            0        0           0           0   \n",
       "\n",
       "   直通截止阀  后弓子板  光面绝缘防砸鞋  ...  电机/MF013-16000016/附图  \\\n",
       "0      0     0        0  ...                     0   \n",
       "1      0     0        0  ...                     0   \n",
       "2      0     0        0  ...                     0   \n",
       "\n",
       "   高温覆膜除尘袋φ130*6000 ≤10mg/Nm3 600g  开关柜智能操控装置（开关状态指示仪）  螺栓M16×55  \\\n",
       "0                                0                   0         0   \n",
       "1                                0                   0         0   \n",
       "2                                0                   0         0   \n",
       "\n",
       "   普通压制钢丝绳(加隔离套)φ15*6米  内六角螺丝 普通 英制 内 六角 3/8*16*3W  焊工面罩  2.5\"回收钢丝软管  超声波水表  \\\n",
       "0                    0                           0     0           0      0   \n",
       "1                    0                           0     0           0      0   \n",
       "2                    0                           0     0           0      0   \n",
       "\n",
       "   妙管家洗衣液  \n",
       "0       0  \n",
       "1       0  \n",
       "2       0  \n",
       "\n",
       "[3 rows x 41795 columns]"
      ]
     },
     "execution_count": 85,
     "metadata": {},
     "output_type": "execute_result"
    }
   ],
   "source": [
    "id_mat_df.loc[:2]"
   ]
  },
  {
   "cell_type": "code",
   "execution_count": 86,
   "id": "c2f6730a-c4ac-4cc8-bc3e-1353f45615d9",
   "metadata": {},
   "outputs": [
    {
     "data": {
      "text/plain": [
       "1                             0\n",
       "山东钢铁股份有限公司莱芜分公司               0\n",
       "547-420轧机机列                   0\n",
       "下调心托辊支架                       0\n",
       "六渣池桥式起重机维修                    0\n",
       "                             ..\n",
       "内六角螺丝 普通 英制 内 六角 3/8*16*3W    0\n",
       "焊工面罩                          0\n",
       "2.5\"回收钢丝软管                    0\n",
       "超声波水表                         0\n",
       "妙管家洗衣液                        0\n",
       "Name: 12, Length: 41794, dtype: int64"
      ]
     },
     "execution_count": 86,
     "metadata": {},
     "output_type": "execute_result"
    }
   ],
   "source": [
    "id_mat_df = id_mat_df.set_index(keys=['sup_id'])\n",
    "id_mat_df.iloc[2]"
   ]
  },
  {
   "cell_type": "code",
   "execution_count": 74,
   "id": "a0f2be13-001a-4a14-8d36-806b8bfc33e1",
   "metadata": {},
   "outputs": [
    {
     "data": {
      "text/plain": [
       "0"
      ]
     },
     "execution_count": 74,
     "metadata": {},
     "output_type": "execute_result"
    }
   ],
   "source": [
    "id_mat_df.iloc[2]['下调心托辊支架']"
   ]
  },
  {
   "cell_type": "code",
   "execution_count": 77,
   "id": "76d7ffca-3105-44fc-8d5b-f7a52606e38b",
   "metadata": {},
   "outputs": [
    {
     "data": {
      "text/plain": [
       "25869"
      ]
     },
     "execution_count": 77,
     "metadata": {},
     "output_type": "execute_result"
    }
   ],
   "source": [
    "mat_id.loc[2][1]"
   ]
  },
  {
   "cell_type": "code",
   "execution_count": 99,
   "id": "e6c6b04e-4ce3-45f4-9a45-d1cbc2cd4d18",
   "metadata": {},
   "outputs": [
    {
     "data": {
      "text/html": [
       "<div>\n",
       "<style scoped>\n",
       "    .dataframe tbody tr th:only-of-type {\n",
       "        vertical-align: middle;\n",
       "    }\n",
       "\n",
       "    .dataframe tbody tr th {\n",
       "        vertical-align: top;\n",
       "    }\n",
       "\n",
       "    .dataframe thead th {\n",
       "        text-align: right;\n",
       "    }\n",
       "</style>\n",
       "<table border=\"1\" class=\"dataframe\">\n",
       "  <thead>\n",
       "    <tr style=\"text-align: right;\">\n",
       "      <th></th>\n",
       "      <th>MAT_NAME（物料名称）</th>\n",
       "      <th>id（供应商代码）</th>\n",
       "    </tr>\n",
       "  </thead>\n",
       "  <tbody>\n",
       "    <tr>\n",
       "      <th>33854</th>\n",
       "      <td>液压站油冷却装置</td>\n",
       "      <td>7</td>\n",
       "    </tr>\n",
       "    <tr>\n",
       "      <th>112069</th>\n",
       "      <td>割草机大修</td>\n",
       "      <td>7</td>\n",
       "    </tr>\n",
       "    <tr>\n",
       "      <th>112070</th>\n",
       "      <td>传动滚筒修复</td>\n",
       "      <td>7</td>\n",
       "    </tr>\n",
       "  </tbody>\n",
       "</table>\n",
       "</div>"
      ],
      "text/plain": [
       "       MAT_NAME（物料名称）  id（供应商代码）\n",
       "33854        液压站油冷却装置          7\n",
       "112069          割草机大修          7\n",
       "112070         传动滚筒修复          7"
      ]
     },
     "execution_count": 99,
     "metadata": {},
     "output_type": "execute_result"
    }
   ],
   "source": [
    "mat_id.loc[mat_id[\"id（供应商代码）\"]==7]"
   ]
  },
  {
   "cell_type": "code",
   "execution_count": 87,
   "id": "cf25eec7-505b-4816-8a01-e1e91f99138a",
   "metadata": {},
   "outputs": [],
   "source": [
    "for i in range(len(mat_id)):\n",
    "    iname = mat_id.iloc[i][0]\n",
    "    iid = mat_id.iloc[i][1]\n",
    "    id_mat_df.loc[iid][iname] += 1"
   ]
  },
  {
   "cell_type": "code",
   "execution_count": 101,
   "id": "13076a2e-f9ff-469f-85cc-34dc2f177043",
   "metadata": {},
   "outputs": [
    {
     "data": {
      "text/plain": [
       "Int64Index([    7,    10,    12,    21,    40,    41,    60,    99,   107,\n",
       "              151,\n",
       "            ...\n",
       "            46134, 46140, 46142, 46154, 46155, 46167, 46172, 46174, 46182,\n",
       "            46183],\n",
       "           dtype='int64', name='sup_id', length=5120)"
      ]
     },
     "execution_count": 101,
     "metadata": {},
     "output_type": "execute_result"
    }
   ],
   "source": [
    "id_mat_df.index"
   ]
  },
  {
   "cell_type": "code",
   "execution_count": 105,
   "id": "1c927397-ae59-4ec7-9fdd-d3ac89b98e79",
   "metadata": {},
   "outputs": [
    {
     "data": {
      "text/plain": [
       "张力皮带     2\n",
       "组刀橡胶圈    4\n",
       "润滑油条     1\n",
       "输送皮带     1\n",
       "Name: 21, dtype: int64"
      ]
     },
     "execution_count": 105,
     "metadata": {},
     "output_type": "execute_result"
    }
   ],
   "source": [
    "idx=21\n",
    "id_mat_df.loc[idx][id_mat_df.loc[idx]!=0]"
   ]
  },
  {
   "cell_type": "code",
   "execution_count": 106,
   "id": "6a62a925-cda3-412f-82cb-866d17ca2e70",
   "metadata": {},
   "outputs": [
    {
     "data": {
      "text/html": [
       "<div>\n",
       "<style scoped>\n",
       "    .dataframe tbody tr th:only-of-type {\n",
       "        vertical-align: middle;\n",
       "    }\n",
       "\n",
       "    .dataframe tbody tr th {\n",
       "        vertical-align: top;\n",
       "    }\n",
       "\n",
       "    .dataframe thead th {\n",
       "        text-align: right;\n",
       "    }\n",
       "</style>\n",
       "<table border=\"1\" class=\"dataframe\">\n",
       "  <thead>\n",
       "    <tr style=\"text-align: right;\">\n",
       "      <th></th>\n",
       "      <th>MAT_NAME（物料名称）</th>\n",
       "      <th>id（供应商代码）</th>\n",
       "    </tr>\n",
       "  </thead>\n",
       "  <tbody>\n",
       "    <tr>\n",
       "      <th>52343</th>\n",
       "      <td>张力皮带</td>\n",
       "      <td>21</td>\n",
       "    </tr>\n",
       "    <tr>\n",
       "      <th>98802</th>\n",
       "      <td>张力皮带</td>\n",
       "      <td>21</td>\n",
       "    </tr>\n",
       "    <tr>\n",
       "      <th>208633</th>\n",
       "      <td>组刀橡胶圈</td>\n",
       "      <td>21</td>\n",
       "    </tr>\n",
       "    <tr>\n",
       "      <th>208634</th>\n",
       "      <td>组刀橡胶圈</td>\n",
       "      <td>21</td>\n",
       "    </tr>\n",
       "    <tr>\n",
       "      <th>208635</th>\n",
       "      <td>组刀橡胶圈</td>\n",
       "      <td>21</td>\n",
       "    </tr>\n",
       "    <tr>\n",
       "      <th>208636</th>\n",
       "      <td>组刀橡胶圈</td>\n",
       "      <td>21</td>\n",
       "    </tr>\n",
       "    <tr>\n",
       "      <th>275250</th>\n",
       "      <td>润滑油条</td>\n",
       "      <td>21</td>\n",
       "    </tr>\n",
       "    <tr>\n",
       "      <th>275251</th>\n",
       "      <td>输送皮带</td>\n",
       "      <td>21</td>\n",
       "    </tr>\n",
       "  </tbody>\n",
       "</table>\n",
       "</div>"
      ],
      "text/plain": [
       "       MAT_NAME（物料名称）  id（供应商代码）\n",
       "52343            张力皮带         21\n",
       "98802            张力皮带         21\n",
       "208633          组刀橡胶圈         21\n",
       "208634          组刀橡胶圈         21\n",
       "208635          组刀橡胶圈         21\n",
       "208636          组刀橡胶圈         21\n",
       "275250           润滑油条         21\n",
       "275251           输送皮带         21"
      ]
     },
     "execution_count": 106,
     "metadata": {},
     "output_type": "execute_result"
    }
   ],
   "source": [
    "mat_id.loc[mat_id[\"id（供应商代码）\"]==idx]"
   ]
  },
  {
   "cell_type": "code",
   "execution_count": null,
   "id": "056053c4-611c-460c-93de-5557b6f0269b",
   "metadata": {},
   "outputs": [],
   "source": [
    "# id_mat_df.to_csv(\"./id_mat_matrix.csv\", index=True)\n",
    "id_mat_df = pd.read_csv(\"./id_mat_matrix.csv\", index_col=0)"
   ]
  },
  {
   "cell_type": "code",
   "execution_count": null,
   "id": "e94eb355-9390-4b6e-9629-0a7d8e0d2ef5",
   "metadata": {},
   "outputs": [],
   "source": [
    "mat_id = pd.read_csv(\"./Mat_id.csv\")"
   ]
  }
 ],
 "metadata": {
  "kernelspec": {
   "display_name": "PyTorch-1.8",
   "language": "python",
   "name": "pytorch-1.8"
  },
  "language_info": {
   "codemirror_mode": {
    "name": "ipython",
    "version": 3
   },
   "file_extension": ".py",
   "mimetype": "text/x-python",
   "name": "python",
   "nbconvert_exporter": "python",
   "pygments_lexer": "ipython3",
   "version": "3.7.10"
  }
 },
 "nbformat": 4,
 "nbformat_minor": 5
}
